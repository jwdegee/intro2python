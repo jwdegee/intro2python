{
 "cells": [
  {
   "cell_type": "markdown",
   "metadata": {
    "id": "VeK941GNBmgQ"
   },
   "source": [
    "# Practical 1 (pure Python)"
   ]
  },
  {
   "cell_type": "markdown",
   "metadata": {},
   "source": [
    "**The riddle:** 50 prisoners are in solitary cells, unable to see, speak or communicate in any way from those solitary cells with each other. There's a central living room with one light bulb; the bulb is initially off. No prisoner can see the light bulb from his own cell. Everyday, the warden picks a prisoner at random, and that prisoner goes to the central living room. While there, the prisoner can toggle the bulb if he or she wishes. Also, the prisoner has the option of asserting the claim that all 50 prisoners have been to the living room. If this assertion is false (that is, some prisoners still haven't been to the living room), all 500 prisoners will be shot for their stupidity. However, if it is indeed true, all prisoners are set free. Thus, the assertion should only be made if the prisoner is 100% certain of its validity. Before the random picking begins, the prisoners are allowed to get together to discuss a plan. So ---- what plan should they agree on, so that eventually, someone will make a correct assertion?\n",
    "\n",
    "**Question:** How can the prisoners tell, with certainty, that all 50 of them have visited the central living room with the light bulb?\n",
    "\n",
    "**Assignment:** Implement the solution"
   ]
  },
  {
   "cell_type": "code",
   "execution_count": null,
   "metadata": {
    "colab": {
     "base_uri": "https://localhost:8080/"
    },
    "id": "ezLzeMkJCceQ",
    "outputId": "b06e7e26-f283-4422-b85c-20506e601104"
   },
   "outputs": [],
   "source": [
    "from random import choice\n",
    "\n",
    "def prisonser(N=50, printing=False):\n",
    "        \n",
    "    counter_ID = 0 # this prisoner is going to count\n",
    "    counts = 0 # counter's counts (needs to become N-1)\n",
    "    turns = 0 # keeps track of the number of turns (days) required\n",
    "    flipped_switch = [0 for _ in range(N)] # keeps track of which prisoners have flipped the switch\n",
    "    light = False # the light is turned off at t=0\n",
    "\n",
    "    while (counts < N-1):\n",
    "        turns += 1\n",
    "        prisoner=choice(range(N)) # choose a prisoner\n",
    "        if prisoner!=counter_ID:\n",
    "            if flipped_switch[prisoner]==False:\n",
    "                if light==False:\n",
    "                    light=True\n",
    "                    flipped_switch[prisoner]=1\n",
    "        if prisoner==counter_ID:\n",
    "            if light==True:\n",
    "                light=False\n",
    "                counts=counts+1\n",
    "        if printing:\n",
    "            print( \"prisoner: {}\\nlight: {}\\nflipped switch: {}\".format(prisoner, light, flipped_switch) )\n",
    "    return(turns)\n",
    "\n",
    "nr_prisoners = 50\n",
    "turns = prisonser(N=nr_prisoners, printing=False)\n",
    "print( \"total turns (days) required: {}\".format(turns))"
   ]
  },
  {
   "cell_type": "code",
   "execution_count": null,
   "metadata": {},
   "outputs": [],
   "source": [
    "def prisonser(N=50, printing=False):\n",
    "        \n",
    "    counter_ID = 0 # this prisoner is going to count\n",
    "    turns = 0 # keeps track of the number of turns (days) required\n",
    "    flipped_switch = [] # keeps track of which prisoners have flipped the switch\n",
    "    light = False # the light is turned off at t=0\n",
    "    counts = 0\n",
    "    while (counts < N-1):\n",
    "        turns += 1\n",
    "        prisoner=choice(range(N)) # choose a prisoner\n",
    "        if prisoner==counter_ID:\n",
    "            if light==True:\n",
    "                light=False\n",
    "                counts=counts+1\n",
    "        else:\n",
    "            if prisoner not in flipped_switch:\n",
    "                if light==False:\n",
    "                    light=True\n",
    "                    flipped_switch.append(prisoner)\n",
    "\n",
    "        if printing:\n",
    "            print( \"prisoner: {}\\nlight: {}\\nflipped switch: {}\".format(prisoner, light, flipped_switch) )\n",
    "    return(turns)\n",
    "\n",
    "nr_prisoners = 50\n",
    "turns = prisonser(N=nr_prisoners, printing=False)\n",
    "print( \"total turns (days) required: {}\".format(turns))"
   ]
  },
  {
   "cell_type": "markdown",
   "metadata": {},
   "source": [
    "## Miscellaneous short exercises:"
   ]
  },
  {
   "cell_type": "markdown",
   "metadata": {},
   "source": [
    "**Question 1:** \n",
    "Write a program that returns numbers which are divisible by 7 but are not a multiple of 5,\n",
    "between 2000 and 3200 (both included). The numbers should be returned in a list.\n",
    "\n",
    "Hint: Consider use ```range(#begin, #end)``` method"
   ]
  },
  {
   "cell_type": "code",
   "execution_count": null,
   "metadata": {},
   "outputs": [],
   "source": [
    "l=[]\n",
    "for i in range(2000, 3201):\n",
    "    if (i%7==0) and (i%5!=0):\n",
    "        l.append(i)\n",
    "print(l)"
   ]
  },
  {
   "cell_type": "markdown",
   "metadata": {},
   "source": [
    "**Question 2:** \n",
    "Write a program that computes the factorial of a given number.\n",
    "\n",
    "\n",
    "Suppose the following input is supplied to the program:\n",
    "\n",
    "8\n",
    "\n",
    "Then, the output should be:\n",
    "\n",
    "40320"
   ]
  },
  {
   "cell_type": "code",
   "execution_count": null,
   "metadata": {},
   "outputs": [],
   "source": [
    "def fact(x):\n",
    "    total = 1\n",
    "    for v in range(x, 0, -1):\n",
    "        total = total * v\n",
    "    return total\n",
    "\n",
    "print(fact(8))"
   ]
  },
  {
   "cell_type": "code",
   "execution_count": null,
   "metadata": {},
   "outputs": [],
   "source": [
    "def fact_v2(x):\n",
    "    if x == 0:\n",
    "        return 1\n",
    "    return x * fact_v2(x - 1)\n",
    "print(fact_v2(8))"
   ]
  },
  {
   "cell_type": "markdown",
   "metadata": {},
   "source": [
    "**Question 3:** \n",
    "With a given integral number n, write a program to generate a dictionary that contains (i, i*i) such that is an integral number between 1 and n (both included). The program should print the dictionary.\n",
    "\n",
    "Suppose the following input is supplied to the program:\n",
    "\n",
    "8\n",
    "\n",
    "Then, the output should be:\n",
    "\n",
    "```{1: 1, 2: 4, 3: 9, 4: 16, 5: 25, 6: 36, 7: 49, 8: 64}```"
   ]
  },
  {
   "cell_type": "code",
   "execution_count": null,
   "metadata": {},
   "outputs": [],
   "source": [
    "# n = 8\n",
    "# d = {}\n",
    "# for i in range(1,n+1):\n",
    "#     d[i]=i*i\n",
    "# print(d)\n",
    "\n",
    "\n",
    "n = 8\n",
    "{i:i*i for i in range(1,n+1)}\n",
    "\n"
   ]
  },
  {
   "cell_type": "markdown",
   "metadata": {},
   "source": [
    "**Question 4:**\n",
    "Write a program which takes 2 digits, X,Y as input and generates a 2-dimensional array. The element value in the i-th row and j-th column of the array should be i*j.\n",
    "\n",
    "Suppose the following inputs are given to the program:\n",
    "\n",
    "```X=3; Y=5```\n",
    "\n",
    "Then, the output of the program should be:\n",
    "\n",
    "```[[0, 0, 0, 0, 0], [0, 1, 2, 3, 4], [0, 2, 4, 6, 8]]``` "
   ]
  },
  {
   "cell_type": "code",
   "execution_count": null,
   "metadata": {},
   "outputs": [],
   "source": [
    "def make_multilist(x,y):\n",
    "    multilist = [[0 for col in range(y)] for row in range(x)]\n",
    "    for row in range(x):\n",
    "        for col in range(y):\n",
    "            multilist[row][col]= row*col\n",
    "    return multilist\n",
    "\n",
    "print(make_multilist(3,5))"
   ]
  },
  {
   "cell_type": "code",
   "execution_count": null,
   "metadata": {},
   "outputs": [],
   "source": []
  },
  {
   "cell_type": "markdown",
   "metadata": {},
   "source": [
    "**Question 5:**\n",
    "Write a program that accepts a comma separated sequence of words as input and prints the words in a comma-separated sequence after sorting them alphabetically.\n",
    "\n",
    "Suppose the following input is supplied to the program:\n",
    "\n",
    "```'without,hello,bag,world'```\n",
    "\n",
    "Then, the output should be:\n",
    "\n",
    "```'bag,hello,without,world'```"
   ]
  },
  {
   "cell_type": "code",
   "execution_count": null,
   "metadata": {},
   "outputs": [],
   "source": [
    "def sort_words(string):\n",
    "    items = string.split(',')\n",
    "    items.sort()\n",
    "    return ','.join(items)\n",
    "\n",
    "string = 'without,hello,bag,world'\n",
    "print(sort_words(string))"
   ]
  },
  {
   "cell_type": "code",
   "execution_count": null,
   "metadata": {},
   "outputs": [],
   "source": [
    "string = 'without,hello,bag,world'\n"
   ]
  },
  {
   "cell_type": "markdown",
   "metadata": {},
   "source": [
    "**Question 6:**\n",
    "Write a program that accepts a sentence and calculate the number of letters and digits.\n",
    "\n",
    "Suppose the following input is supplied to the program:\n",
    "\n",
    "```'hello world! 123'``` \n",
    "\n",
    "Then, the output should be:\n",
    "\n",
    "```LETTERS: 10```\n",
    "\n",
    "```DIGITS: 3```"
   ]
  },
  {
   "cell_type": "code",
   "execution_count": null,
   "metadata": {},
   "outputs": [],
   "source": [
    "def count_letters_digits(string):\n",
    "    d={\"DIGITS\":0, \"LETTERS\":0}\n",
    "    for c in string:\n",
    "        if c.isdigit():\n",
    "            d[\"DIGITS\"]+=1\n",
    "        elif c.isalpha():\n",
    "            d[\"LETTERS\"]+=1\n",
    "        else:\n",
    "            pass\n",
    "    print(\"LETTERS: {}\".format(d[\"LETTERS\"]))\n",
    "    print(\"DIGITS: {}\".format(d[\"DIGITS\"]))\n",
    "\n",
    "string = 'hello world! 123'\n",
    "count_letters_digits(string)"
   ]
  },
  {
   "cell_type": "code",
   "execution_count": null,
   "metadata": {},
   "outputs": [],
   "source": [
    "print(\"p-value: {}\".format(round(0.00432,3)))\n",
    "print(\"p-value: \" + str(0.01))"
   ]
  }
 ],
 "metadata": {
  "colab": {
   "provenance": []
  },
  "kernelspec": {
   "display_name": "Python 3 (ipykernel)",
   "language": "python",
   "name": "python3"
  },
  "language_info": {
   "codemirror_mode": {
    "name": "ipython",
    "version": 3
   },
   "file_extension": ".py",
   "mimetype": "text/x-python",
   "name": "python",
   "nbconvert_exporter": "python",
   "pygments_lexer": "ipython3",
   "version": "3.10.8"
  }
 },
 "nbformat": 4,
 "nbformat_minor": 1
}
