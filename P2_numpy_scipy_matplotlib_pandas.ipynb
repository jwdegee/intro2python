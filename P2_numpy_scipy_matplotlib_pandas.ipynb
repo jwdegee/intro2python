{
 "cells": [
  {
   "cell_type": "markdown",
   "metadata": {
    "id": "rGfkykKh3Nwg"
   },
   "source": [
    "# Scipy / matplotlib tutorial"
   ]
  },
  {
   "cell_type": "markdown",
   "metadata": {},
   "source": [
    "Please copy your solution of the prisoner riddle here:"
   ]
  },
  {
   "cell_type": "code",
   "execution_count": null,
   "metadata": {},
   "outputs": [],
   "source": []
  },
  {
   "cell_type": "markdown",
   "metadata": {},
   "source": [
    "How many turns are required for a population of 50 prisoners? Repeat this simulation 1000 times and plot a histogram to visualize the uncertainty."
   ]
  },
  {
   "cell_type": "code",
   "execution_count": null,
   "metadata": {},
   "outputs": [],
   "source": []
  },
  {
   "cell_type": "markdown",
   "metadata": {},
   "source": [
    "Plot the number of required turns against the prisoner population size (ranging from 50 to 200)."
   ]
  },
  {
   "cell_type": "code",
   "execution_count": null,
   "metadata": {},
   "outputs": [],
   "source": []
  },
  {
   "cell_type": "markdown",
   "metadata": {},
   "source": [
    "What kind of relationship do we see? Can you parameterize this, and fit a function?"
   ]
  },
  {
   "cell_type": "code",
   "execution_count": null,
   "metadata": {},
   "outputs": [],
   "source": []
  },
  {
   "cell_type": "markdown",
   "metadata": {},
   "source": [
    "Plot the same, but now extrapolate untill a prisoner population size of 400."
   ]
  },
  {
   "cell_type": "code",
   "execution_count": null,
   "metadata": {},
   "outputs": [],
   "source": []
  },
  {
   "cell_type": "markdown",
   "metadata": {},
   "source": [
    "# Pandas tutorial\n",
    "\n",
    "We will work with some simulated data from a typical 2-alternative forced choice reaction time task. Subjects see two Gabors on the left and right side of the screen and have to judge which Gabor is of higher contrast. There is an easy and hard condition, which is manipulated by the signal strength: the contrast difference between the two Gabors. It is a pharmacolical study, and subjects partipate once after taking a drug, and once after taking a placebo pill.\n",
    "\n",
    "Every row in the dataframe corresponds to one trial of the experiment. For every trial, we store the following information across the columns:\n",
    "- 'subj_idx' codes for the subject identity (names)\n",
    "- 'stimulus' codes for the location of higher contrast Gabor (0=left; 1=right).\n",
    "- 'response' codes for the subject's choice (0=left; 1=right)\n",
    "- 'rt' codes for the subjects reaction time (in seconds)\n",
    "- 'signal_strength' codes for signal strength ('weak' or 'strong')\n",
    "- 'drug' codes for drug condition ('placebo' or 'drug')"
   ]
  },
  {
   "cell_type": "code",
   "execution_count": 1,
   "metadata": {
    "id": "WvITjETRPaEP"
   },
   "outputs": [
    {
     "name": "stdout",
     "output_type": "stream",
     "text": [
      "Intel MKL WARNING: Support of Intel(R) Streaming SIMD Extensions 4.2 (Intel(R) SSE4.2) enabled only processors has been deprecated. Intel oneAPI Math Kernel Library 2025.0 will require Intel(R) Advanced Vector Extensions (Intel(R) AVX) instructions.\n",
      "Intel MKL WARNING: Support of Intel(R) Streaming SIMD Extensions 4.2 (Intel(R) SSE4.2) enabled only processors has been deprecated. Intel oneAPI Math Kernel Library 2025.0 will require Intel(R) Advanced Vector Extensions (Intel(R) AVX) instructions.\n"
     ]
    }
   ],
   "source": [
    "import numpy as np\n",
    "import pandas as pd\n",
    "import scipy as sp\n",
    "from scipy import stats\n",
    "import matplotlib.pyplot as plt"
   ]
  },
  {
   "cell_type": "markdown",
   "metadata": {},
   "source": [
    "Let's first load the data:"
   ]
  },
  {
   "cell_type": "code",
   "execution_count": null,
   "metadata": {},
   "outputs": [],
   "source": [
    "df = pd.read_csv('data.csv')"
   ]
  },
  {
   "cell_type": "markdown",
   "metadata": {
    "id": "fKDSjyGm4T-t"
   },
   "source": [
    "Let's start with inspecting the dataframe. Print the first five row of the dataframe:"
   ]
  },
  {
   "cell_type": "code",
   "execution_count": null,
   "metadata": {
    "id": "cyk0NHj36fAc"
   },
   "outputs": [],
   "source": []
  },
  {
   "cell_type": "markdown",
   "metadata": {
    "id": "fkgM4el9Ix8W"
   },
   "source": [
    "Print the number of rows in the dataframe:\n"
   ]
  },
  {
   "cell_type": "code",
   "execution_count": 2,
   "metadata": {
    "id": "zHHZ2PO84YHj"
   },
   "outputs": [],
   "source": []
  },
  {
   "cell_type": "markdown",
   "metadata": {
    "id": "cA606umvI23h"
   },
   "source": [
    "Print all columns in the dataframe:"
   ]
  },
  {
   "cell_type": "code",
   "execution_count": null,
   "metadata": {
    "id": "4Et-OCBfRZLF"
   },
   "outputs": [],
   "source": []
  },
  {
   "cell_type": "markdown",
   "metadata": {
    "id": "z6sKgNDrI5kF"
   },
   "source": [
    "Print all unique subjects in the dataframe:"
   ]
  },
  {
   "cell_type": "code",
   "execution_count": null,
   "metadata": {
    "id": "n6ebNPpoZsPx"
   },
   "outputs": [],
   "source": []
  },
  {
   "cell_type": "markdown",
   "metadata": {
    "id": "GX8ISzI7I9cE"
   },
   "source": [
    "Print all unique stimuli in the dataframe:"
   ]
  },
  {
   "cell_type": "code",
   "execution_count": null,
   "metadata": {
    "id": "CaqymlQo5Cab"
   },
   "outputs": [],
   "source": []
  },
  {
   "cell_type": "markdown",
   "metadata": {
    "id": "664O30-pI_1T"
   },
   "source": [
    "Print all unique responses in the dataframe:"
   ]
  },
  {
   "cell_type": "code",
   "execution_count": null,
   "metadata": {
    "id": "0ZC7vdVX5CmW"
   },
   "outputs": [],
   "source": []
  },
  {
   "cell_type": "markdown",
   "metadata": {
    "id": "NF3NBzyiJCQ8"
   },
   "source": [
    "Print all unique difficulties in the dataframe:"
   ]
  },
  {
   "cell_type": "code",
   "execution_count": null,
   "metadata": {
    "id": "j7xilqs25KN8"
   },
   "outputs": [],
   "source": []
  },
  {
   "cell_type": "markdown",
   "metadata": {
    "id": "C54qIxTcJE2k"
   },
   "source": [
    "Print all unique drug conditions in the dataframe:"
   ]
  },
  {
   "cell_type": "code",
   "execution_count": null,
   "metadata": {
    "id": "P-QJmuRd5PSm"
   },
   "outputs": [],
   "source": []
  },
  {
   "cell_type": "markdown",
   "metadata": {
    "id": "VRqA6OdkJIXC"
   },
   "source": [
    "Make a histogram of all reaction times in the dataframe:"
   ]
  },
  {
   "cell_type": "code",
   "execution_count": null,
   "metadata": {
    "id": "njZn2SV65WSR"
   },
   "outputs": [],
   "source": []
  },
  {
   "cell_type": "markdown",
   "metadata": {
    "id": "3p4HgWOjJLXh"
   },
   "source": [
    "Index the dataframe by the strong signals:"
   ]
  },
  {
   "cell_type": "code",
   "execution_count": null,
   "metadata": {
    "id": "BjU45Pii50oU"
   },
   "outputs": [],
   "source": []
  },
  {
   "cell_type": "markdown",
   "metadata": {
    "id": "iRScgNspJPU9"
   },
   "source": [
    "Decisions based on strong signals are typically made a little faster than based on weak signals (in this data that is not really the case however...). Make separate histograms for the reaction times of low and high signal strength trials:"
   ]
  },
  {
   "cell_type": "code",
   "execution_count": null,
   "metadata": {
    "id": "TOK1IjbM5qbQ"
   },
   "outputs": [],
   "source": []
  },
  {
   "cell_type": "markdown",
   "metadata": {
    "id": "fX34ax32JZUz"
   },
   "source": [
    "Index the dataframe by the first subject:"
   ]
  },
  {
   "cell_type": "code",
   "execution_count": null,
   "metadata": {
    "id": "mNyBzkrSZ26h"
   },
   "outputs": [],
   "source": []
  },
  {
   "cell_type": "markdown",
   "metadata": {
    "id": "f-PVL1heJc8G"
   },
   "source": [
    "Add a column that codes for whether the subject made correct response on each trial:"
   ]
  },
  {
   "cell_type": "code",
   "execution_count": null,
   "metadata": {
    "id": "3z9yXyTCSYIf"
   },
   "outputs": [],
   "source": []
  },
  {
   "cell_type": "markdown",
   "metadata": {
    "id": "xrTC8r0MJhgS"
   },
   "source": [
    "With a for-loop, compute the fraction of correct trials for each subject. Add those to an empty list."
   ]
  },
  {
   "cell_type": "code",
   "execution_count": null,
   "metadata": {
    "id": "FqlEZWHiZUd8"
   },
   "outputs": [],
   "source": []
  },
  {
   "cell_type": "markdown",
   "metadata": {
    "id": "meV47sx8JmCx"
   },
   "source": [
    "With a nested for-loop, compute the fraction of correct trials for each subject, each drug condition and each signal strength condition:"
   ]
  },
  {
   "cell_type": "code",
   "execution_count": null,
   "metadata": {
    "id": "LRy1DP7pao0Y"
   },
   "outputs": [],
   "source": []
  },
  {
   "cell_type": "markdown",
   "metadata": {
    "id": "GKWpMRqUJqpH"
   },
   "source": [
    "Which value belongs to which subject, drug condition and signal strength? Note how this is going to require a lot of bookkeeping...."
   ]
  },
  {
   "cell_type": "markdown",
   "metadata": {
    "id": "67qUOdfgJ1tC"
   },
   "source": [
    "With a groupby statement, compute the fraction of correct trials for each subject:"
   ]
  },
  {
   "cell_type": "code",
   "execution_count": null,
   "metadata": {
    "id": "E3bh0z5-btzP"
   },
   "outputs": [],
   "source": []
  },
  {
   "cell_type": "markdown",
   "metadata": {
    "id": "8x49ww4GJ6Oe"
   },
   "source": [
    "With a groupby statement, compute the fraction of correct trials for each subject, each drug condition and each signal strength condition. Put the result in a new variable called 'res' and print this."
   ]
  },
  {
   "cell_type": "code",
   "execution_count": null,
   "metadata": {
    "id": "gcJ_5wDK8_1n"
   },
   "outputs": [],
   "source": []
  },
  {
   "cell_type": "markdown",
   "metadata": {
    "id": "wH341DAZ-BU1"
   },
   "source": [
    "The result is a dataframe that contains a MultiIndex. This is also known as a hierarchical index dataframe. This allows you to have multiple columns acting as a row identifier and multiple rows acting as a header identifier. With MultiIndex, you can do some sophisticated data analysis, especially for working with higher dimensional data. Accessing data is the first step when working on a MultiIndex DataFrame.\n",
    "\n",
    "the .loc method now takes values, one for each MultiIndex. For example, we can get the accuracy scores of subject 0, in the placebo condition, and for each signal strength, with: \n",
    "\n",
    "```\n",
    "res.loc[0, 'placebo', :]\n",
    "```"
   ]
  },
  {
   "cell_type": "markdown",
   "metadata": {
    "id": "nUo-Opk2KAsK"
   },
   "source": [
    "Index 'res' and obtain the accuracy scores of subjects for the strong signal strength trials in the placebo sessions:"
   ]
  },
  {
   "cell_type": "code",
   "execution_count": null,
   "metadata": {
    "id": "PGqPWkQKBI3l"
   },
   "outputs": [],
   "source": []
  },
  {
   "cell_type": "markdown",
   "metadata": {
    "id": "KDIZMfFfKGHA"
   },
   "source": [
    "Do the same for the low signal strength trials in placebo sessions:"
   ]
  },
  {
   "cell_type": "code",
   "execution_count": null,
   "metadata": {
    "id": "nkmi8nVsb55Y"
   },
   "outputs": [],
   "source": []
  },
  {
   "cell_type": "markdown",
   "metadata": {
    "id": "i1aT9AELKKeO"
   },
   "source": [
    "There seems to be a difference, but is it statistically significant? Use a paired samples t-test."
   ]
  },
  {
   "cell_type": "code",
   "execution_count": null,
   "metadata": {
    "id": "j59rjFARBpZV"
   },
   "outputs": [],
   "source": []
  },
  {
   "cell_type": "markdown",
   "metadata": {
    "id": "JvP-6qbUKUYF"
   },
   "source": [
    "Suppose we want to test whether there is an effect of drug condition on accuracy, but irrespective of signal strength. Now, we need to 'collapse' across signal strength; in other words, for every subject and drug condition, we need to take the mean across the two signal strengts. Do this with a two groupby statements (chained)."
   ]
  },
  {
   "cell_type": "code",
   "execution_count": null,
   "metadata": {
    "id": "Bm62rKaECHmw"
   },
   "outputs": [],
   "source": []
  },
  {
   "cell_type": "markdown",
   "metadata": {
    "id": "dkuWEMwFKZqc"
   },
   "source": [
    "Check whether there is a significant difference of drug on accuracy:"
   ]
  },
  {
   "cell_type": "code",
   "execution_count": null,
   "metadata": {
    "id": "HvguLo1pDVcj"
   },
   "outputs": [],
   "source": []
  },
  {
   "cell_type": "markdown",
   "metadata": {
    "id": "hulTrJyNKeEa"
   },
   "source": [
    "In the Results section of your manuscript, you might want to report the grand average accury for each drug and signal strength condition. So, first you want to compute the accuracy for each subject, drug and signal strength condition, and then take the average across subjects, within each of the four cells of the design. Do this in one line: "
   ]
  },
  {
   "cell_type": "code",
   "execution_count": null,
   "metadata": {
    "id": "zZ_Ma7jPcQVg"
   },
   "outputs": [],
   "source": []
  },
  {
   "cell_type": "markdown",
   "metadata": {
    "id": "ZBzCIr5pK0Bo"
   },
   "source": [
    "As rigorous scientists, we also want to report the variability across subjects. So, do the same, but now take the standard error of the mean across subjects:"
   ]
  },
  {
   "cell_type": "code",
   "execution_count": null,
   "metadata": {
    "id": "Hmb-x8IDcyG9"
   },
   "outputs": [],
   "source": []
  },
  {
   "cell_type": "markdown",
   "metadata": {
    "id": "ywIlvI_SFrSP"
   },
   "source": [
    "Rather than taking the mean, we can apply any arbitrary function. For example,we might be interested to compute signal detection theoretic measures d' and criterion (https://en.wikipedia.org/wiki/Detection_theory). \n",
    "\n",
    "First, compute the total number of hits, misses, false alarms, and correct\n",
    "rejects.\n",
    "- Hit: when the stimulus was 1 and the subject (correctly) responded with 1\n",
    "- Miss: when the stimulus was 1 and the subject (incorrectly) responded with 0\n",
    "- False alarm: when the stimulus was 0 and the subject (incorrectly) responded with 1\n",
    "- Correct reject: when the stimulus was 0 and the subject (correctly) responded with 0"
   ]
  },
  {
   "cell_type": "code",
   "execution_count": null,
   "metadata": {
    "id": "9TusS1yWdHtf"
   },
   "outputs": [],
   "source": []
  },
  {
   "cell_type": "markdown",
   "metadata": {
    "id": "GSPlyxO1G4td"
   },
   "source": [
    "Then, compute the hit-rate and false alarm-rates:\n",
    "- hit_rate: fraction of hits on all stimulus==1 trials\n",
    "- fa_rate: fraction of false alarm on all stimulus==0 trials"
   ]
  },
  {
   "cell_type": "code",
   "execution_count": null,
   "metadata": {
    "id": "JQW9bzbXHMp7"
   },
   "outputs": [],
   "source": []
  },
  {
   "cell_type": "markdown",
   "metadata": {
    "id": "4NGEzO2ZHPcz"
   },
   "source": [
    "In signal detection theory, these measures are z-scored in the following way:"
   ]
  },
  {
   "cell_type": "code",
   "execution_count": null,
   "metadata": {
    "id": "Mayav75XHUnJ"
   },
   "outputs": [],
   "source": [
    "hit_rate_z = sp.stats.norm.isf(1-hit_rate)\n",
    "fa_rate_z = sp.stats.norm.isf(1-fa_rate)"
   ]
  },
  {
   "cell_type": "markdown",
   "metadata": {
    "id": "dBXcbPnOHYYf"
   },
   "source": [
    "You can compute signal detection theoretic d' and criterion as follows:\n",
    "- d': difference between z-scored hit and false alarm rates\n",
    "- criterion: average of z-scored hit and false alarm rates, times -1"
   ]
  },
  {
   "cell_type": "code",
   "execution_count": null,
   "metadata": {
    "id": "T9u_RNhRHvwc"
   },
   "outputs": [],
   "source": []
  },
  {
   "cell_type": "markdown",
   "metadata": {
    "id": "4g0yIyuDH1pi"
   },
   "source": [
    "Now put everything in a function that takes a dataframe as input, and returns the d' and criterion"
   ]
  },
  {
   "cell_type": "code",
   "execution_count": null,
   "metadata": {
    "id": "MyYPVp2kH06f"
   },
   "outputs": [],
   "source": []
  },
  {
   "cell_type": "markdown",
   "metadata": {
    "id": "BOs9oQEbII_O"
   },
   "source": [
    "Apply this function to every subject, drug and signal strenth condition."
   ]
  },
  {
   "cell_type": "code",
   "execution_count": null,
   "metadata": {
    "id": "HQw66GxrGKq7"
   },
   "outputs": [],
   "source": []
  },
  {
   "cell_type": "markdown",
   "metadata": {},
   "source": [
    "Use seaborn to make boxplots of d', separately for each signal strength and drug condition."
   ]
  },
  {
   "cell_type": "code",
   "execution_count": null,
   "metadata": {},
   "outputs": [],
   "source": [
    "import seaborn as sns\n"
   ]
  },
  {
   "cell_type": "markdown",
   "metadata": {},
   "source": [
    "Use a repeated measures ANOVA to test for main effects of signal and drug."
   ]
  },
  {
   "cell_type": "code",
   "execution_count": null,
   "metadata": {},
   "outputs": [],
   "source": [
    "from statsmodels.stats.anova import AnovaRM\n"
   ]
  },
  {
   "cell_type": "markdown",
   "metadata": {},
   "source": [
    "Do the same for criterion."
   ]
  },
  {
   "cell_type": "code",
   "execution_count": null,
   "metadata": {},
   "outputs": [],
   "source": []
  },
  {
   "cell_type": "markdown",
   "metadata": {},
   "source": [
    "In a scatter plot, plot subject's choice bias (criterion) on placebo sessions versus the change in bias for drug compared to placebo. Print the correlation coefficient."
   ]
  },
  {
   "cell_type": "code",
   "execution_count": null,
   "metadata": {},
   "outputs": [],
   "source": []
  },
  {
   "cell_type": "markdown",
   "metadata": {},
   "source": [
    "Let's add 95% confidence intervals. You will need to bootstrap (https://en.wikipedia.org/wiki/Bootstrapping_(statistics)) those. You can use \n",
    "\n",
    "```df.groupby(['subj_idx', 'drug']).sample(frac=1, replace=True)``` \n",
    "\n",
    "to resample your dataframe."
   ]
  },
  {
   "cell_type": "code",
   "execution_count": null,
   "metadata": {},
   "outputs": [],
   "source": []
  },
  {
   "cell_type": "markdown",
   "metadata": {},
   "source": [
    "This across subject's correlation looks compelling! The conservative subjects (postive on x) get less conservative when taking the drug (negative on y), and the liberal subjects (negative on x) get less liberal when taking the drug (positive on y). Can we conclude that this drug reduces subject's choice bias, irrespective of it's sign?\n",
    "\n",
    "We have to be very aware of regression towards the mean: the phenomenon where if one sample of a random variable is extreme, the next sampling of the same random variable is likely to be closer to its mean (https://en.wikipedia.org/wiki/Regression_toward_the_mean).\n",
    "\n",
    "We can correct for this with a permutation test. You can do this by computing the same across-subject correlation 10K times, each time using randomly assigned “placebo” vs “drug” labels of each subject. Then one can comapre the observed correlation coefficient (reflecting the combined effects of regression to the mean and the true relationship) against this permutation distribution.\n",
    "\n",
    "Implement this analysis."
   ]
  },
  {
   "cell_type": "code",
   "execution_count": null,
   "metadata": {},
   "outputs": [],
   "source": []
  }
 ],
 "metadata": {
  "colab": {
   "provenance": []
  },
  "kernelspec": {
   "display_name": "Python 3 (ipykernel)",
   "language": "python",
   "name": "python3"
  },
  "language_info": {
   "codemirror_mode": {
    "name": "ipython",
    "version": 3
   },
   "file_extension": ".py",
   "mimetype": "text/x-python",
   "name": "python",
   "nbconvert_exporter": "python",
   "pygments_lexer": "ipython3",
   "version": "3.10.8"
  }
 },
 "nbformat": 4,
 "nbformat_minor": 1
}
