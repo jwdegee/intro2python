{
  "nbformat": 4,
  "nbformat_minor": 0,
  "metadata": {
    "colab": {
      "provenance": []
    },
    "kernelspec": {
      "name": "python3",
      "display_name": "Python 3"
    },
    "language_info": {
      "name": "python"
    }
  },
  "cells": [
    {
      "cell_type": "markdown",
      "source": [
        "**The riddle:** 50 prisoners are in solitary cells, unable to see, speak or communicate in any way from those solitary cells with each other. There's a central living room with one light bulb; the bulb is initially off. No prisoner can see the light bulb from his own cell. Everyday, the warden picks a prisoner at random, and that prisoner goes to the central living room. While there, the prisoner can toggle the bulb if he or she wishes. Also, the prisoner has the option of asserting the claim that all 50 prisoners have been to the living room. If this assertion is false (that is, some prisoners still haven't been to the living room), all 50 prisoners will be shot for their stupidity. However, if it is indeed true, all prisoners are set free. Thus, the assertion should only be made if the prisoner is 100% certain of its validity. Before the random picking begins, the prisoners are allowed to get together to discuss a plan. So ---- what plan should they agree on, so that eventually, someone will make a correct assertion?\n",
        "\n",
        "**Question:** How can the prisoners tell, with certainty, that all 50 of them have visited the central living room with the light bulb?\n",
        "\n",
        "**Assignment:**\n",
        "- Implement the solution\n",
        "- How many turns are required for a population of 50 prisoners? Repeat this simulation 1000 times and plot a histogram to visualize the uncertainty.\n",
        "- Plot the number of required turns against the prisoner population size (ranging from 50 to 200).\n",
        "- What kind of relationship do we see? Can you parameterize this, and fit a function?"
      ],
      "metadata": {
        "id": "VeK941GNBmgQ"
      }
    },
    {
      "cell_type": "code",
      "source": [
        "from random import choice\n",
        "\n",
        "def prisonser(N=50):        \n",
        "    return(turns)\n",
        "\n",
        "nr_prisoners = 50\n",
        "turns = prisonser(N=nr_prisoners)\n",
        "\n",
        "print(\"total turns (days) required: {}\".format(turns))"
      ],
      "metadata": {
        "colab": {
          "base_uri": "https://localhost:8080/"
        },
        "id": "ezLzeMkJCceQ",
        "outputId": "5a2fb45e-a90a-42eb-f7c6-8ba061371666"
      },
      "execution_count": null,
      "outputs": [
        {
          "output_type": "stream",
          "name": "stdout",
          "text": [
            "total turns (days) required: 12454\n"
          ]
        }
      ]
    },
    {
      "cell_type": "code",
      "source": [],
      "metadata": {
        "id": "-sJnwB-izBk-"
      },
      "execution_count": null,
      "outputs": []
    }
  ]
}