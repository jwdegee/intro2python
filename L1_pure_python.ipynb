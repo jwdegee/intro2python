{
 "cells": [
  {
   "cell_type": "markdown",
   "metadata": {
    "id": "8vwdvSdRO9_o"
   },
   "source": [
    "# Introduction to python: Basic language concepts"
   ]
  },
  {
   "cell_type": "code",
   "execution_count": null,
   "metadata": {
    "id": "764pCgm9rK5c"
   },
   "outputs": [],
   "source": [
    "import this"
   ]
  },
  {
   "cell_type": "markdown",
   "metadata": {
    "id": "AClx0Ds3POHc"
   },
   "source": [
    "### Dynamic typing (types checked on the fly, during execution of commands)\n",
    "\n",
    "**Dynamic typing means that the type of the variable is determined only during runtime.** So, as in Matlab, there is no need to explicitly declare variable types. Instead, Python keeps track of types. \n",
    "\n",
    "The following data types exist.\n",
    "\n",
    "Text Type:\t\n",
    "- str\n",
    "\n",
    "Numeric Types:\t\n",
    "- int\n",
    "- float\n",
    "- complex\n",
    "\n",
    "Sequence Types:\t\n",
    "- list\n",
    "- tuple\n",
    "- range\n",
    "\n",
    "Mapping Type:\t\n",
    "- dict\n",
    "\n",
    "Set Types:\t\n",
    "- set\n",
    "- frozenset\n",
    "\n",
    "Boolean Type:\t\n",
    "- bool\n",
    "\n",
    "Binary Types:\t\n",
    "- bytes\n",
    "- bytearray\n",
    "- memoryview\n",
    "\n",
    "None Type:\n",
    "- NoneType"
   ]
  },
  {
   "cell_type": "code",
   "execution_count": null,
   "metadata": {
    "id": "gHZBfPUfO_QK"
   },
   "outputs": [],
   "source": [
    "anumber = 1 # Variable anumber holds the number 1\n",
    "print(type(anumber)) # Which Python correctly interpreted as an integer"
   ]
  },
  {
   "cell_type": "code",
   "execution_count": null,
   "metadata": {
    "id": "WpbguYs-Pn0J"
   },
   "outputs": [],
   "source": [
    "# We can do arithmetic with integers:\n",
    "anumber = anumber + 10\n",
    "print(anumber)"
   ]
  },
  {
   "cell_type": "code",
   "execution_count": null,
   "metadata": {
    "id": "hzDsowtNqSj-"
   },
   "outputs": [],
   "source": [
    "anumber += 10\n",
    "print(anumber)"
   ]
  },
  {
   "cell_type": "code",
   "execution_count": null,
   "metadata": {
    "id": "H2iexy8JPfY0"
   },
   "outputs": [],
   "source": [
    "astring = '123'  # Variable astring holds the sting '123'\n",
    "print(type(astring))"
   ]
  },
  {
   "cell_type": "code",
   "execution_count": null,
   "metadata": {
    "id": "tpqh8MMIP68l"
   },
   "outputs": [],
   "source": [
    "astring += '456'\n",
    "print(astring)"
   ]
  },
  {
   "cell_type": "code",
   "execution_count": null,
   "metadata": {
    "id": "YsYihbBlQJe0"
   },
   "outputs": [],
   "source": [
    "print(anumber + astring)"
   ]
  },
  {
   "cell_type": "markdown",
   "metadata": {
    "id": "Z56IqoCIq_B7"
   },
   "source": [
    "\"Type coersion\"; fails because Python is strongly typed.\n",
    "\n",
    "**Strong typing means that variables do have a type and that the type matters when performing operations on a variable.**"
   ]
  },
  {
   "cell_type": "code",
   "execution_count": null,
   "metadata": {
    "id": "YJ_f2hYQQPLW"
   },
   "outputs": [],
   "source": [
    "print(anumber + int('123')) # Can make it work, but only with an explicit cast (e.g. int() or str())\n",
    "print(str(anumber) + '123') # ** explicit is better than implicit **"
   ]
  },
  {
   "cell_type": "markdown",
   "metadata": {
    "id": "lOjlpjqoaHv5"
   },
   "source": [
    "## Control flow"
   ]
  },
  {
   "cell_type": "code",
   "execution_count": null,
   "metadata": {
    "id": "XpMfR9uSQABX"
   },
   "outputs": [],
   "source": [
    "astring = '101'\n",
    "anumber = 11\n",
    "print(astring == '101')  # Comparison operator to check if something is True (or False)"
   ]
  },
  {
   "cell_type": "code",
   "execution_count": null,
   "metadata": {
    "id": "r1KVR163aaJ1"
   },
   "outputs": [],
   "source": [
    "# We can use that conditionally execute a block of code\n",
    "if astring == '102':\n",
    "    print('astring is 101') # No {} or end statements. Code is grouped by indentation. Use 4 spaces and no tabs. ** readability counts! **"
   ]
  },
  {
   "cell_type": "code",
   "execution_count": null,
   "metadata": {
    "id": "Pt6Pae4OajwB"
   },
   "outputs": [],
   "source": [
    "if astring == '101':\n",
    "    print('astring is 101')\n",
    "elif anumber == 11:\n",
    "    print('anumber is 11')\n",
    "else:\n",
    "    print('Nah')\n",
    "\n",
    "# The elif and else statements are not mandatory.\n",
    "# We can have as many elif statements as we want.\n",
    "\n",
    "# *** The if... elif... elif... sequence is a substitue for the switch / case statement found in some other languages ***\n"
   ]
  },
  {
   "cell_type": "code",
   "execution_count": null,
   "metadata": {
    "id": "PmKJM_B0auCE"
   },
   "outputs": [],
   "source": [
    "# Ternary if (a ? b : c --> evaluates to b if the value of a is true, and otherwise to c)\n",
    "'Yes' if len(astring) == 10 else 'No'"
   ]
  },
  {
   "cell_type": "code",
   "execution_count": null,
   "metadata": {},
   "outputs": [],
   "source": [
    "anumber\n",
    "astring"
   ]
  },
  {
   "cell_type": "code",
   "execution_count": null,
   "metadata": {
    "id": "AYSC9pdVayAQ"
   },
   "outputs": [],
   "source": [
    "# Other operators:\n",
    "# Comparison operators:\n",
    "# <, <=, >, >=, !=, ==\n",
    "print(10 != 11)"
   ]
  },
  {
   "cell_type": "code",
   "execution_count": null,
   "metadata": {
    "id": "niyoAKD3a2rh"
   },
   "outputs": [],
   "source": [
    "# Logical operators:\n",
    "if (astring == '101') or (astring == '102'):\n",
    "    print(True)"
   ]
  },
  {
   "cell_type": "code",
   "execution_count": null,
   "metadata": {
    "id": "ajK2T5aaa4QS"
   },
   "outputs": [],
   "source": [
    "# Parentheses provide confirmation of the developer's intent.\n",
    "# Parentheses reduce the work required to understand the code.\n",
    "if (astring == '101') and (astring == '102'):\n",
    "    print('impossible')"
   ]
  },
  {
   "cell_type": "markdown",
   "metadata": {
    "id": "KeaRHnOkbI6s"
   },
   "source": [
    "## Loops"
   ]
  },
  {
   "cell_type": "code",
   "execution_count": null,
   "metadata": {
    "id": "TizH21oPbBVA"
   },
   "outputs": [],
   "source": [
    "for i in [1, 2, 3, 4]:  # for loops through any iterable\n",
    "    print(i)"
   ]
  },
  {
   "cell_type": "code",
   "execution_count": null,
   "metadata": {
    "id": "-SuHVv88bQQK"
   },
   "outputs": [],
   "source": [
    "for i in range(10):  # Loop until 10, but exclude 10\n",
    "    print(i)"
   ]
  },
  {
   "cell_type": "code",
   "execution_count": null,
   "metadata": {
    "id": "uLz05FhEbQZT"
   },
   "outputs": [],
   "source": [
    "for i in 'onetwothree':  # for loops through any iterable\n",
    "    print(i)"
   ]
  },
  {
   "cell_type": "code",
   "execution_count": null,
   "metadata": {
    "id": "4ggH9rtkbQek"
   },
   "outputs": [],
   "source": [
    "for i in 'onetwothree':  # continue skips an iteration\n",
    "    if i == 't':\n",
    "        continue\n",
    "    print(i)"
   ]
  },
  {
   "cell_type": "code",
   "execution_count": null,
   "metadata": {
    "id": "WEuveYVbbQh5"
   },
   "outputs": [],
   "source": [
    "for i in 'onetwothree':  # break terminates the inner most loop\n",
    "    if i == 't':\n",
    "        break\n",
    "    print(i)"
   ]
  },
  {
   "cell_type": "code",
   "execution_count": null,
   "metadata": {
    "id": "jmgoYMQzbQl0"
   },
   "outputs": [],
   "source": [
    "for j in [1, 2, 3]:  # But does not completely jump put\n",
    "    for i in 'onetwothree':\n",
    "        if i == 't':\n",
    "            break\n",
    "        print(i)"
   ]
  },
  {
   "cell_type": "code",
   "execution_count": null,
   "metadata": {
    "id": "Iea9CNWgbipS"
   },
   "outputs": [],
   "source": [
    "for i, j in enumerate(['a', 'b', 'c', 'd']):  # enumerate gives (i) iterator for index and (ii) value of iterable\n",
    "    print(i,j)"
   ]
  },
  {
   "cell_type": "code",
   "execution_count": null,
   "metadata": {
    "id": "7Ch9wYzFbixS"
   },
   "outputs": [],
   "source": [
    "anumber = 20\n",
    "while anumber > 10:  # Second loop version\n",
    "    print(anumber)\n",
    "    anumber -= 0.5"
   ]
  },
  {
   "cell_type": "code",
   "execution_count": null,
   "metadata": {},
   "outputs": [],
   "source": [
    "for i in range(3,10,2):\n",
    "    print(i)"
   ]
  },
  {
   "cell_type": "markdown",
   "metadata": {
    "id": "bgFoSOFwb5n-"
   },
   "source": [
    "## Try / except statements"
   ]
  },
  {
   "cell_type": "code",
   "execution_count": null,
   "metadata": {
    "id": "Sg2EcFTqcFkH"
   },
   "outputs": [],
   "source": [
    "# ** Errors should never pass silently. **\n",
    "# ** Unless explicitly silenced. **\n",
    "\n",
    "# Python's ultimate error handling goal is to let you know that an error has occurred\n",
    "# Having fulfilled its goal, what happens next is all up to you.\n",
    "# If you don't specify anything to happen, then a default error message is displayed and the program is ended.\n",
    "# You can specify any course of action. E.g., print something, fix the error, etc.\n",
    "# This comes in especially handy during debugging.\n",
    "\n",
    "# For this purpose Python uses the try / except statement:\n",
    "# If any code within the try statement causes an error, execution of the code will stop and jump to the except statement.\n",
    "\n",
    "anumber = 10\n",
    "astring = '10'\n",
    "\n",
    "try:\n",
    "    anumber = anumber / astring\n",
    "except:\n",
    "    print(\"Something went wrong\")"
   ]
  },
  {
   "cell_type": "code",
   "execution_count": null,
   "metadata": {
    "id": "-R_WhGoycKay"
   },
   "outputs": [],
   "source": [
    "# Let's at least print the error, and double check some things:\n",
    "\n",
    "try:\n",
    "    anumber = anumber / astring\n",
    "except Exception as e:\n",
    "    print(e)\n",
    "    print(\"Something went wrong; printing variable types:\")\n",
    "    print(type(anumber))\n",
    "    print(type(astring))"
   ]
  },
  {
   "cell_type": "code",
   "execution_count": null,
   "metadata": {
    "id": "LwknuG7acKeo"
   },
   "outputs": [],
   "source": [
    "# Now let's try to fix the error:\n",
    "\n",
    "try:\n",
    "    anumber = anumber / astring\n",
    "except Exception as e:\n",
    "    print(e)\n",
    "    print(\"Let's cast 'astring' to int and try again:\")\n",
    "    anumber = anumber / int(astring)\n",
    "print(anumber)"
   ]
  },
  {
   "cell_type": "code",
   "execution_count": null,
   "metadata": {
    "id": "b9K4FIXJcf8D"
   },
   "outputs": [],
   "source": [
    "# Check for a specific type or error:\n",
    " \n",
    "try:\n",
    "    anumber = anumber / astring\n",
    "except TypeError as e:\n",
    "    print(e)\n",
    "    print(\"Let's cast 'astring' to int and try again:\")\n",
    "    anumber = anumber / int(astring)\n",
    "except:\n",
    "    print(\"This is absurd!!\")\n",
    "print(anumber)"
   ]
  },
  {
   "cell_type": "code",
   "execution_count": null,
   "metadata": {
    "id": "wD4jaBRdcgEJ"
   },
   "outputs": [],
   "source": [
    "astring = 0\n",
    "try:\n",
    "    anumber = anumber / astring\n",
    "except TypeError as e:\n",
    "    print(e)\n",
    "    print(\"Let's cast 'astring' to int and try again:\")\n",
    "    anumber = anumber / int(astring)\n",
    "except:\n",
    "    print(\"This is absurd!!\")"
   ]
  },
  {
   "cell_type": "code",
   "execution_count": null,
   "metadata": {
    "id": "qrUcOsJjdBom"
   },
   "outputs": [],
   "source": [
    "anumber = anumber / astring"
   ]
  },
  {
   "cell_type": "code",
   "execution_count": null,
   "metadata": {
    "id": "nwUTd2SqdI-D"
   },
   "outputs": [],
   "source": [
    "# Add 'finally' statement:\n",
    "\n",
    "try:\n",
    "    anumber = anumber / astring\n",
    "except TypeError as e:\n",
    "    print(e)\n",
    "    print(\"Let's cast 'astring' to int and try again:\")\n",
    "    anumber = anumber / int(astring)\n",
    "except:\n",
    "    print(\"This is absurd!!\")\n",
    "finally:\n",
    "    print(\"Saving variables...\")"
   ]
  },
  {
   "cell_type": "markdown",
   "metadata": {
    "id": "JBc7MDBLdTOC"
   },
   "source": [
    "## Miscelaneous"
   ]
  },
  {
   "cell_type": "code",
   "execution_count": null,
   "metadata": {
    "id": "5Dwaf6T8aX7j"
   },
   "outputs": [],
   "source": [
    "# This is a comment\n",
    "\n",
    "'''\n",
    "This is a multiline string if you want\n",
    "'''\n",
    "\n",
    "'This is \"quotes\" inside quotes'\n",
    "\n",
    "\"or 'this'\""
   ]
  },
  {
   "cell_type": "markdown",
   "metadata": {
    "id": "MWZcHZI_di_H"
   },
   "source": [
    "# Data structures"
   ]
  },
  {
   "cell_type": "markdown",
   "metadata": {
    "id": "Ud3Q7jaIgfYc"
   },
   "source": [
    "## Lists\n",
    "\n",
    "A list refers to a data structure in Python that is an ordered sequence of elements and it is mutable in nature. Furthermore, Python mutable lists may involve various data types like objects, integers and strings. Moreover, the lists, due to their mutable nature, can be altered after their creation.\n",
    "\n",
    "Lists are created using square brackets."
   ]
  },
  {
   "cell_type": "code",
   "execution_count": null,
   "metadata": {
    "id": "9Sxh507KdrlY"
   },
   "outputs": [],
   "source": [
    "# Lists:\n",
    "alist = ['foo', 'bar', 'un']\n",
    "print(alist)\n",
    "alist.append('fug')\n",
    "print(alist)"
   ]
  },
  {
   "cell_type": "code",
   "execution_count": null,
   "metadata": {
    "id": "CM0KmX5WOHJL"
   },
   "outputs": [],
   "source": [
    "alist.extend(['foz', 'baz'])\n",
    "print(alist)"
   ]
  },
  {
   "cell_type": "code",
   "execution_count": null,
   "metadata": {
    "id": "mcdATzOQpcsb"
   },
   "outputs": [],
   "source": [
    "print(alist + [1, 2, 3])  # Concatenate\n",
    "print(alist * 2)  # repeat"
   ]
  },
  {
   "cell_type": "code",
   "execution_count": null,
   "metadata": {
    "id": "NDb2ORS6drtx"
   },
   "outputs": [],
   "source": [
    "# How to index lists: Index starts at 0!\n",
    "print(alist[0])  # foo\n",
    "print(alist[1])  # bar"
   ]
  },
  {
   "cell_type": "code",
   "execution_count": null,
   "metadata": {
    "id": "SeIZ37c5OcwE"
   },
   "outputs": [],
   "source": [
    "print(alist[-1])  # baz\n",
    "print(alist[-2])  # foz\n",
    "\n",
    "# Indices:\n",
    "#  foo bar un  fug foz baz\n",
    "#  0   1   2   3   4   5\n",
    "# -6  -5  -4  -3  -2  -1"
   ]
  },
  {
   "cell_type": "code",
   "execution_count": null,
   "metadata": {
    "id": "tT79jm70drwf"
   },
   "outputs": [],
   "source": [
    "del alist[-1]\n",
    "print(alist)"
   ]
  },
  {
   "cell_type": "code",
   "execution_count": null,
   "metadata": {
    "id": "oDeQk35kdrzB"
   },
   "outputs": [],
   "source": [
    "alist.insert(3, -1)  # Insert -1 at front\n",
    "print(alist)"
   ]
  },
  {
   "cell_type": "code",
   "execution_count": null,
   "metadata": {
    "id": "MgkqCQeBdr1b"
   },
   "outputs": [],
   "source": [
    "print(alist)\n",
    "print(alist[::2])"
   ]
  },
  {
   "cell_type": "code",
   "execution_count": null,
   "metadata": {
    "id": "ar3hZI9TPE6m"
   },
   "outputs": [],
   "source": [
    "print(alist[::-1])\n",
    "print(alist[::-2])"
   ]
  },
  {
   "cell_type": "code",
   "execution_count": null,
   "metadata": {
    "id": "772Ss2VyeVdn"
   },
   "outputs": [],
   "source": [
    "# Lists are references / mutable\n",
    "a = b = [1, 2, 3, 4]\n",
    "a.extend([5])\n",
    "print(b)"
   ]
  },
  {
   "cell_type": "code",
   "execution_count": null,
   "metadata": {
    "id": "2wgtFyyweVpJ"
   },
   "outputs": [],
   "source": [
    "# Immutable types do not have this behavior\n",
    "a = b = 1\n",
    "b = b + 1  # Creates new object.\n",
    "print(a)"
   ]
  },
  {
   "cell_type": "code",
   "execution_count": null,
   "metadata": {
    "id": "vMawVeAheVvE"
   },
   "outputs": [],
   "source": [
    "# Logical operators:\n",
    "a = b = [1, 2, 3, 4]\n",
    "print(a is b)\n",
    "\n",
    "a = [1, 2]\n",
    "b = [1, 2]\n",
    "print(a is b)"
   ]
  },
  {
   "cell_type": "code",
   "execution_count": null,
   "metadata": {
    "id": "lZPE-pN3PxtJ"
   },
   "outputs": [],
   "source": [
    "a = b = 1\n",
    "print(a is b)\n",
    "\n",
    "b = b + 1\n",
    "print(a is b)"
   ]
  },
  {
   "cell_type": "code",
   "execution_count": null,
   "metadata": {
    "id": "SFgtetppeVy-"
   },
   "outputs": [],
   "source": [
    "if 1 in [1, 2, 3]:\n",
    "    print('1 is in list')"
   ]
  },
  {
   "cell_type": "code",
   "execution_count": null,
   "metadata": {
    "id": "yJrWi-70eV2p"
   },
   "outputs": [],
   "source": [
    "if 5 not in [1, 2, 3]:\n",
    "    print('5 is not in list')"
   ]
  },
  {
   "cell_type": "markdown",
   "metadata": {
    "id": "tRUR07rBezNS"
   },
   "source": [
    "## Interlude: Lists and for loops"
   ]
  },
  {
   "cell_type": "code",
   "execution_count": null,
   "metadata": {
    "id": "r0HDcpDCe3Pi"
   },
   "outputs": [],
   "source": [
    "a, b = [1, 2]  # Inconspicuous but really cool\n",
    "b, a = a, b\n",
    "print(a)\n",
    "print(b)"
   ]
  },
  {
   "cell_type": "code",
   "execution_count": null,
   "metadata": {
    "id": "j4zm0bANe-gc"
   },
   "outputs": [],
   "source": [
    "for index, elem in enumerate(alist):  # Use enumerate to get counter\n",
    "    print(index, elem)"
   ]
  },
  {
   "cell_type": "code",
   "execution_count": null,
   "metadata": {
    "id": "0fI3E6P1e3Rx"
   },
   "outputs": [],
   "source": [
    "# Introduce zip\n",
    "for elem1, elem2 in zip(alist[::-1], alist):  # Zip two lists together!\n",
    "    print(elem1, elem2)"
   ]
  },
  {
   "cell_type": "code",
   "execution_count": null,
   "metadata": {},
   "outputs": [],
   "source": [
    "for i in range(len(alist)):\n",
    "    print(alist[::-1][i], alist[i])\n",
    "    "
   ]
  },
  {
   "cell_type": "code",
   "execution_count": null,
   "metadata": {
    "id": "pRZFP8X8f3bN"
   },
   "outputs": [],
   "source": [
    "print( list( zip( range(len(alist)), alist) ) )"
   ]
  },
  {
   "cell_type": "code",
   "execution_count": null,
   "metadata": {
    "id": "e1ozzJaiQozh"
   },
   "outputs": [],
   "source": [
    "print(list(zip(alist, alist)))"
   ]
  },
  {
   "cell_type": "code",
   "execution_count": null,
   "metadata": {
    "id": "M0Z5qJcKQquy"
   },
   "outputs": [],
   "source": [
    "print(list(zip(alist[:-1], alist[1:])))"
   ]
  },
  {
   "cell_type": "code",
   "execution_count": null,
   "metadata": {
    "id": "kSPAXR-ce3T_"
   },
   "outputs": [],
   "source": [
    "from itertools import product\n",
    "for a, b in product([1, 2, 3], ['A', 'B', 'D']):  # Flattens nested for loops\n",
    "    print(a, b)"
   ]
  },
  {
   "cell_type": "markdown",
   "metadata": {
    "id": "MtZWc-QdgNla"
   },
   "source": [
    "## Continue with data structures. Tuples: Immutable lists (advantage: fast)\n",
    "\n",
    "Tuples are like lists, but they are immutable. This means that tuples cannot be changed (while lists can be modified). Tuples are more memory efficient than the lists.\n",
    "\n",
    "Tuples are created using parentheses"
   ]
  },
  {
   "cell_type": "code",
   "execution_count": null,
   "metadata": {
    "id": "-mok61vhe3Wr"
   },
   "outputs": [],
   "source": [
    "atuple = (1, 2, 3, 'a', ['a', 1])\n",
    "print(atuple)"
   ]
  },
  {
   "cell_type": "code",
   "execution_count": null,
   "metadata": {
    "id": "03nwWOVIg0qF"
   },
   "outputs": [],
   "source": [
    "atuple[1] = -1"
   ]
  },
  {
   "cell_type": "code",
   "execution_count": null,
   "metadata": {
    "id": "-3QwK6vFg23d"
   },
   "outputs": [],
   "source": [
    "not_a_tuple = (1)\n",
    "print(not_a_tuple)"
   ]
  },
  {
   "cell_type": "code",
   "execution_count": null,
   "metadata": {
    "id": "KNJnSKWTg6nY"
   },
   "outputs": [],
   "source": [
    "a_tuple = (1,)\n",
    "print(a_tuple)\n",
    "\n",
    "a_tuple = (1,2)\n",
    "print(a_tuple)"
   ]
  },
  {
   "cell_type": "markdown",
   "metadata": {
    "id": "FavEdx9WhA6Q"
   },
   "source": [
    "## Dictionaries\n",
    "Dictionaries are Python's implementation of a data structure that is more generally known as an associative array. A dictionary consists of a collection of key-value pairs. Each key-value pair maps the key to its associated value.\n",
    "\n",
    "Dictionaries are created using curly brackets."
   ]
  },
  {
   "cell_type": "code",
   "execution_count": null,
   "metadata": {
    "id": "92zvIwPqhEJu"
   },
   "outputs": [],
   "source": [
    "adict = {'one': 1, \n",
    "        'two': 2, \n",
    "        'three': 3,}\n",
    "print(adict)"
   ]
  },
  {
   "cell_type": "code",
   "execution_count": null,
   "metadata": {
    "id": "KWlqI8WJhIhe"
   },
   "outputs": [],
   "source": [
    "adict['one'] = 2\n",
    "adict['foo'] = 'bar'\n",
    "print(adict)"
   ]
  },
  {
   "cell_type": "code",
   "execution_count": null,
   "metadata": {
    "id": "t4QyYPq0hIkA"
   },
   "outputs": [],
   "source": [
    "adict.update({'un': 'fug', 'baz': 'bar'})\n",
    "print(adict)"
   ]
  },
  {
   "cell_type": "code",
   "execution_count": null,
   "metadata": {
    "id": "yGjRJMAKhbTC"
   },
   "outputs": [],
   "source": [
    "for key in adict.keys():\n",
    "    print(key)"
   ]
  },
  {
   "cell_type": "code",
   "execution_count": null,
   "metadata": {
    "id": "0UsJcuH1hbcZ"
   },
   "outputs": [],
   "source": [
    "for item in adict.values():\n",
    "    print(item)"
   ]
  },
  {
   "cell_type": "code",
   "execution_count": null,
   "metadata": {
    "id": "fnkdibf0h9hY"
   },
   "outputs": [],
   "source": [
    "print(adict.items())"
   ]
  },
  {
   "cell_type": "code",
   "execution_count": null,
   "metadata": {
    "id": "65vSl2nahp0G"
   },
   "outputs": [],
   "source": [
    "for key, item in adict.items():\n",
    "    print(key, item)"
   ]
  },
  {
   "cell_type": "markdown",
   "metadata": {
    "id": "1GxGfBsXTUTn"
   },
   "source": [
    "## Interlude: Something fun: List and dictionary comprehensions"
   ]
  },
  {
   "cell_type": "code",
   "execution_count": null,
   "metadata": {
    "id": "JNW70qdXcET6"
   },
   "outputs": [],
   "source": [
    "# this loop:\n",
    "a_list = []\n",
    "for x in range(1, 100, 10):\n",
    "    print(x)\n",
    "    a_list.append(x**2)\n",
    "print(a_list)"
   ]
  },
  {
   "cell_type": "code",
   "execution_count": null,
   "metadata": {
    "id": "g6m155Bnwu8o"
   },
   "outputs": [],
   "source": [
    "# can be shortened into:\n",
    "alist = [x**2 for x in range(1, 100, 10)]\n",
    "print(alist)"
   ]
  },
  {
   "cell_type": "code",
   "execution_count": null,
   "metadata": {
    "id": "hjT68aeqiF0R"
   },
   "outputs": [],
   "source": [
    "print([x**2 for x in range(1, 100, 10) if (x**2 / 2) > 100])"
   ]
  },
  {
   "cell_type": "code",
   "execution_count": null,
   "metadata": {
    "id": "lFmD3mdziGFL"
   },
   "outputs": [],
   "source": [
    "print([(x, y) for x, y in zip(range(10), range(1, 10))])"
   ]
  },
  {
   "cell_type": "code",
   "execution_count": null,
   "metadata": {
    "id": "McrL2U1QiGIp"
   },
   "outputs": [],
   "source": [
    "print([['#' if x > y else '.' for x in range(10)] for y in range(10)])"
   ]
  },
  {
   "cell_type": "code",
   "execution_count": null,
   "metadata": {
    "id": "8b6meRsUiGLh"
   },
   "outputs": [],
   "source": [
    "# Use instead of very simple for loops\n",
    "print({a: b for a, b in zip(atuple, ['a', 'b', 'c', 'd'])})"
   ]
  },
  {
   "cell_type": "markdown",
   "metadata": {
    "id": "40k7hsLCjVMb"
   },
   "source": [
    "# Functions\n",
    "In Python, a function is a group of related statements that performs a specific task. Functions help break our program into smaller and modular chunks. As our program grows larger and larger, functions make it more organized and manageable. Furthermore, it avoids repetition and makes the code reusable."
   ]
  },
  {
   "cell_type": "code",
   "execution_count": null,
   "metadata": {
    "id": "OUhhbqXdjW9i"
   },
   "outputs": [],
   "source": [
    "def foo(x):\n",
    "    '''\n",
    "    This function computes the square of x.\n",
    "    '''\n",
    "\n",
    "    z = x**2\n",
    "\n",
    "    return z\n",
    "\n",
    "print(foo(10))"
   ]
  },
  {
   "cell_type": "code",
   "execution_count": null,
   "metadata": {},
   "outputs": [],
   "source": []
  },
  {
   "cell_type": "code",
   "execution_count": null,
   "metadata": {
    "id": "cQy0OyPVjXAH"
   },
   "outputs": [],
   "source": [
    "help(foo)  # Display the doc string."
   ]
  },
  {
   "cell_type": "code",
   "execution_count": null,
   "metadata": {
    "id": "oy3RMXrojXDB"
   },
   "outputs": [],
   "source": [
    "def foo(x):  # Functions can return multiple values\n",
    "    return x**2, x**4, x**8\n",
    "\n",
    "print(foo(10))\n",
    "print(type(foo(10)))"
   ]
  },
  {
   "cell_type": "code",
   "execution_count": null,
   "metadata": {
    "id": "0S5PtJSojXFe"
   },
   "outputs": [],
   "source": [
    "x2, x4, x8 = foo(10)  # Tuple unpacking!\n",
    "print(x2)\n",
    "print(x4)\n",
    "print(x8)"
   ]
  },
  {
   "cell_type": "code",
   "execution_count": null,
   "metadata": {
    "id": "-_VzBGhgjXHs"
   },
   "outputs": [],
   "source": [
    "def foo(x):  # Returns None when nothing is returned\n",
    "    pass\n",
    "\n",
    "print(foo(10))"
   ]
  },
  {
   "cell_type": "code",
   "execution_count": null,
   "metadata": {
    "id": "OzpHr_3hjrtG"
   },
   "outputs": [],
   "source": [
    "def foo(argument1, argument2):  # Functions can take many input arguments\n",
    "    return argument1**argument2\n",
    "\n",
    "print(foo(2,4))"
   ]
  },
  {
   "cell_type": "code",
   "execution_count": null,
   "metadata": {
    "id": "YvY0MD3wjw6H"
   },
   "outputs": [],
   "source": [
    "def raise_x(exponent, x=2): # With one default argument.\n",
    "    return x**exponent\n",
    "\n",
    "print(raise_x(8))\n",
    "print(raise_x(8, x=8))  # Overwrite default value\n",
    "print(raise_x(x=7, exponent=8))\n",
    "print(raise_x(7, 8))"
   ]
  },
  {
   "cell_type": "code",
   "execution_count": null,
   "metadata": {
    "id": "Y6UrTHCNjzNE"
   },
   "outputs": [],
   "source": [
    "# *args and **kwargs\n",
    "def foo(x,y):\n",
    "    return x*y\n",
    "print(foo(3,4))\n",
    "print(foo(3,4,2)) # does not work"
   ]
  },
  {
   "cell_type": "code",
   "execution_count": null,
   "metadata": {
    "id": "h6_9AguCkGYa"
   },
   "outputs": [],
   "source": [
    "# With *args you can create more flexible code that accepts a varied amount of non-keyworded arguments within your function:\n",
    "def foo(*args):\n",
    "    print(args)\n",
    "    \n",
    "print(foo(3,4,2,200))"
   ]
  },
  {
   "cell_type": "code",
   "execution_count": null,
   "metadata": {
    "id": "BohjSgAtkGa3"
   },
   "outputs": [],
   "source": [
    "def foo(*args):\n",
    "    z = 1\n",
    "    for num in args:\n",
    "        z *= num\n",
    "    return z\n",
    "print(foo(3,4,2,200))"
   ]
  },
  {
   "cell_type": "code",
   "execution_count": null,
   "metadata": {
    "id": "2I2G-EdrkGdQ"
   },
   "outputs": [],
   "source": [
    "def foo(base, *args): # possible to combine normal arguments with *args\n",
    "    return [base**a for a in args]\n",
    "print(foo(2, 1, 2, 3, 4))"
   ]
  },
  {
   "cell_type": "code",
   "execution_count": null,
   "metadata": {
    "id": "I4grvOmlklgy"
   },
   "outputs": [],
   "source": [
    "# **kwargs works the same, but now one has to provide keywords.\n",
    "def foo(*args, **kwargs):\n",
    "    print(args)\n",
    "    print(kwargs)\n",
    "foo(1, 2, 3, key1='value', key2='value2')"
   ]
  },
  {
   "cell_type": "code",
   "execution_count": null,
   "metadata": {
    "id": "ow8agcWNkljH"
   },
   "outputs": [],
   "source": [
    "# Check this out in your own time. :-)\n",
    "\n",
    "# Do something more fancy: Print a spiral to the console\n",
    "# and use two functions for this.\n",
    "\n",
    "def spiral_distance(x, y, alpha=5, beta=2, max_dist=100):\n",
    "    '''\n",
    "    Return distance to closest spiral arm\n",
    "    '''\n",
    "    from math import atan2, pi\n",
    "    r = (x**2 + y**2)**.5\n",
    "    theta = atan2(y, x)\n",
    "    distance = min(\n",
    "        [abs((r - (alpha + beta * theta + rev * beta * pi * 2)))\n",
    "         for rev in range(0, max_dist)])\n",
    "    return distance\n",
    "\n",
    "def print_spiral(nx, ny, dt=0.5, **kw):\n",
    "    for x in range(-nx, nx):\n",
    "        for y in range(-nx, ny):\n",
    "            r = spiral_distance(x, y, **kw)\n",
    "            if r < dt:\n",
    "                print('# ', end='')\n",
    "            else:\n",
    "                print('_ ', end='')\n",
    "        print('')"
   ]
  },
  {
   "cell_type": "code",
   "execution_count": null,
   "metadata": {
    "id": "Lwl48NajlY0P"
   },
   "outputs": [],
   "source": [
    "print_spiral(10, 10, dt=1, beta=1, alpha=0,)"
   ]
  },
  {
   "cell_type": "code",
   "execution_count": null,
   "metadata": {
    "id": "qZANPh-3kllh"
   },
   "outputs": [],
   "source": [
    "print_spiral(20, 20, dt=1, beta=0.5, alpha=1, max_dist=6)"
   ]
  },
  {
   "cell_type": "code",
   "execution_count": null,
   "metadata": {
    "id": "LMEhrvi_klnx"
   },
   "outputs": [],
   "source": [
    "# Functions are objects\n",
    "foo = print_spiral\n",
    "foo(10, 10, dt=1, beta=1, alpha=0)"
   ]
  },
  {
   "cell_type": "code",
   "execution_count": null,
   "metadata": {
    "id": "eHKGM9teklqp"
   },
   "outputs": [],
   "source": [
    "# This enables several really nice things:\n",
    "def print_distance(func, nx, ny, dt=0.5, **kw):\n",
    "    for x in range(-nx, nx):\n",
    "        for y in range(-nx, ny):\n",
    "            r = func(x, y, **kw)\n",
    "            if r < dt:\n",
    "                print('# ', end='')\n",
    "            else:\n",
    "                print('_ ', end='')\n",
    "        print('')\n",
    "\n",
    "print_distance(spiral_distance, 10, 10)"
   ]
  },
  {
   "cell_type": "code",
   "execution_count": null,
   "metadata": {
    "id": "877lfRiqmHZj"
   },
   "outputs": [],
   "source": [
    "# Simple functions:\n",
    "foo = lambda x,y: spiral_distance(x, y, beta=0.5)\n",
    "print_distance(foo, 10, 10, dt=1)"
   ]
  },
  {
   "cell_type": "code",
   "execution_count": null,
   "metadata": {
    "id": "vfq2T7YxmQII"
   },
   "outputs": [],
   "source": [
    "# But also the following pattern:\n",
    "\n",
    "def log(func):\n",
    "    def foo(*args, **kw):\n",
    "        print('Calling function', func.__name__)\n",
    "        return func(*args, **kw)\n",
    "    return foo\n",
    "\n",
    "print_distance = log(print_distance)\n",
    "print_distance(spiral_distance, 10, 10)"
   ]
  },
  {
   "cell_type": "code",
   "execution_count": null,
   "metadata": {
    "id": "qKuSUj1EjXJ_"
   },
   "outputs": [],
   "source": [
    "# This is called the decorator pattern and there  is \n",
    "# some syntax sugar for it:\n",
    "\n",
    "@log\n",
    "def print_distance(func, nx, ny, dt=0.5, **kw):\n",
    "    for x in range(-nx, nx):\n",
    "        for y in range(-nx, ny):\n",
    "            r = func(x, y, **kw)\n",
    "            if r < dt:\n",
    "                print('# ', end='')\n",
    "            else:\n",
    "                print('_ ', end='')\n",
    "        print('')\n",
    "\n",
    "print_distance(spiral_distance, 10, 10)"
   ]
  },
  {
   "cell_type": "code",
   "execution_count": null,
   "metadata": {},
   "outputs": [],
   "source": []
  },
  {
   "cell_type": "code",
   "execution_count": null,
   "metadata": {},
   "outputs": [],
   "source": []
  }
 ],
 "metadata": {
  "colab": {
   "provenance": []
  },
  "kernelspec": {
   "display_name": "Python 3 (ipykernel)",
   "language": "python",
   "name": "python3"
  },
  "language_info": {
   "codemirror_mode": {
    "name": "ipython",
    "version": 3
   },
   "file_extension": ".py",
   "mimetype": "text/x-python",
   "name": "python",
   "nbconvert_exporter": "python",
   "pygments_lexer": "ipython3",
   "version": "3.10.8"
  }
 },
 "nbformat": 4,
 "nbformat_minor": 1
}
