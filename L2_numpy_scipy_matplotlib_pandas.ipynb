{
 "cells": [
  {
   "cell_type": "markdown",
   "metadata": {
    "id": "_wxCZIm6q3FM"
   },
   "source": [
    "# Numpy"
   ]
  },
  {
   "cell_type": "code",
   "execution_count": 2,
   "metadata": {
    "id": "CgpVJFpn-Pwa"
   },
   "outputs": [
    {
     "name": "stdout",
     "output_type": "stream",
     "text": [
      "Intel MKL WARNING: Support of Intel(R) Streaming SIMD Extensions 4.2 (Intel(R) SSE4.2) enabled only processors has been deprecated. Intel oneAPI Math Kernel Library 2025.0 will require Intel(R) Advanced Vector Extensions (Intel(R) AVX) instructions.\n",
      "Intel MKL WARNING: Support of Intel(R) Streaming SIMD Extensions 4.2 (Intel(R) SSE4.2) enabled only processors has been deprecated. Intel oneAPI Math Kernel Library 2025.0 will require Intel(R) Advanced Vector Extensions (Intel(R) AVX) instructions.\n"
     ]
    }
   ],
   "source": [
    "import numpy as np\n",
    "import scipy as sp\n",
    "import matplotlib.pyplot as plt"
   ]
  },
  {
   "cell_type": "markdown",
   "metadata": {
    "id": "ktJOAlcnrCBQ"
   },
   "source": [
    "## Creating numpy arrays"
   ]
  },
  {
   "cell_type": "code",
   "execution_count": 3,
   "metadata": {
    "colab": {
     "base_uri": "https://localhost:8080/"
    },
    "id": "tOw1VXlorQND",
    "outputId": "449a891c-fa0e-4d6c-a4d1-1c87a0e1011c"
   },
   "outputs": [
    {
     "data": {
      "text/plain": [
       "array([1, 2, 3, 4])"
      ]
     },
     "execution_count": 3,
     "metadata": {},
     "output_type": "execute_result"
    }
   ],
   "source": [
    "v = np.array([1,2,3,4])  # a vector\n",
    "v"
   ]
  },
  {
   "cell_type": "code",
   "execution_count": 4,
   "metadata": {
    "colab": {
     "base_uri": "https://localhost:8080/"
    },
    "id": "5PYwwP0vrQPa",
    "outputId": "c4df6529-b85f-469d-efa8-3ee86a9b4361"
   },
   "outputs": [
    {
     "data": {
      "text/plain": [
       "array([[1, 2],\n",
       "       [3, 4]])"
      ]
     },
     "execution_count": 4,
     "metadata": {},
     "output_type": "execute_result"
    }
   ],
   "source": [
    "M = np.array([ [1,2],[3,4] ]) # a matrix\n",
    "M"
   ]
  },
  {
   "cell_type": "code",
   "execution_count": 5,
   "metadata": {
    "colab": {
     "base_uri": "https://localhost:8080/"
    },
    "id": "me6K_QakrQRr",
    "outputId": "d2c09761-d10c-4d1c-d560-7fd423a5f561"
   },
   "outputs": [
    {
     "name": "stdout",
     "output_type": "stream",
     "text": [
      "<class 'numpy.ndarray'>\n",
      "<class 'numpy.ndarray'>\n"
     ]
    }
   ],
   "source": [
    "print(type(v))\n",
    "print(type(M))"
   ]
  },
  {
   "cell_type": "code",
   "execution_count": 6,
   "metadata": {
    "colab": {
     "base_uri": "https://localhost:8080/"
    },
    "id": "OqOHnJm0rQT1",
    "outputId": "5bd52616-4efb-4fc5-eb3f-16c71937c08f"
   },
   "outputs": [
    {
     "name": "stdout",
     "output_type": "stream",
     "text": [
      "(4,)\n",
      "(2, 2)\n"
     ]
    }
   ],
   "source": [
    "print(v.shape)\n",
    "print(M.shape) # the shape is different"
   ]
  },
  {
   "cell_type": "code",
   "execution_count": 7,
   "metadata": {
    "colab": {
     "base_uri": "https://localhost:8080/"
    },
    "id": "NJjyL3sMrQWN",
    "outputId": "5397776f-b53f-4d1c-d30c-9a674132e5be"
   },
   "outputs": [
    {
     "name": "stdout",
     "output_type": "stream",
     "text": [
      "4\n",
      "4\n"
     ]
    }
   ],
   "source": [
    "print(v.size)\n",
    "print(M.size) # same number of elements"
   ]
  },
  {
   "cell_type": "code",
   "execution_count": 8,
   "metadata": {
    "colab": {
     "base_uri": "https://localhost:8080/",
     "height": 200
    },
    "id": "hGHm1rrhrQYV",
    "outputId": "47476255-5bd8-4345-ab97-d8c0a32e1bbe"
   },
   "outputs": [
    {
     "name": "stdout",
     "output_type": "stream",
     "text": [
      "int64\n"
     ]
    },
    {
     "ename": "ValueError",
     "evalue": "invalid literal for int() with base 10: 'hello'",
     "output_type": "error",
     "traceback": [
      "\u001b[0;31m---------------------------------------------------------------------------\u001b[0m",
      "\u001b[0;31mValueError\u001b[0m                                Traceback (most recent call last)",
      "Cell \u001b[0;32mIn[8], line 2\u001b[0m\n\u001b[1;32m      1\u001b[0m \u001b[38;5;28mprint\u001b[39m(v\u001b[38;5;241m.\u001b[39mdtype) \u001b[38;5;66;03m# data type\u001b[39;00m\n\u001b[0;32m----> 2\u001b[0m v[\u001b[38;5;241m0\u001b[39m] \u001b[38;5;241m=\u001b[39m \u001b[38;5;124m\"\u001b[39m\u001b[38;5;124mhello\u001b[39m\u001b[38;5;124m\"\u001b[39m\n",
      "\u001b[0;31mValueError\u001b[0m: invalid literal for int() with base 10: 'hello'"
     ]
    }
   ],
   "source": [
    "print(v.dtype) # data type\n",
    "v[0] = \"hello\" # therefore, does not work"
   ]
  },
  {
   "cell_type": "code",
   "execution_count": 9,
   "metadata": {
    "colab": {
     "base_uri": "https://localhost:8080/"
    },
    "id": "LtzWU5dBrQaq",
    "outputId": "1ae982d9-2051-4269-973b-9caeb7f7084e"
   },
   "outputs": [
    {
     "data": {
      "text/plain": [
       "array(['1', '2', '3'], dtype='<U1')"
      ]
     },
     "execution_count": 9,
     "metadata": {},
     "output_type": "execute_result"
    }
   ],
   "source": [
    "z = np.array(['1', '2', '3']) # does work\n",
    "z"
   ]
  },
  {
   "cell_type": "code",
   "execution_count": 11,
   "metadata": {
    "colab": {
     "base_uri": "https://localhost:8080/"
    },
    "id": "zcwJJwjwrQdW",
    "outputId": "ff43d359-7fe6-4c63-d217-0ec557ad7b42"
   },
   "outputs": [
    {
     "name": "stdout",
     "output_type": "stream",
     "text": [
      "['1' '2' '3']\n"
     ]
    },
    {
     "data": {
      "text/plain": [
       "array([1, 2, 3])"
      ]
     },
     "execution_count": 11,
     "metadata": {},
     "output_type": "execute_result"
    }
   ],
   "source": [
    "v = np.array([1,2,3], dtype='str') # also works (common type are: int, float, complex, bool, object)\n",
    "print(v)\n",
    "\n",
    "v = v.astype(int)\n",
    "v"
   ]
  },
  {
   "cell_type": "markdown",
   "metadata": {
    "id": "71OaUOThriB3"
   },
   "source": [
    "## Array generating functions"
   ]
  },
  {
   "cell_type": "code",
   "execution_count": 12,
   "metadata": {
    "colab": {
     "base_uri": "https://localhost:8080/"
    },
    "id": "hqqICRrlrnBe",
    "outputId": "035a5bf0-29a7-40a8-f02c-5f4a0c63cb76"
   },
   "outputs": [
    {
     "data": {
      "text/plain": [
       "array([0, 1, 2, 3, 4, 5, 6, 7, 8, 9])"
      ]
     },
     "execution_count": 12,
     "metadata": {},
     "output_type": "execute_result"
    }
   ],
   "source": [
    "np.arange(0, 10, 1) # creates a range. arguments: start, stop (stop - step), step"
   ]
  },
  {
   "cell_type": "code",
   "execution_count": 13,
   "metadata": {
    "colab": {
     "base_uri": "https://localhost:8080/"
    },
    "id": "duamdfSCrnEA",
    "outputId": "c1fcd917-6abb-4b80-9a15-819f12d5e200"
   },
   "outputs": [
    {
     "data": {
      "text/plain": [
       "array([ 0. ,  0.4,  0.8,  1.2,  1.6,  2. ,  2.4,  2.8,  3.2,  3.6,  4. ,\n",
       "        4.4,  4.8,  5.2,  5.6,  6. ,  6.4,  6.8,  7.2,  7.6,  8. ,  8.4,\n",
       "        8.8,  9.2,  9.6, 10. ])"
      ]
     },
     "execution_count": 13,
     "metadata": {},
     "output_type": "execute_result"
    }
   ],
   "source": [
    "np.linspace(0, 10, 26) # creates a range. arguments: start, stop, num"
   ]
  },
  {
   "cell_type": "code",
   "execution_count": 14,
   "metadata": {
    "colab": {
     "base_uri": "https://localhost:8080/"
    },
    "id": "cxtU00y2rnGZ",
    "outputId": "c7cc214d-abf9-4f89-cf63-3de3c327a4ae"
   },
   "outputs": [
    {
     "data": {
      "text/plain": [
       "array([1.00000000e+00, 3.03773178e+00, 9.22781435e+00, 2.80316249e+01,\n",
       "       8.51525577e+01, 2.58670631e+02, 7.85771994e+02, 2.38696456e+03,\n",
       "       7.25095809e+03, 2.20264658e+04])"
      ]
     },
     "execution_count": 14,
     "metadata": {},
     "output_type": "execute_result"
    }
   ],
   "source": [
    "np.logspace(0, 10, 10, base=np.e) # creates a range in log-space. arguments: start, stop, num"
   ]
  },
  {
   "cell_type": "code",
   "execution_count": 15,
   "metadata": {
    "colab": {
     "base_uri": "https://localhost:8080/"
    },
    "id": "426iUBVgrnI2",
    "outputId": "129d0dcb-b12a-4efc-8dce-307d3bf7c8d9"
   },
   "outputs": [
    {
     "data": {
      "text/plain": [
       "array([[0.38155035, 0.80509707, 0.28297483, 0.71170885, 0.80796304],\n",
       "       [0.00607264, 0.98275455, 0.01429871, 0.50220882, 0.76781357],\n",
       "       [0.46143155, 0.00825748, 0.34106872, 0.78587   , 0.22918329],\n",
       "       [0.39612555, 0.2828288 , 0.2863437 , 0.26949599, 0.56750617],\n",
       "       [0.91983994, 0.47394485, 0.71629339, 0.79975309, 0.47044969]])"
      ]
     },
     "execution_count": 15,
     "metadata": {},
     "output_type": "execute_result"
    }
   ],
   "source": [
    "np.random.rand(5,5) # uniform random numbers in [0,1]. arguments: shape"
   ]
  },
  {
   "cell_type": "code",
   "execution_count": 16,
   "metadata": {
    "colab": {
     "base_uri": "https://localhost:8080/"
    },
    "id": "d7WuYXhornLH",
    "outputId": "5c6321d0-b193-4f94-b419-1f8852bc7448"
   },
   "outputs": [
    {
     "data": {
      "text/plain": [
       "array([[ 0.21480221,  1.47973223, -0.71812607, -0.01081958, -1.59061396],\n",
       "       [-0.20836239, -0.86438826, -0.88823241, -0.82819914, -0.39248188],\n",
       "       [-0.6652189 , -0.50299153, -1.38556002,  1.49934771, -0.28529964],\n",
       "       [ 0.75255205, -1.04258852, -0.82074528, -0.20349296,  0.00416531],\n",
       "       [-0.14294722, -1.70221248, -1.31914892,  1.22083361, -1.04010282]])"
      ]
     },
     "execution_count": 16,
     "metadata": {},
     "output_type": "execute_result"
    }
   ],
   "source": [
    "np.random.randn(5,5) # standard normal distributed random numbers. arguments: shape"
   ]
  },
  {
   "cell_type": "code",
   "execution_count": 17,
   "metadata": {
    "colab": {
     "base_uri": "https://localhost:8080/"
    },
    "id": "JQ_wZBxcrnNc",
    "outputId": "52719f59-272f-4e58-ed45-10ebe01da5d8"
   },
   "outputs": [
    {
     "data": {
      "text/plain": [
       "array([[1, 0, 0],\n",
       "       [0, 2, 0],\n",
       "       [0, 0, 3]])"
      ]
     },
     "execution_count": 17,
     "metadata": {},
     "output_type": "execute_result"
    }
   ],
   "source": [
    "np.diag([1,2,3]) # a diagonal matrix. arguments: array (if 2D, the diag is returned)"
   ]
  },
  {
   "cell_type": "code",
   "execution_count": 18,
   "metadata": {
    "colab": {
     "base_uri": "https://localhost:8080/"
    },
    "id": "u6rfAYJxrnPx",
    "outputId": "05e684e2-aaee-46d0-c25f-995194bf7eca"
   },
   "outputs": [
    {
     "data": {
      "text/plain": [
       "array([[0, 1, 0, 0],\n",
       "       [0, 0, 2, 0],\n",
       "       [0, 0, 0, 3],\n",
       "       [0, 0, 0, 0]])"
      ]
     },
     "execution_count": 18,
     "metadata": {},
     "output_type": "execute_result"
    }
   ],
   "source": [
    "np.diag([1,2,3], k=1) # diagonal with offset from the main diagonal. arguments: array, offset"
   ]
  },
  {
   "cell_type": "code",
   "execution_count": 19,
   "metadata": {
    "colab": {
     "base_uri": "https://localhost:8080/"
    },
    "id": "96QdwdAirnSp",
    "outputId": "8f79dd1d-ab83-404a-acb2-2968c640df48"
   },
   "outputs": [
    {
     "data": {
      "text/plain": [
       "array([[0., 0., 0.],\n",
       "       [0., 0., 0.],\n",
       "       [0., 0., 0.]])"
      ]
     },
     "execution_count": 19,
     "metadata": {},
     "output_type": "execute_result"
    }
   ],
   "source": [
    "np.zeros((3,3)) # zeros"
   ]
  },
  {
   "cell_type": "code",
   "execution_count": 20,
   "metadata": {
    "colab": {
     "base_uri": "https://localhost:8080/"
    },
    "id": "Snm9CGF8rwwI",
    "outputId": "40464a6b-a910-4a18-9911-faaf8046a7ed"
   },
   "outputs": [
    {
     "data": {
      "text/plain": [
       "array([[1., 1., 1.],\n",
       "       [1., 1., 1.],\n",
       "       [1., 1., 1.]])"
      ]
     },
     "execution_count": 20,
     "metadata": {},
     "output_type": "execute_result"
    }
   ],
   "source": [
    "np.ones((3,3)) # ones"
   ]
  },
  {
   "cell_type": "code",
   "execution_count": 21,
   "metadata": {
    "colab": {
     "base_uri": "https://localhost:8080/"
    },
    "id": "qHqm3vv7rwyg",
    "outputId": "ffc4a467-9b4a-4610-a166-30a866b86315"
   },
   "outputs": [
    {
     "data": {
      "text/plain": [
       "array([[False, False, False],\n",
       "       [False, False, False],\n",
       "       [False, False, False]])"
      ]
     },
     "execution_count": 21,
     "metadata": {},
     "output_type": "execute_result"
    }
   ],
   "source": [
    "np.zeros((3,3), dtype=bool) # boolean data type"
   ]
  },
  {
   "cell_type": "markdown",
   "metadata": {
    "id": "SBOLoeLxr2Zk"
   },
   "source": [
    "## Manipulating arrays - Indexing"
   ]
  },
  {
   "cell_type": "code",
   "execution_count": 22,
   "metadata": {
    "colab": {
     "base_uri": "https://localhost:8080/"
    },
    "id": "RoerdaNyr5Yt",
    "outputId": "a6258877-b830-40c0-9c97-bffea5a3e3c3"
   },
   "outputs": [
    {
     "name": "stdout",
     "output_type": "stream",
     "text": [
      "[1 2 3 4]\n",
      "\n",
      "[[1 2]\n",
      " [3 4]]\n"
     ]
    }
   ],
   "source": [
    "v = np.array([1,2,3,4])\n",
    "M = np.array([[1,2],[3,4]])\n",
    "print(v)\n",
    "print()\n",
    "print(M)"
   ]
  },
  {
   "cell_type": "code",
   "execution_count": 23,
   "metadata": {
    "colab": {
     "base_uri": "https://localhost:8080/"
    },
    "id": "tqXMH0pmr5bF",
    "outputId": "2998a1d1-180d-40f8-d390-8fb22a22d807"
   },
   "outputs": [
    {
     "data": {
      "text/plain": [
       "1"
      ]
     },
     "execution_count": 23,
     "metadata": {},
     "output_type": "execute_result"
    }
   ],
   "source": [
    "v[0] # v is a vector, and has only one dimension, taking one index"
   ]
  },
  {
   "cell_type": "code",
   "execution_count": 24,
   "metadata": {
    "colab": {
     "base_uri": "https://localhost:8080/"
    },
    "id": "XyBGjpD4sPtX",
    "outputId": "92ab7298-ab2f-42c2-dc88-ade3edf984eb"
   },
   "outputs": [
    {
     "data": {
      "text/plain": [
       "4"
      ]
     },
     "execution_count": 24,
     "metadata": {},
     "output_type": "execute_result"
    }
   ],
   "source": [
    "M[1,1] # M is a matrix, or a 2 dimensional array, taking two indices "
   ]
  },
  {
   "cell_type": "code",
   "execution_count": 25,
   "metadata": {
    "colab": {
     "base_uri": "https://localhost:8080/"
    },
    "id": "29R9fMClr5da",
    "outputId": "f52d4a5d-d598-464f-cec4-01891b2feebe"
   },
   "outputs": [
    {
     "data": {
      "text/plain": [
       "array([3, 4])"
      ]
     },
     "execution_count": 25,
     "metadata": {},
     "output_type": "execute_result"
    }
   ],
   "source": [
    "M[1,:] # row 1"
   ]
  },
  {
   "cell_type": "code",
   "execution_count": 26,
   "metadata": {
    "colab": {
     "base_uri": "https://localhost:8080/"
    },
    "id": "pQe4TpC5sNoi",
    "outputId": "f4c4af90-480e-4f3c-d0f7-338e82e3afba"
   },
   "outputs": [
    {
     "data": {
      "text/plain": [
       "array([2, 4])"
      ]
     },
     "execution_count": 26,
     "metadata": {},
     "output_type": "execute_result"
    }
   ],
   "source": [
    "M[:,1] # column 1"
   ]
  },
  {
   "cell_type": "code",
   "execution_count": 27,
   "metadata": {
    "colab": {
     "base_uri": "https://localhost:8080/"
    },
    "id": "z7i46FCer5fq",
    "outputId": "e1ca8563-ecee-4e24-d680-80b1c219f1a7"
   },
   "outputs": [
    {
     "data": {
      "text/plain": [
       "array([[10,  2],\n",
       "       [ 3,  4]])"
      ]
     },
     "execution_count": 27,
     "metadata": {},
     "output_type": "execute_result"
    }
   ],
   "source": [
    "M[0,0] = 10 # assign new values to elements in an array using indexing\n",
    "M"
   ]
  },
  {
   "cell_type": "code",
   "execution_count": 28,
   "metadata": {
    "colab": {
     "base_uri": "https://localhost:8080/"
    },
    "id": "ewV_ZAiAr5h2",
    "outputId": "2aea7979-19f6-4541-bcdd-12f9641aca1a"
   },
   "outputs": [
    {
     "data": {
      "text/plain": [
       "array([[10,  2],\n",
       "       [ 0,  0]])"
      ]
     },
     "execution_count": 28,
     "metadata": {},
     "output_type": "execute_result"
    }
   ],
   "source": [
    "M[1,:] = 0 # also works for rows\n",
    "M"
   ]
  },
  {
   "cell_type": "code",
   "execution_count": 29,
   "metadata": {
    "colab": {
     "base_uri": "https://localhost:8080/"
    },
    "id": "x4v1RhcTr5kK",
    "outputId": "0c23c2d4-6a8d-4300-d02f-d9be7dd0972a"
   },
   "outputs": [
    {
     "data": {
      "text/plain": [
       "array([[10, -1],\n",
       "       [ 0, -1]])"
      ]
     },
     "execution_count": 29,
     "metadata": {},
     "output_type": "execute_result"
    }
   ],
   "source": [
    "M[:,1] = -1 # and columns\n",
    "M"
   ]
  },
  {
   "cell_type": "markdown",
   "metadata": {
    "id": "G4Dfyb6usiDN"
   },
   "source": [
    "## Manipulating arrays - Slicing"
   ]
  },
  {
   "cell_type": "code",
   "execution_count": 30,
   "metadata": {
    "colab": {
     "base_uri": "https://localhost:8080/"
    },
    "id": "x1KUOZtZs39y",
    "outputId": "be6b9792-5667-476c-920e-2b8219a86c5e"
   },
   "outputs": [
    {
     "data": {
      "text/plain": [
       "array([0, 1, 2, 3, 4, 5, 6, 7])"
      ]
     },
     "execution_count": 30,
     "metadata": {},
     "output_type": "execute_result"
    }
   ],
   "source": [
    "v = np.arange(8)\n",
    "v"
   ]
  },
  {
   "cell_type": "code",
   "execution_count": 33,
   "metadata": {
    "colab": {
     "base_uri": "https://localhost:8080/"
    },
    "id": "9sALzLPVs4AB",
    "outputId": "2f013d5d-5b78-4719-c9a9-864816e316be"
   },
   "outputs": [
    {
     "data": {
      "text/plain": [
       "array([1, 2])"
      ]
     },
     "execution_count": 33,
     "metadata": {},
     "output_type": "execute_result"
    }
   ],
   "source": [
    "v[1:3] # lower:upper:step"
   ]
  },
  {
   "cell_type": "code",
   "execution_count": 34,
   "metadata": {
    "colab": {
     "base_uri": "https://localhost:8080/"
    },
    "id": "VU80Ouvbs4CT",
    "outputId": "0b2018b0-4876-4c0f-ba00-3661ddb9d890"
   },
   "outputs": [
    {
     "data": {
      "text/plain": [
       "array([ 0, -2, -3,  3,  4,  5,  6,  7])"
      ]
     },
     "execution_count": 34,
     "metadata": {},
     "output_type": "execute_result"
    }
   ],
   "source": [
    "v[1:3] = [-2,-3] # assign new values to elements in an array using slicing\n",
    "v"
   ]
  },
  {
   "cell_type": "code",
   "execution_count": 35,
   "metadata": {
    "colab": {
     "base_uri": "https://localhost:8080/"
    },
    "id": "GEnwwjLes4Eb",
    "outputId": "839791c3-ed25-439f-8424-8aa0c7e905ba"
   },
   "outputs": [
    {
     "data": {
      "text/plain": [
       "array([ 0, -2, -3,  3,  4,  5,  6,  7])"
      ]
     },
     "execution_count": 35,
     "metadata": {},
     "output_type": "execute_result"
    }
   ],
   "source": [
    "v[::] # lower, upper, step all take the default values"
   ]
  },
  {
   "cell_type": "code",
   "execution_count": 36,
   "metadata": {
    "colab": {
     "base_uri": "https://localhost:8080/"
    },
    "id": "ZJYBhwpQs4Gg",
    "outputId": "f1f8a3b4-c81e-4dfb-cc35-35f771854c86"
   },
   "outputs": [
    {
     "data": {
      "text/plain": [
       "array([ 0, -3,  4,  6])"
      ]
     },
     "execution_count": 36,
     "metadata": {},
     "output_type": "execute_result"
    }
   ],
   "source": [
    "v[::2] # step is 2, lower and upper defaults to the beginning and end of the array"
   ]
  },
  {
   "cell_type": "code",
   "execution_count": 37,
   "metadata": {
    "colab": {
     "base_uri": "https://localhost:8080/"
    },
    "id": "u86D8fj5s4JF",
    "outputId": "5ddb3f1e-1ab2-45dd-e075-78f9d7608e06"
   },
   "outputs": [
    {
     "data": {
      "text/plain": [
       "array([ 0, -2, -3])"
      ]
     },
     "execution_count": 37,
     "metadata": {},
     "output_type": "execute_result"
    }
   ],
   "source": [
    "v[:3] # first three elements"
   ]
  },
  {
   "cell_type": "code",
   "execution_count": 38,
   "metadata": {
    "colab": {
     "base_uri": "https://localhost:8080/"
    },
    "id": "JxJh-Fsss4LU",
    "outputId": "013ef65f-d72a-4b59-bfb0-ba8886faf6a3"
   },
   "outputs": [
    {
     "data": {
      "text/plain": [
       "array([3, 4, 5, 6, 7])"
      ]
     },
     "execution_count": 38,
     "metadata": {},
     "output_type": "execute_result"
    }
   ],
   "source": [
    "v[3:] # elements from index 3"
   ]
  },
  {
   "cell_type": "code",
   "execution_count": 39,
   "metadata": {
    "colab": {
     "base_uri": "https://localhost:8080/"
    },
    "id": "CbOpx9TMtPzY",
    "outputId": "19312bb7-3bf4-4e34-a117-23c578d53646"
   },
   "outputs": [
    {
     "data": {
      "text/plain": [
       "7"
      ]
     },
     "execution_count": 39,
     "metadata": {},
     "output_type": "execute_result"
    }
   ],
   "source": [
    "v[-1] # the last element in the array"
   ]
  },
  {
   "cell_type": "code",
   "execution_count": 40,
   "metadata": {
    "colab": {
     "base_uri": "https://localhost:8080/"
    },
    "id": "u1Im8GFUtP1t",
    "outputId": "2e7d43cf-0a1e-45a1-8efa-2bdc96a90bff"
   },
   "outputs": [
    {
     "data": {
      "text/plain": [
       "array([5, 6, 7])"
      ]
     },
     "execution_count": 40,
     "metadata": {},
     "output_type": "execute_result"
    }
   ],
   "source": [
    "v[-3:] # the last three elements"
   ]
  },
  {
   "cell_type": "code",
   "execution_count": 41,
   "metadata": {
    "colab": {
     "base_uri": "https://localhost:8080/"
    },
    "id": "dwCmyh8BtP4N",
    "outputId": "8ff416dd-f9fb-400e-8896-b464608664fe"
   },
   "outputs": [
    {
     "data": {
      "text/plain": [
       "array([[ 1,  2,  3,  4],\n",
       "       [ 5,  6,  7,  8],\n",
       "       [ 9, 10, 11, 12],\n",
       "       [13, 14, 15, 16]])"
      ]
     },
     "execution_count": 41,
     "metadata": {},
     "output_type": "execute_result"
    }
   ],
   "source": [
    "M = np.array([[1,2,3,4],[5,6,7,8],[9,10,11,12],[13,14,15,16]])\n",
    "M"
   ]
  },
  {
   "cell_type": "code",
   "execution_count": 42,
   "metadata": {
    "colab": {
     "base_uri": "https://localhost:8080/"
    },
    "id": "2w0isD4YtP6f",
    "outputId": "ebe7ea68-2794-4408-8c4b-ba98055ea5ce"
   },
   "outputs": [
    {
     "data": {
      "text/plain": [
       "array([[ 6,  7],\n",
       "       [10, 11]])"
      ]
     },
     "execution_count": 42,
     "metadata": {},
     "output_type": "execute_result"
    }
   ],
   "source": [
    "M[1:3, 1:3] # a block from the original array"
   ]
  },
  {
   "cell_type": "code",
   "execution_count": 43,
   "metadata": {
    "colab": {
     "base_uri": "https://localhost:8080/"
    },
    "id": "9fTBh5Rdtknk",
    "outputId": "cf13ca8b-2d96-47b5-ab5e-4498e54995ef"
   },
   "outputs": [
    {
     "data": {
      "text/plain": [
       "array([[ 1,  3],\n",
       "       [ 9, 11]])"
      ]
     },
     "execution_count": 43,
     "metadata": {},
     "output_type": "execute_result"
    }
   ],
   "source": [
    "M[::2, ::2] # strides"
   ]
  },
  {
   "cell_type": "markdown",
   "metadata": {
    "id": "PzCnRdD1uPrX"
   },
   "source": [
    "## Fancy indexing (makes a copy)"
   ]
  },
  {
   "cell_type": "code",
   "execution_count": null,
   "metadata": {
    "colab": {
     "base_uri": "https://localhost:8080/"
    },
    "id": "e3dH9VRVulVR",
    "outputId": "35360fb5-bf11-4b68-a35b-fc77e7334e76"
   },
   "outputs": [],
   "source": [
    "row_indices = [1, 2, 3] # fancy indexing is the name for when an array or list is used in-place of an index:\n",
    "M[row_indices,:]"
   ]
  },
  {
   "cell_type": "code",
   "execution_count": null,
   "metadata": {
    "colab": {
     "base_uri": "https://localhost:8080/"
    },
    "id": "wz9V_HIwulXj",
    "outputId": "dd008e0f-7469-44fb-b856-5240039b3303"
   },
   "outputs": [],
   "source": [
    "col_indices = [1, 2, -1] # remember, index -1 means the last element\n",
    "M[row_indices, col_indices]"
   ]
  },
  {
   "cell_type": "code",
   "execution_count": 44,
   "metadata": {
    "colab": {
     "base_uri": "https://localhost:8080/"
    },
    "id": "bhFytx71ulZ7",
    "outputId": "ca13172c-45a6-47ff-ca6f-426551df872b"
   },
   "outputs": [
    {
     "name": "stdout",
     "output_type": "stream",
     "text": [
      "[ 0 -2 -3  3  4  5  6  7]\n",
      "[ True False  True False False  True  True False]\n",
      "[ 0 -3  5  6]\n"
     ]
    }
   ],
   "source": [
    "# We can also use index masks: If the index mask is an Numpy array of data type bool, \n",
    "# then an element is selected (True) or not (False) depending on the value of the \n",
    "# index mask at the position of each element:\n",
    "\n",
    "mask = np.array([1,0,1,0,0,1,1,0], dtype=bool) \n",
    "print(v)\n",
    "print(mask)\n",
    "print(v[mask])"
   ]
  },
  {
   "cell_type": "code",
   "execution_count": 45,
   "metadata": {
    "colab": {
     "base_uri": "https://localhost:8080/"
    },
    "id": "_U9MJWe3ulco",
    "outputId": "6326519c-b6f2-4469-829e-8395f58e603b"
   },
   "outputs": [
    {
     "name": "stdout",
     "output_type": "stream",
     "text": [
      "[[False False  True  True]\n",
      " [ True  True  True  True]\n",
      " [ True  True  True  True]\n",
      " [False False False False]]\n",
      "[ 3  4  5  6  7  8  9 10 11 12]\n"
     ]
    }
   ],
   "source": [
    "mask = (M>2) & (M < 13) # conditionally select elements from an array, using for example comparison operators (need the parentheses)\n",
    "print(mask)\n",
    "print(M[mask])"
   ]
  },
  {
   "cell_type": "code",
   "execution_count": 46,
   "metadata": {
    "colab": {
     "base_uri": "https://localhost:8080/"
    },
    "id": "uQBX1FI_vOzD",
    "outputId": "77b2d4e9-c0df-48d5-c25d-0296c6fc0b77"
   },
   "outputs": [
    {
     "name": "stdout",
     "output_type": "stream",
     "text": [
      "(array([0, 0, 1, 1, 1, 1, 2, 2, 2, 2]), array([2, 3, 0, 1, 2, 3, 0, 1, 2, 3]))\n",
      "[ 3  4  5  6  7  8  9 10 11 12]\n"
     ]
    }
   ],
   "source": [
    "indices = np.where(mask) # the index mask can be converted to position index using the where function\n",
    "print(indices)\n",
    "print(M[indices])"
   ]
  },
  {
   "cell_type": "markdown",
   "metadata": {
    "id": "x56Bj6s9vYLr"
   },
   "source": [
    "## Element-wise array-array operations"
   ]
  },
  {
   "cell_type": "code",
   "execution_count": 47,
   "metadata": {
    "colab": {
     "base_uri": "https://localhost:8080/"
    },
    "id": "lEOo8DoBvdYM",
    "outputId": "f7aad005-5427-47bf-ec9a-ae67dbbf9020"
   },
   "outputs": [
    {
     "name": "stdout",
     "output_type": "stream",
     "text": [
      "[0 1 2 3]\n",
      "\n",
      "[[ 1  2  3  4]\n",
      " [ 5  6  7  8]\n",
      " [ 9 10 11 12]\n",
      " [13 14 15 16]]\n"
     ]
    }
   ],
   "source": [
    "# Default in Python; in Matlab one needs . for element-wise operations\n",
    "\n",
    "v = np.arange(4)\n",
    "M = np.array([[1,2,3,4],[5,6,7,8],[9,10,11,12],[13,14,15,16]])\n",
    "\n",
    "print(v)\n",
    "print()\n",
    "print(M)"
   ]
  },
  {
   "cell_type": "code",
   "execution_count": 48,
   "metadata": {
    "colab": {
     "base_uri": "https://localhost:8080/"
    },
    "id": "vyLt8dunvdiV",
    "outputId": "15b7455a-bfbd-4707-edde-8c6109025d77"
   },
   "outputs": [
    {
     "data": {
      "text/plain": [
       "array([[ 2,  4,  6,  8],\n",
       "       [10, 12, 14, 16],\n",
       "       [18, 20, 22, 24],\n",
       "       [26, 28, 30, 32]])"
      ]
     },
     "execution_count": 48,
     "metadata": {},
     "output_type": "execute_result"
    }
   ],
   "source": [
    "M * 2 # use the usual arithmetic operators to multiply, add, subtract, and divide arrays with scalar numbers"
   ]
  },
  {
   "cell_type": "code",
   "execution_count": 49,
   "metadata": {
    "colab": {
     "base_uri": "https://localhost:8080/"
    },
    "id": "KA0SqXrdvdlB",
    "outputId": "1a65f18b-6d69-4630-b396-ae48dd3c36f4"
   },
   "outputs": [
    {
     "data": {
      "text/plain": [
       "array([[ 3,  4,  5,  6],\n",
       "       [ 7,  8,  9, 10],\n",
       "       [11, 12, 13, 14],\n",
       "       [15, 16, 17, 18]])"
      ]
     },
     "execution_count": 49,
     "metadata": {},
     "output_type": "execute_result"
    }
   ],
   "source": [
    "M + 2"
   ]
  },
  {
   "cell_type": "code",
   "execution_count": 50,
   "metadata": {
    "colab": {
     "base_uri": "https://localhost:8080/"
    },
    "id": "egJuiDjjvdoQ",
    "outputId": "39d5787c-2dd2-454c-e7f6-b27d4fded27d"
   },
   "outputs": [
    {
     "data": {
      "text/plain": [
       "array([[  1,   4,   9,  16],\n",
       "       [ 25,  36,  49,  64],\n",
       "       [ 81, 100, 121, 144],\n",
       "       [169, 196, 225, 256]])"
      ]
     },
     "execution_count": 50,
     "metadata": {},
     "output_type": "execute_result"
    }
   ],
   "source": [
    "M * M # when adding, subtracting, multiplying and dividing arrays with each other, the default behaviour is element-wise operations"
   ]
  },
  {
   "cell_type": "code",
   "execution_count": 51,
   "metadata": {
    "colab": {
     "base_uri": "https://localhost:8080/"
    },
    "id": "32FfIzdBvtFT",
    "outputId": "5ec68806-b1eb-42bb-e633-eb9ae286c23f"
   },
   "outputs": [
    {
     "data": {
      "text/plain": [
       "array([[ 2,  4,  6,  8],\n",
       "       [10, 12, 14, 16],\n",
       "       [18, 20, 22, 24],\n",
       "       [26, 28, 30, 32]])"
      ]
     },
     "execution_count": 51,
     "metadata": {},
     "output_type": "execute_result"
    }
   ],
   "source": [
    "M + M"
   ]
  },
  {
   "cell_type": "code",
   "execution_count": 52,
   "metadata": {
    "colab": {
     "base_uri": "https://localhost:8080/"
    },
    "id": "X0DZJZ6pvtHo",
    "outputId": "5b4fddc8-8215-4392-91e8-b86b15236c15"
   },
   "outputs": [
    {
     "data": {
      "text/plain": [
       "array([[ 0,  2,  6, 12],\n",
       "       [ 0,  6, 14, 24],\n",
       "       [ 0, 10, 22, 36],\n",
       "       [ 0, 14, 30, 48]])"
      ]
     },
     "execution_count": 52,
     "metadata": {},
     "output_type": "execute_result"
    }
   ],
   "source": [
    "M * v # why does this work?"
   ]
  },
  {
   "cell_type": "code",
   "execution_count": 53,
   "metadata": {
    "colab": {
     "base_uri": "https://localhost:8080/"
    },
    "id": "G55BrT8avtKV",
    "outputId": "7e9ad325-3c7d-445e-f9f4-195498a83caa"
   },
   "outputs": [
    {
     "data": {
      "text/plain": [
       "array([[ 1,  3,  5,  7],\n",
       "       [ 5,  7,  9, 11],\n",
       "       [ 9, 11, 13, 15],\n",
       "       [13, 15, 17, 19]])"
      ]
     },
     "execution_count": 53,
     "metadata": {},
     "output_type": "execute_result"
    }
   ],
   "source": [
    "M + v"
   ]
  },
  {
   "cell_type": "markdown",
   "metadata": {
    "id": "Eh07ddjGv0Ni"
   },
   "source": [
    "## Broadcasting rules\n",
    "\n",
    "Broadcasting refers to the method that Numpy uses to allow array arithmetic between arrays with a different shape or size."
   ]
  },
  {
   "cell_type": "code",
   "execution_count": 54,
   "metadata": {
    "colab": {
     "base_uri": "https://localhost:8080/"
    },
    "id": "lbg-tjA9v9jC",
    "outputId": "4fb5596a-b3d0-48c0-a89a-14780d9ace24"
   },
   "outputs": [
    {
     "name": "stdout",
     "output_type": "stream",
     "text": [
      "a = \n",
      "[1 2 3]\n",
      "\n",
      "b = \n",
      "2\n",
      "\n",
      "a + b = \n",
      "[3 4 5]\n"
     ]
    }
   ],
   "source": [
    "# scalar and one-dimensional\n",
    "a = np.array([1, 2, 3])\n",
    "b = 2\n",
    "print('a = ')\n",
    "print(a)\n",
    "print()\n",
    "print('b = ')\n",
    "print(b)\n",
    "print()\n",
    "print('a + b = ')\n",
    "print(a+b)"
   ]
  },
  {
   "cell_type": "code",
   "execution_count": 55,
   "metadata": {
    "colab": {
     "base_uri": "https://localhost:8080/"
    },
    "id": "RoX5HcrOv9lX",
    "outputId": "c787bcd1-c720-4c12-c962-ec57034c83aa"
   },
   "outputs": [
    {
     "name": "stdout",
     "output_type": "stream",
     "text": [
      "a = \n",
      "[[1 2 3]\n",
      " [1 2 3]]\n",
      "\n",
      "b = \n",
      "2\n",
      "\n",
      "a + b = \n",
      "[[3 4 5]\n",
      " [3 4 5]]\n"
     ]
    }
   ],
   "source": [
    "# scalar and two-dimensional\n",
    "a = np.array([[1, 2, 3], [1, 2, 3]])\n",
    "b = 2\n",
    "print('a = ')\n",
    "print(a)\n",
    "print()\n",
    "print('b = ')\n",
    "print(b)\n",
    "print()\n",
    "print('a + b = ')\n",
    "print(a+b)"
   ]
  },
  {
   "cell_type": "code",
   "execution_count": 56,
   "metadata": {
    "colab": {
     "base_uri": "https://localhost:8080/"
    },
    "id": "HArEx2b1v9oA",
    "outputId": "04665d1b-0367-47df-e721-1d392bc4135a"
   },
   "outputs": [
    {
     "name": "stdout",
     "output_type": "stream",
     "text": [
      "a = \n",
      "[[1 2 3]\n",
      " [1 2 3]]\n",
      "\n",
      "b = \n",
      "[1 2 3]\n",
      "\n",
      "a + b = \n",
      "[[2 4 6]\n",
      " [2 4 6]]\n"
     ]
    }
   ],
   "source": [
    "# one-dimensional and two-dimensional\n",
    "a = np.array([[1, 2, 3], [1, 2, 3]])\n",
    "b = np.array([1, 2, 3])\n",
    "print('a = ')\n",
    "print(a)\n",
    "print()\n",
    "print('b = ')\n",
    "print(b)\n",
    "print()\n",
    "print('a + b = ')\n",
    "print(a+b)"
   ]
  },
  {
   "cell_type": "code",
   "execution_count": 61,
   "metadata": {
    "colab": {
     "base_uri": "https://localhost:8080/",
     "height": 357
    },
    "id": "ul_Z04CTv9xK",
    "outputId": "0acae5ca-b646-4586-f5d1-d85e16c0c713"
   },
   "outputs": [
    {
     "name": "stdout",
     "output_type": "stream",
     "text": [
      "a = \n",
      "[[1. 1.]\n",
      " [1. 1.]\n",
      " [1. 1.]]\n",
      "\n",
      "b = \n",
      "[0 1 2]\n",
      "\n",
      "a + b = \n"
     ]
    },
    {
     "ename": "ValueError",
     "evalue": "operands could not be broadcast together with shapes (3,2) (3,) ",
     "output_type": "error",
     "traceback": [
      "\u001b[0;31m---------------------------------------------------------------------------\u001b[0m",
      "\u001b[0;31mValueError\u001b[0m                                Traceback (most recent call last)",
      "Cell \u001b[0;32mIn[61], line 11\u001b[0m\n\u001b[1;32m      9\u001b[0m \u001b[38;5;28mprint\u001b[39m()\n\u001b[1;32m     10\u001b[0m \u001b[38;5;28mprint\u001b[39m(\u001b[38;5;124m'\u001b[39m\u001b[38;5;124ma + b = \u001b[39m\u001b[38;5;124m'\u001b[39m)\n\u001b[0;32m---> 11\u001b[0m \u001b[38;5;28mprint\u001b[39m(\u001b[43ma\u001b[49m\u001b[38;5;241;43m+\u001b[39;49m\u001b[43mb\u001b[49m)\n",
      "\u001b[0;31mValueError\u001b[0m: operands could not be broadcast together with shapes (3,2) (3,) "
     ]
    }
   ],
   "source": [
    "# mismatch:\n",
    "a = np.ones((3, 2))\n",
    "b = np.arange(3)\n",
    "print('a = ')\n",
    "print(a)\n",
    "print()\n",
    "print('b = ')\n",
    "print(b)\n",
    "print()\n",
    "print('a + b = ')\n",
    "print(a+b)"
   ]
  },
  {
   "cell_type": "markdown",
   "metadata": {
    "id": "9QoxyH45w5Z2"
   },
   "source": [
    "## Linear algebra"
   ]
  },
  {
   "cell_type": "code",
   "execution_count": 62,
   "metadata": {
    "colab": {
     "base_uri": "https://localhost:8080/"
    },
    "id": "E9WabU2xxLVv",
    "outputId": "cb866c10-578b-467d-8568-52c9f15f259f"
   },
   "outputs": [
    {
     "name": "stdout",
     "output_type": "stream",
     "text": [
      "[0 1 2 3]\n",
      "\n",
      "[[ 1  2  3  4]\n",
      " [ 5  6  7  8]\n",
      " [ 9 10 11 12]\n",
      " [13 14 15 16]]\n"
     ]
    }
   ],
   "source": [
    "v = np.arange(4)\n",
    "M = np.array([[1,2,3,4],[5,6,7,8],[9,10,11,12],[13,14,15,16]])\n",
    "print(v)\n",
    "print()\n",
    "print(M)"
   ]
  },
  {
   "cell_type": "code",
   "execution_count": 63,
   "metadata": {
    "colab": {
     "base_uri": "https://localhost:8080/"
    },
    "id": "VE-KSZsvxLYU",
    "outputId": "0bacee0c-5121-4abf-e0db-3681384d2dda"
   },
   "outputs": [
    {
     "data": {
      "text/plain": [
       "array([[ 90, 100, 110, 120],\n",
       "       [202, 228, 254, 280],\n",
       "       [314, 356, 398, 440],\n",
       "       [426, 484, 542, 600]])"
      ]
     },
     "execution_count": 63,
     "metadata": {},
     "output_type": "execute_result"
    }
   ],
   "source": [
    "np.dot(M, M) # matrix-matrix multiplication"
   ]
  },
  {
   "cell_type": "code",
   "execution_count": 64,
   "metadata": {
    "colab": {
     "base_uri": "https://localhost:8080/"
    },
    "id": "hv6GWRzYxLas",
    "outputId": "2d4f33b5-ef6a-4ce4-e403-7c83e85080ef"
   },
   "outputs": [
    {
     "name": "stdout",
     "output_type": "stream",
     "text": [
      "<class 'numpy.ndarray'>\n",
      "[20 44 68 92]\n"
     ]
    }
   ],
   "source": [
    "a = np.dot(M, v) # matrix-vector multiplication\n",
    "print(type(a))\n",
    "print(a)"
   ]
  },
  {
   "cell_type": "code",
   "execution_count": 65,
   "metadata": {
    "colab": {
     "base_uri": "https://localhost:8080/"
    },
    "id": "L1Kc4RK_xLcU",
    "outputId": "723dfc96-6bec-404e-acae-50029a0805d0"
   },
   "outputs": [
    {
     "data": {
      "text/plain": [
       "14"
      ]
     },
     "execution_count": 65,
     "metadata": {},
     "output_type": "execute_result"
    }
   ],
   "source": [
    "np.dot(v, v) # inner vector multiplication"
   ]
  },
  {
   "cell_type": "code",
   "execution_count": 66,
   "metadata": {
    "colab": {
     "base_uri": "https://localhost:8080/"
    },
    "id": "AOkQL9daxLeu",
    "outputId": "20a2848a-61cc-4919-dfea-deb8cd0518dc"
   },
   "outputs": [
    {
     "data": {
      "text/plain": [
       "matrix([[ 1,  2,  3,  4],\n",
       "        [ 5,  6,  7,  8],\n",
       "        [ 9, 10, 11, 12],\n",
       "        [13, 14, 15, 16]])"
      ]
     },
     "execution_count": 66,
     "metadata": {},
     "output_type": "execute_result"
    }
   ],
   "source": [
    "M = np.matrix(M) # cast to matrix\n",
    "M"
   ]
  },
  {
   "cell_type": "code",
   "execution_count": 67,
   "metadata": {
    "colab": {
     "base_uri": "https://localhost:8080/"
    },
    "id": "6FP_CEKKxLg7",
    "outputId": "fa50df60-bbde-4931-c821-91104d6d21bf"
   },
   "outputs": [
    {
     "data": {
      "text/plain": [
       "matrix([[0],\n",
       "        [1],\n",
       "        [2],\n",
       "        [3]])"
      ]
     },
     "execution_count": 67,
     "metadata": {},
     "output_type": "execute_result"
    }
   ],
   "source": [
    "v = np.matrix(v).T # cast to matrix; make it a column vector via transpose\n",
    "v"
   ]
  },
  {
   "cell_type": "code",
   "execution_count": 68,
   "metadata": {
    "colab": {
     "base_uri": "https://localhost:8080/"
    },
    "id": "uJtFsfDzxLjW",
    "outputId": "f722cc73-6737-4806-91c1-d73cbce426f8"
   },
   "outputs": [
    {
     "data": {
      "text/plain": [
       "matrix([[ 90, 100, 110, 120],\n",
       "        [202, 228, 254, 280],\n",
       "        [314, 356, 398, 440],\n",
       "        [426, 484, 542, 600]])"
      ]
     },
     "execution_count": 68,
     "metadata": {},
     "output_type": "execute_result"
    }
   ],
   "source": [
    "M * M # matrix-matrix multiplication"
   ]
  },
  {
   "cell_type": "code",
   "execution_count": 69,
   "metadata": {
    "colab": {
     "base_uri": "https://localhost:8080/"
    },
    "id": "6VvdUjQtxLoK",
    "outputId": "584016cf-a58c-4ae0-f88f-6571af821c39"
   },
   "outputs": [
    {
     "data": {
      "text/plain": [
       "matrix([[20],\n",
       "        [44],\n",
       "        [68],\n",
       "        [92]])"
      ]
     },
     "execution_count": 69,
     "metadata": {},
     "output_type": "execute_result"
    }
   ],
   "source": [
    "M * v # matrix-vector multiplication"
   ]
  },
  {
   "cell_type": "code",
   "execution_count": 70,
   "metadata": {
    "colab": {
     "base_uri": "https://localhost:8080/"
    },
    "id": "6GkEBfb0xopA",
    "outputId": "cbe1d898-7840-444f-fd5d-e605945d4268"
   },
   "outputs": [
    {
     "data": {
      "text/plain": [
       "matrix([[14]])"
      ]
     },
     "execution_count": 70,
     "metadata": {},
     "output_type": "execute_result"
    }
   ],
   "source": [
    "v.T * v # inner vector multiplication"
   ]
  },
  {
   "cell_type": "code",
   "execution_count": 71,
   "metadata": {
    "colab": {
     "base_uri": "https://localhost:8080/",
     "height": 322
    },
    "id": "i_5pH1u_xorM",
    "outputId": "1316bf1a-67a1-4d22-dbef-86efdaaee771"
   },
   "outputs": [
    {
     "ename": "ValueError",
     "evalue": "shapes (4,1) and (4,4) not aligned: 1 (dim 1) != 4 (dim 0)",
     "output_type": "error",
     "traceback": [
      "\u001b[0;31m---------------------------------------------------------------------------\u001b[0m",
      "\u001b[0;31mValueError\u001b[0m                                Traceback (most recent call last)",
      "Cell \u001b[0;32mIn[71], line 1\u001b[0m\n\u001b[0;32m----> 1\u001b[0m \u001b[43mv\u001b[49m\u001b[43m \u001b[49m\u001b[38;5;241;43m*\u001b[39;49m\u001b[43m \u001b[49m\u001b[43mM\u001b[49m\n",
      "File \u001b[0;32m~/opt/anaconda3/envs/intro/lib/python3.10/site-packages/numpy/matrixlib/defmatrix.py:218\u001b[0m, in \u001b[0;36mmatrix.__mul__\u001b[0;34m(self, other)\u001b[0m\n\u001b[1;32m    215\u001b[0m \u001b[38;5;28;01mdef\u001b[39;00m \u001b[38;5;21m__mul__\u001b[39m(\u001b[38;5;28mself\u001b[39m, other):\n\u001b[1;32m    216\u001b[0m     \u001b[38;5;28;01mif\u001b[39;00m \u001b[38;5;28misinstance\u001b[39m(other, (N\u001b[38;5;241m.\u001b[39mndarray, \u001b[38;5;28mlist\u001b[39m, \u001b[38;5;28mtuple\u001b[39m)) :\n\u001b[1;32m    217\u001b[0m         \u001b[38;5;66;03m# This promotes 1-D vectors to row vectors\u001b[39;00m\n\u001b[0;32m--> 218\u001b[0m         \u001b[38;5;28;01mreturn\u001b[39;00m \u001b[43mN\u001b[49m\u001b[38;5;241;43m.\u001b[39;49m\u001b[43mdot\u001b[49m\u001b[43m(\u001b[49m\u001b[38;5;28;43mself\u001b[39;49m\u001b[43m,\u001b[49m\u001b[43m \u001b[49m\u001b[43masmatrix\u001b[49m\u001b[43m(\u001b[49m\u001b[43mother\u001b[49m\u001b[43m)\u001b[49m\u001b[43m)\u001b[49m\n\u001b[1;32m    219\u001b[0m     \u001b[38;5;28;01mif\u001b[39;00m isscalar(other) \u001b[38;5;129;01mor\u001b[39;00m \u001b[38;5;129;01mnot\u001b[39;00m \u001b[38;5;28mhasattr\u001b[39m(other, \u001b[38;5;124m'\u001b[39m\u001b[38;5;124m__rmul__\u001b[39m\u001b[38;5;124m'\u001b[39m) :\n\u001b[1;32m    220\u001b[0m         \u001b[38;5;28;01mreturn\u001b[39;00m N\u001b[38;5;241m.\u001b[39mdot(\u001b[38;5;28mself\u001b[39m, other)\n",
      "File \u001b[0;32m<__array_function__ internals>:180\u001b[0m, in \u001b[0;36mdot\u001b[0;34m(*args, **kwargs)\u001b[0m\n",
      "\u001b[0;31mValueError\u001b[0m: shapes (4,1) and (4,4) not aligned: 1 (dim 1) != 4 (dim 0)"
     ]
    }
   ],
   "source": [
    "v * M # if we try to add, subtract or multiply objects with incomplatible shapes we get an error"
   ]
  },
  {
   "cell_type": "code",
   "execution_count": 72,
   "metadata": {
    "colab": {
     "base_uri": "https://localhost:8080/"
    },
    "id": "FztUF0z2xotu",
    "outputId": "bdcc7283-9509-49fd-fb2e-83cecb508261"
   },
   "outputs": [
    {
     "data": {
      "text/plain": [
       "4.7331654313261276e-30"
      ]
     },
     "execution_count": 72,
     "metadata": {},
     "output_type": "execute_result"
    }
   ],
   "source": [
    "np.linalg.det(M) # determinant"
   ]
  },
  {
   "cell_type": "code",
   "execution_count": 73,
   "metadata": {
    "colab": {
     "base_uri": "https://localhost:8080/",
     "height": 346
    },
    "id": "td3XapiCyBnq",
    "outputId": "cfa79068-4819-4b24-d0bc-e866d0d590f1"
   },
   "outputs": [
    {
     "data": {
      "text/plain": [
       "matrix([[ 3.94064967e+15, -4.50359963e+15, -2.81474977e+15,\n",
       "          3.37769972e+15],\n",
       "        [-4.12829966e+15,  4.50359963e+15,  3.37769972e+15,\n",
       "         -3.75299969e+15],\n",
       "        [-3.56534971e+15,  4.50359963e+15,  1.68884986e+15,\n",
       "         -2.62709978e+15],\n",
       "        [ 3.75299969e+15, -4.50359963e+15, -2.25179981e+15,\n",
       "          3.00239975e+15]])"
      ]
     },
     "execution_count": 73,
     "metadata": {},
     "output_type": "execute_result"
    }
   ],
   "source": [
    "np.linalg.inv(M) # inverse"
   ]
  },
  {
   "cell_type": "markdown",
   "metadata": {
    "id": "xCmQ02WMyK-x"
   },
   "source": [
    "## Data processing"
   ]
  },
  {
   "cell_type": "code",
   "execution_count": 74,
   "metadata": {
    "colab": {
     "base_uri": "https://localhost:8080/"
    },
    "id": "4q_2j5omxwpG",
    "outputId": "e59fbef6-929d-4a77-d8d3-716e217cdfef"
   },
   "outputs": [
    {
     "data": {
      "text/plain": [
       "array([[ 0,  1],\n",
       "       [ 2,  3],\n",
       "       [ 4,  5],\n",
       "       [ 6,  7],\n",
       "       [ 8,  9],\n",
       "       [10, 11],\n",
       "       [12, 13],\n",
       "       [14, 15]])"
      ]
     },
     "execution_count": 74,
     "metadata": {},
     "output_type": "execute_result"
    }
   ],
   "source": [
    "M = np.arange(16).reshape((8,2))\n",
    "M"
   ]
  },
  {
   "cell_type": "code",
   "execution_count": 75,
   "metadata": {
    "colab": {
     "base_uri": "https://localhost:8080/"
    },
    "id": "wXqptCl5qusT",
    "outputId": "4d5266ec-8e58-4617-dd80-f5f9e06b8599"
   },
   "outputs": [
    {
     "name": "stdout",
     "output_type": "stream",
     "text": [
      "7.5\n",
      "7.5\n",
      "[7. 8.]\n",
      "[7. 8.]\n",
      "[ 0.5  2.5  4.5  6.5  8.5 10.5 12.5 14.5]\n"
     ]
    }
   ],
   "source": [
    "print(np.mean(M))\n",
    "\n",
    "print(M.mean())\n",
    "\n",
    "print(np.mean(M, axis=0)) # can specify several axes\n",
    "\n",
    "print(M.mean(axis=0))\n",
    "\n",
    "print(M.mean(axis=1))"
   ]
  },
  {
   "cell_type": "code",
   "execution_count": 76,
   "metadata": {
    "colab": {
     "base_uri": "https://localhost:8080/"
    },
    "id": "mq00EeaV_1Ec",
    "outputId": "edfff419-d7d8-4f02-b2b3-7b06fe0d552a"
   },
   "outputs": [
    {
     "name": "stdout",
     "output_type": "stream",
     "text": [
      "[[ 0  1]\n",
      " [ 2  3]\n",
      " [ 4  5]\n",
      " [ 6  7]\n",
      " [ 8  9]\n",
      " [10 11]\n",
      " [12 13]\n",
      " [14 15]]\n",
      "7.5\n",
      "4.6097722286464435\n",
      "21.25\n",
      "0\n",
      "15\n",
      "120\n",
      "[  0   1   3   6  10  15  21  28  36  45  55  66  78  91 105 120]\n",
      "20922789888000\n"
     ]
    }
   ],
   "source": [
    "print(M)\n",
    "\n",
    "print(np.median(M))\n",
    "\n",
    "print(np.std(M))\n",
    "\n",
    "print(np.var(M))\n",
    "\n",
    "print(np.min(M))\n",
    "\n",
    "print(np.max(M))\n",
    "\n",
    "print(np.sum(M)) # sum up all elements\n",
    "\n",
    "print(np.cumsum(M)) # cummulative sum\n",
    "\n",
    "print(np.prod(M + 1)) # product of all elements"
   ]
  },
  {
   "cell_type": "markdown",
   "metadata": {
    "id": "BjAoHjVUyYlc"
   },
   "source": [
    "## Reshaping, resizing and stacking arrays"
   ]
  },
  {
   "cell_type": "code",
   "execution_count": 77,
   "metadata": {
    "colab": {
     "base_uri": "https://localhost:8080/"
    },
    "id": "ljL2h5yryW1V",
    "outputId": "7c22803b-abed-461b-af1f-a9e4420227c8"
   },
   "outputs": [
    {
     "name": "stdout",
     "output_type": "stream",
     "text": [
      "[[1 2 3 4]]\n",
      "\n",
      "[[11 12 13 14]]\n",
      "\n",
      "[[ 1  2  3  4]\n",
      " [ 5  6  7  8]\n",
      " [ 9 10 11 12]\n",
      " [13 14 15 16]]\n"
     ]
    }
   ],
   "source": [
    "v = np.array([[1, 2, 3, 4]])\n",
    "v2 = np.array([[11, 12, 13, 14]])\n",
    "M = np.array([[1,2,3,4],[5,6,7,8],[9,10,11,12],[13,14,15,16]])\n",
    "\n",
    "print(v)\n",
    "print()\n",
    "print(v2)\n",
    "print()\n",
    "print(M)"
   ]
  },
  {
   "cell_type": "code",
   "execution_count": 80,
   "metadata": {
    "colab": {
     "base_uri": "https://localhost:8080/"
    },
    "id": "vtVXVpd_AhHl",
    "outputId": "72861e7c-ea6c-43a8-e210-c7f3b578da96"
   },
   "outputs": [
    {
     "data": {
      "text/plain": [
       "array([[ 1,  2,  3,  4,  5,  6,  7,  8,  9, 10, 11, 12, 13, 14, 15, 16]])"
      ]
     },
     "execution_count": 80,
     "metadata": {},
     "output_type": "execute_result"
    }
   ],
   "source": [
    "n, m = M.shape # make into vector:\n",
    "M.reshape((1,n*m))"
   ]
  },
  {
   "cell_type": "code",
   "execution_count": 81,
   "metadata": {
    "id": "A4oo06k7AnUJ"
   },
   "outputs": [
    {
     "data": {
      "text/plain": [
       "array([[ 1,  2,  3,  4],\n",
       "       [ 5,  6,  7,  8],\n",
       "       [ 9, 10, 11, 12],\n",
       "       [13, 14, 15, 16]])"
      ]
     },
     "execution_count": 81,
     "metadata": {},
     "output_type": "execute_result"
    }
   ],
   "source": [
    "M = np.arange(1,17).reshape(4,4)\n",
    "M"
   ]
  },
  {
   "cell_type": "code",
   "execution_count": 83,
   "metadata": {
    "id": "8ei6CXALv8OI"
   },
   "outputs": [
    {
     "name": "stdout",
     "output_type": "stream",
     "text": [
      "[ 1  2  3  4  5  6  7  8  9 10 11 12 13 14 15 16]\n",
      "[ 1  2  3  4  5  6  7  8  9 10 11 12 13 14 15 16]\n"
     ]
    }
   ],
   "source": [
    "print(M.flatten()) # make into vector (again returns a copy)\n",
    "print(M.ravel()) # make into vector (does not return a copy)\n"
   ]
  },
  {
   "cell_type": "code",
   "execution_count": 84,
   "metadata": {
    "id": "lWrqubpZv8RP"
   },
   "outputs": [
    {
     "data": {
      "text/plain": [
       "array([[ 1,  2,  3,  4,  5,  6,  7,  8],\n",
       "       [ 9, 10, 11, 12, 13, 14, 15, 16]])"
      ]
     },
     "execution_count": 84,
     "metadata": {},
     "output_type": "execute_result"
    }
   ],
   "source": [
    "M.reshape((2,8)) # reshape into 2 rows, 8 columns"
   ]
  },
  {
   "cell_type": "code",
   "execution_count": 85,
   "metadata": {
    "colab": {
     "base_uri": "https://localhost:8080/"
    },
    "id": "bLzNx7FYv8VJ",
    "outputId": "54bbb4cf-53d1-4451-8851-84436dc54736"
   },
   "outputs": [
    {
     "name": "stdout",
     "output_type": "stream",
     "text": [
      "[1 1 1 2 2 2 3 3 3 4 4 4]\n",
      "[[1 2 3 4 1 2 3 4 1 2 3 4]]\n"
     ]
    }
   ],
   "source": [
    "print(np.repeat(v, 3)) # repeat each element 3 times\n",
    "\n",
    "print(np.tile(v, 3)) # tile the matrix 3 times"
   ]
  },
  {
   "cell_type": "code",
   "execution_count": 86,
   "metadata": {
    "colab": {
     "base_uri": "https://localhost:8080/"
    },
    "id": "GwXNsjJYBYw5",
    "outputId": "54abf0f0-59e9-4053-924e-ce50ccd3b043"
   },
   "outputs": [
    {
     "name": "stdout",
     "output_type": "stream",
     "text": [
      "[[ 1  2  3  4]\n",
      " [11 12 13 14]]\n",
      "\n",
      "[[ 1  2  3  4 11 12 13 14]]\n"
     ]
    }
   ],
   "source": [
    "print(np.concatenate((v, v2))) # concatenate 2 vectors (default across first dimension)\n",
    "print()\n",
    "print(np.concatenate((v, v2), axis=1)) # concatenate 2 vectors across second dimension"
   ]
  },
  {
   "cell_type": "code",
   "execution_count": 87,
   "metadata": {
    "colab": {
     "base_uri": "https://localhost:8080/"
    },
    "id": "mTXUcfuerN65",
    "outputId": "7cf83911-48d0-4afc-cbe5-239ad7e97f56"
   },
   "outputs": [
    {
     "data": {
      "text/plain": [
       "array([[ 1,  2,  3,  4],\n",
       "       [ 5,  6,  7,  8],\n",
       "       [ 9, 10, 11, 12],\n",
       "       [13, 14, 15, 16],\n",
       "       [ 1,  2,  3,  4]])"
      ]
     },
     "execution_count": 87,
     "metadata": {},
     "output_type": "execute_result"
    }
   ],
   "source": [
    "np.vstack((M,v)) # stack vertically"
   ]
  },
  {
   "cell_type": "code",
   "execution_count": 88,
   "metadata": {
    "colab": {
     "base_uri": "https://localhost:8080/",
     "height": 374
    },
    "id": "cwsz25ysrOIw",
    "outputId": "6e681103-e6ab-4308-bea6-d36ba5e3e74e"
   },
   "outputs": [
    {
     "ename": "ValueError",
     "evalue": "all the input array dimensions for the concatenation axis must match exactly, but along dimension 0, the array at index 0 has size 4 and the array at index 1 has size 1",
     "output_type": "error",
     "traceback": [
      "\u001b[0;31m---------------------------------------------------------------------------\u001b[0m",
      "\u001b[0;31mValueError\u001b[0m                                Traceback (most recent call last)",
      "Cell \u001b[0;32mIn[88], line 1\u001b[0m\n\u001b[0;32m----> 1\u001b[0m \u001b[43mnp\u001b[49m\u001b[38;5;241;43m.\u001b[39;49m\u001b[43mhstack\u001b[49m\u001b[43m(\u001b[49m\u001b[43m(\u001b[49m\u001b[43mM\u001b[49m\u001b[43m,\u001b[49m\u001b[43mv\u001b[49m\u001b[43m)\u001b[49m\u001b[43m)\u001b[49m\n",
      "File \u001b[0;32m<__array_function__ internals>:180\u001b[0m, in \u001b[0;36mhstack\u001b[0;34m(*args, **kwargs)\u001b[0m\n",
      "File \u001b[0;32m~/opt/anaconda3/envs/intro/lib/python3.10/site-packages/numpy/core/shape_base.py:345\u001b[0m, in \u001b[0;36mhstack\u001b[0;34m(tup)\u001b[0m\n\u001b[1;32m    343\u001b[0m     \u001b[38;5;28;01mreturn\u001b[39;00m _nx\u001b[38;5;241m.\u001b[39mconcatenate(arrs, \u001b[38;5;241m0\u001b[39m)\n\u001b[1;32m    344\u001b[0m \u001b[38;5;28;01melse\u001b[39;00m:\n\u001b[0;32m--> 345\u001b[0m     \u001b[38;5;28;01mreturn\u001b[39;00m \u001b[43m_nx\u001b[49m\u001b[38;5;241;43m.\u001b[39;49m\u001b[43mconcatenate\u001b[49m\u001b[43m(\u001b[49m\u001b[43marrs\u001b[49m\u001b[43m,\u001b[49m\u001b[43m \u001b[49m\u001b[38;5;241;43m1\u001b[39;49m\u001b[43m)\u001b[49m\n",
      "File \u001b[0;32m<__array_function__ internals>:180\u001b[0m, in \u001b[0;36mconcatenate\u001b[0;34m(*args, **kwargs)\u001b[0m\n",
      "\u001b[0;31mValueError\u001b[0m: all the input array dimensions for the concatenation axis must match exactly, but along dimension 0, the array at index 0 has size 4 and the array at index 1 has size 1"
     ]
    }
   ],
   "source": [
    "np.hstack((M,v)) # stack horizontally --> dimension mismatch"
   ]
  },
  {
   "cell_type": "code",
   "execution_count": 89,
   "metadata": {
    "colab": {
     "base_uri": "https://localhost:8080/"
    },
    "id": "ooUYwkXvrOLT",
    "outputId": "9dc94ec0-a72a-49be-d418-35f089d4f203"
   },
   "outputs": [
    {
     "data": {
      "text/plain": [
       "array([[ 1,  2,  3,  4,  1],\n",
       "       [ 5,  6,  7,  8,  2],\n",
       "       [ 9, 10, 11, 12,  3],\n",
       "       [13, 14, 15, 16,  4]])"
      ]
     },
     "execution_count": 89,
     "metadata": {},
     "output_type": "execute_result"
    }
   ],
   "source": [
    "np.hstack((M,v.T)) # stack horizontally "
   ]
  },
  {
   "cell_type": "markdown",
   "metadata": {
    "id": "SNnJhsy_Cven"
   },
   "source": [
    "# Scipy + Matplotlib"
   ]
  },
  {
   "cell_type": "markdown",
   "metadata": {
    "id": "KwP8URUVCzXW"
   },
   "source": [
    "## Curve fitting"
   ]
  },
  {
   "cell_type": "code",
   "execution_count": 94,
   "metadata": {
    "colab": {
     "base_uri": "https://localhost:8080/",
     "height": 401
    },
    "id": "UR77U6PprOQU",
    "outputId": "5b84893f-afbb-426c-dc61-75c1bbf55301"
   },
   "outputs": [
    {
     "name": "stdout",
     "output_type": "stream",
     "text": [
      "Intel MKL WARNING: Support of Intel(R) Streaming SIMD Extensions 4.2 (Intel(R) SSE4.2) enabled only processors has been deprecated. Intel oneAPI Math Kernel Library 2025.0 will require Intel(R) Advanced Vector Extensions (Intel(R) AVX) instructions.\n",
      " fit coefficients:\n",
      " [4.83926165 1.52557209 0.48379139]\n",
      " Covariance matrix:\n",
      " [[ 0.02515836  0.00679882 -0.00088175]\n",
      " [ 0.00679882  0.01015621  0.00393037]\n",
      " [-0.00088175  0.00393037  0.00339035]]\n"
     ]
    },
    {
     "data": {
      "text/plain": [
       "[<matplotlib.lines.Line2D at 0x7f8a604c7b50>]"
      ]
     },
     "execution_count": 94,
     "metadata": {},
     "output_type": "execute_result"
    },
    {
     "data": {
      "image/png": "[encoded data removed]",
      "text/plain": [
       "<Figure size 640x480 with 1 Axes>"
      ]
     },
     "metadata": {},
     "output_type": "display_data"
    }
   ],
   "source": [
    "from scipy.optimize import curve_fit\n",
    "\n",
    "def fitFunc(t, a, b, c):\n",
    "    return a*np.exp(-b*t) + c\n",
    "    \n",
    "t = np.linspace(0,4,50)\n",
    "temp = fitFunc(t, 5.0, 1.5, 0.5)\n",
    "noisy = temp + 0.25*np.random.normal(size=len(temp))\n",
    "\n",
    "plt.errorbar(t, noisy, fmt='ro', yerr=0.2) # plot the data as red circles with vertical errorbars\n",
    "plt.ylabel('Temperature (C)')\n",
    "plt.xlabel('Time (s)')\n",
    "plt.xlim(0,4)\n",
    "\n",
    "fitParams, fitCovariances = curve_fit(fitFunc, t, noisy)\n",
    "print(' fit coefficients:\\n', fitParams)\n",
    "print(' Covariance matrix:\\n', fitCovariances)\n",
    "plt.plot(t, fitFunc(t, fitParams[0], fitParams[1], fitParams[2])) # now plot the best fit curve"
   ]
  },
  {
   "cell_type": "markdown",
   "metadata": {
    "id": "y_VeY4c0Cd5J"
   },
   "source": [
    "## Interpolation"
   ]
  },
  {
   "cell_type": "code",
   "execution_count": 95,
   "metadata": {
    "colab": {
     "base_uri": "https://localhost:8080/",
     "height": 337
    },
    "id": "wLsINjhirOVB",
    "outputId": "10a5d5e4-6352-48d3-d01a-1c32295bb1a4"
   },
   "outputs": [
    {
     "name": "stderr",
     "output_type": "stream",
     "text": [
      "/var/folders/mf/g71cmf2x25lf58v034wnlxx40000gn/T/ipykernel_47953/3580015935.py:9: DeprecationWarning: scipy.randn is deprecated and will be removed in SciPy 2.0.0, use numpy.random.randn instead\n",
      "  y_meas = f(n) + 0.1 * sp.randn(len(n)) # simulate measurement with noise\n"
     ]
    },
    {
     "data": {
      "text/plain": [
       "<matplotlib.legend.Legend at 0x7f8a302e9690>"
      ]
     },
     "execution_count": 95,
     "metadata": {},
     "output_type": "execute_result"
    },
    {
     "data": {
      "image/png": "[encoded data removed]",
      "text/plain": [
       "<Figure size 640x480 with 1 Axes>"
      ]
     },
     "metadata": {},
     "output_type": "display_data"
    }
   ],
   "source": [
    "from scipy.interpolate import interp1d\n",
    "\n",
    "def f(x):\n",
    "    return np.sin(x)\n",
    "    \n",
    "n = np.arange(0, 10)  \n",
    "x = np.linspace(0, 9, 100)\n",
    "\n",
    "y_meas = f(n) + 0.1 * sp.randn(len(n)) # simulate measurement with noise\n",
    "y_real = f(x)\n",
    "\n",
    "linear_interpolation = interp1d(n, y_meas)\n",
    "y_interp1 = linear_interpolation(x)\n",
    "\n",
    "cubic_interpolation = interp1d(n, y_meas, kind='cubic')\n",
    "y_interp2 = cubic_interpolation(x)\n",
    "\n",
    "plt.figure()\n",
    "plt.plot(n, y_meas, 'bs', label='noisy data')\n",
    "plt.plot(x, y_real, 'k', lw=2, label='true function')\n",
    "plt.plot(x, y_interp1, 'r', label='linear interp')\n",
    "plt.plot(x, y_interp2, 'g', label='cubic interp')\n",
    "plt.legend(loc=3)"
   ]
  },
  {
   "cell_type": "markdown",
   "metadata": {
    "id": "ONfbu1JkC46a"
   },
   "source": [
    "## Fourier transform"
   ]
  },
  {
   "cell_type": "code",
   "execution_count": 96,
   "metadata": {
    "colab": {
     "base_uri": "https://localhost:8080/",
     "height": 590
    },
    "id": "fjkRG8syrOXp",
    "outputId": "619d40a0-3869-4ec5-97a6-8bcf831a7b88"
   },
   "outputs": [
    {
     "data": {
      "text/plain": [
       "Text(0, 0.5, 'Amplitude (Hz)')"
      ]
     },
     "execution_count": 96,
     "metadata": {},
     "output_type": "execute_result"
    },
    {
     "data": {
      "image/png": "[encoded data removed]",
      "text/plain": [
       "<Figure size 640x480 with 1 Axes>"
      ]
     },
     "metadata": {},
     "output_type": "display_data"
    },
    {
     "data": {
      "image/png": "[encoded data removed]",
      "text/plain": [
       "<Figure size 640x480 with 1 Axes>"
      ]
     },
     "metadata": {},
     "output_type": "display_data"
    }
   ],
   "source": [
    "from scipy.fftpack import fft\n",
    "\n",
    "N = 300 # number of samplepoints\n",
    "T = 1 / 1000.0 # sample spacing\n",
    "x = np.linspace(0.0, N*T, N)\n",
    "y = np.sin(50.0 * 2.0*np.pi*x) + 0.5*np.sin(80.0 * 2.0*np.pi*x)\n",
    "\n",
    "plt.figure()\n",
    "plt.plot(x,y)\n",
    "plt.title('Signal')\n",
    "plt.xlabel('Time (s)')\n",
    "plt.ylabel('Amplitude (a.u.)')\n",
    "\n",
    "yf = fft(y)\n",
    "xf = np.linspace(0.0, 1.0/(2.0*T), int(N/2))\n",
    "\n",
    "plt.figure()\n",
    "plt.plot(xf, 2.0/N * np.abs(yf[:N//2]))\n",
    "plt.title('Fourier transform')\n",
    "plt.xlabel('Frequency (s)')\n",
    "plt.ylabel('Amplitude (Hz)')"
   ]
  },
  {
   "cell_type": "markdown",
   "metadata": {
    "id": "TnMb7_V5EBK4"
   },
   "source": [
    "## Statistics"
   ]
  },
  {
   "cell_type": "code",
   "execution_count": 99,
   "metadata": {
    "colab": {
     "base_uri": "https://localhost:8080/",
     "height": 404
    },
    "id": "8taCp0MJrOac",
    "outputId": "55f1837e-5a8c-4c4d-8170-48d3a0ec6ccb"
   },
   "outputs": [
    {
     "name": "stdout",
     "output_type": "stream",
     "text": [
      "x1 vs x2\n",
      "ind. t-test: t = -3.5729; p = 0.0005\n",
      "x1 vs x2\n",
      "paired t-test: t = -3.337; p = 0.0016\n",
      "x1 vs 0\n",
      "1 sample t-test: t = 0.1979; p = 0.8439\n",
      "x2 vs 0\n",
      "1 sample t-test: t = 5.2716; p = 0.0\n"
     ]
    },
    {
     "data": {
      "image/png": "[encoded data removed]",
      "text/plain": [
       "<Figure size 640x480 with 1 Axes>"
      ]
     },
     "metadata": {},
     "output_type": "display_data"
    }
   ],
   "source": [
    "from scipy import stats\n",
    "\n",
    "# T-TEST:\n",
    "\n",
    "x1 = np.random.normal(loc=0, scale=1, size=50)\n",
    "x2 = np.random.normal(loc=.5, scale=1, size=50)\n",
    "\n",
    "plt.hist(x1, bins=10, alpha=0.5, label='x1')\n",
    "plt.hist(x2, bins=10, alpha=0.5, label='x2')\n",
    "plt.legend()\n",
    "\n",
    "t, p = sp.stats.ttest_ind(x1, x2)\n",
    "print('x1 vs x2\\nind. t-test: t = {}; p = {}'.format(round(t,4), round(p,4)))\n",
    "\n",
    "t, p = sp.stats.ttest_rel(x1, x2)\n",
    "print('x1 vs x2\\npaired t-test: t = {}; p = {}'.format(round(t,4), round(p,4)))\n",
    "\n",
    "t, p = sp.stats.ttest_1samp(x1, 0)\n",
    "print('x1 vs 0\\n1 sample t-test: t = {}; p = {}'.format(round(t,4), round(p,4)))\n",
    "\n",
    "t, p = sp.stats.ttest_1samp(x2, 0)\n",
    "print('x2 vs 0\\n1 sample t-test: t = {}; p = {}'.format(round(t,4), round(p,4)))"
   ]
  },
  {
   "cell_type": "code",
   "execution_count": 100,
   "metadata": {
    "colab": {
     "base_uri": "https://localhost:8080/",
     "height": 366
    },
    "id": "4cQjG7ogquuX",
    "outputId": "25ee6a15-f888-437e-9888-29b17f064e53"
   },
   "outputs": [
    {
     "name": "stdout",
     "output_type": "stream",
     "text": [
      "correlation x and y\n",
      "pearson r = 0.3153; p = 0.0257\n",
      "Intel MKL WARNING: Support of Intel(R) Streaming SIMD Extensions 4.2 (Intel(R) SSE4.2) enabled only processors has been deprecated. Intel oneAPI Math Kernel Library 2025.0 will require Intel(R) Advanced Vector Extensions (Intel(R) AVX) instructions.\n",
      "correlation x and y\n",
      "spearman r = 0.2966; p = 0.0365\n"
     ]
    },
    {
     "data": {
      "text/plain": [
       "[<matplotlib.lines.Line2D at 0x7f8a605a1210>]"
      ]
     },
     "execution_count": 100,
     "metadata": {},
     "output_type": "execute_result"
    },
    {
     "data": {
      "image/png": "[encoded data removed]",
      "text/plain": [
       "<Figure size 640x480 with 1 Axes>"
      ]
     },
     "metadata": {},
     "output_type": "display_data"
    }
   ],
   "source": [
    "# REGRESSION:\n",
    "\n",
    "x = np.random.normal(loc=0, scale=1, size=50)\n",
    "y = x + np.random.normal(loc=0, scale=2, size=50)\n",
    "\n",
    "r, p = sp.stats.pearsonr(x, y)\n",
    "print('correlation x and y\\npearson r = {}; p = {}'.format(round(r,4), round(p,4)))\n",
    "\n",
    "r, p = sp.stats.spearmanr(x, y)\n",
    "print('correlation x and y\\nspearman r = {}; p = {}'.format(round(r,4), round(p,4)))\n",
    "\n",
    "plt.plot(x,y,'o')\n",
    "plt.xlabel('x (a.u.)')\n",
    "plt.ylabel('y (a.u.)')\n",
    "\n",
    "# calc the trendline\n",
    "coefs = np.polyfit(x, y, 1)\n",
    "poly = np.poly1d(coefs)\n",
    "plt.plot(x, poly(x), \"r\")"
   ]
  },
  {
   "cell_type": "code",
   "execution_count": 101,
   "metadata": {
    "colab": {
     "base_uri": "https://localhost:8080/",
     "height": 320
    },
    "id": "1po-bPtUquwq",
    "outputId": "9a7eddfd-2f7a-4a32-d716-627a61876327"
   },
   "outputs": [
    {
     "data": {
      "text/html": [
       "<div>\n",
       "<style scoped>\n",
       "    .dataframe tbody tr th:only-of-type {\n",
       "        vertical-align: middle;\n",
       "    }\n",
       "\n",
       "    .dataframe tbody tr th {\n",
       "        vertical-align: top;\n",
       "    }\n",
       "\n",
       "    .dataframe thead th {\n",
       "        text-align: right;\n",
       "    }\n",
       "</style>\n",
       "<table border=\"1\" class=\"dataframe\">\n",
       "  <thead>\n",
       "    <tr style=\"text-align: right;\">\n",
       "      <th></th>\n",
       "      <th>PassengerId</th>\n",
       "      <th>Survived</th>\n",
       "      <th>Pclass</th>\n",
       "      <th>Name</th>\n",
       "      <th>Sex</th>\n",
       "      <th>Age</th>\n",
       "      <th>SibSp</th>\n",
       "      <th>Parch</th>\n",
       "      <th>Ticket</th>\n",
       "      <th>Fare</th>\n",
       "      <th>Cabin</th>\n",
       "      <th>Embarked</th>\n",
       "    </tr>\n",
       "  </thead>\n",
       "  <tbody>\n",
       "    <tr>\n",
       "      <th>0</th>\n",
       "      <td>1</td>\n",
       "      <td>0</td>\n",
       "      <td>3</td>\n",
       "      <td>Braund, Mr. Owen Harris</td>\n",
       "      <td>male</td>\n",
       "      <td>22.0</td>\n",
       "      <td>1</td>\n",
       "      <td>0</td>\n",
       "      <td>A/5 21171</td>\n",
       "      <td>7.2500</td>\n",
       "      <td>NaN</td>\n",
       "      <td>S</td>\n",
       "    </tr>\n",
       "    <tr>\n",
       "      <th>1</th>\n",
       "      <td>2</td>\n",
       "      <td>1</td>\n",
       "      <td>1</td>\n",
       "      <td>Cumings, Mrs. John Bradley (Florence Briggs Th...</td>\n",
       "      <td>female</td>\n",
       "      <td>38.0</td>\n",
       "      <td>1</td>\n",
       "      <td>0</td>\n",
       "      <td>PC 17599</td>\n",
       "      <td>71.2833</td>\n",
       "      <td>C85</td>\n",
       "      <td>C</td>\n",
       "    </tr>\n",
       "    <tr>\n",
       "      <th>2</th>\n",
       "      <td>3</td>\n",
       "      <td>1</td>\n",
       "      <td>3</td>\n",
       "      <td>Heikkinen, Miss. Laina</td>\n",
       "      <td>female</td>\n",
       "      <td>26.0</td>\n",
       "      <td>0</td>\n",
       "      <td>0</td>\n",
       "      <td>STON/O2. 3101282</td>\n",
       "      <td>7.9250</td>\n",
       "      <td>NaN</td>\n",
       "      <td>S</td>\n",
       "    </tr>\n",
       "    <tr>\n",
       "      <th>3</th>\n",
       "      <td>4</td>\n",
       "      <td>1</td>\n",
       "      <td>1</td>\n",
       "      <td>Futrelle, Mrs. Jacques Heath (Lily May Peel)</td>\n",
       "      <td>female</td>\n",
       "      <td>35.0</td>\n",
       "      <td>1</td>\n",
       "      <td>0</td>\n",
       "      <td>113803</td>\n",
       "      <td>53.1000</td>\n",
       "      <td>C123</td>\n",
       "      <td>S</td>\n",
       "    </tr>\n",
       "    <tr>\n",
       "      <th>4</th>\n",
       "      <td>5</td>\n",
       "      <td>0</td>\n",
       "      <td>3</td>\n",
       "      <td>Allen, Mr. William Henry</td>\n",
       "      <td>male</td>\n",
       "      <td>35.0</td>\n",
       "      <td>0</td>\n",
       "      <td>0</td>\n",
       "      <td>373450</td>\n",
       "      <td>8.0500</td>\n",
       "      <td>NaN</td>\n",
       "      <td>S</td>\n",
       "    </tr>\n",
       "  </tbody>\n",
       "</table>\n",
       "</div>"
      ],
      "text/plain": [
       "   PassengerId  Survived  Pclass  \\\n",
       "0            1         0       3   \n",
       "1            2         1       1   \n",
       "2            3         1       3   \n",
       "3            4         1       1   \n",
       "4            5         0       3   \n",
       "\n",
       "                                                Name     Sex   Age  SibSp  \\\n",
       "0                            Braund, Mr. Owen Harris    male  22.0      1   \n",
       "1  Cumings, Mrs. John Bradley (Florence Briggs Th...  female  38.0      1   \n",
       "2                             Heikkinen, Miss. Laina  female  26.0      0   \n",
       "3       Futrelle, Mrs. Jacques Heath (Lily May Peel)  female  35.0      1   \n",
       "4                           Allen, Mr. William Henry    male  35.0      0   \n",
       "\n",
       "   Parch            Ticket     Fare Cabin Embarked  \n",
       "0      0         A/5 21171   7.2500   NaN        S  \n",
       "1      0          PC 17599  71.2833   C85        C  \n",
       "2      0  STON/O2. 3101282   7.9250   NaN        S  \n",
       "3      0            113803  53.1000  C123        S  \n",
       "4      0            373450   8.0500   NaN        S  "
      ]
     },
     "execution_count": 101,
     "metadata": {},
     "output_type": "execute_result"
    }
   ],
   "source": [
    "import pandas as pd\n",
    "\n",
    "df = pd.read_csv('https://raw.githubusercontent.com/datasciencedojo/datasets/master/titanic.csv') # Get this from kaggle: https://www.kaggle.com/c/titanic\n",
    "\n",
    "df.head()"
   ]
  },
  {
   "cell_type": "code",
   "execution_count": 102,
   "metadata": {
    "colab": {
     "base_uri": "https://localhost:8080/"
    },
    "id": "LFWbv9rl4f-T",
    "outputId": "b1bbdf91-2487-428d-db2e-5b4d027d8748"
   },
   "outputs": [
    {
     "data": {
      "text/plain": [
       "0      3\n",
       "1      1\n",
       "2      3\n",
       "3      1\n",
       "4      3\n",
       "      ..\n",
       "886    2\n",
       "887    1\n",
       "888    3\n",
       "889    1\n",
       "890    3\n",
       "Name: Pclass, Length: 891, dtype: int64"
      ]
     },
     "execution_count": 102,
     "metadata": {},
     "output_type": "execute_result"
    }
   ],
   "source": [
    "df['Pclass']"
   ]
  },
  {
   "cell_type": "code",
   "execution_count": 103,
   "metadata": {},
   "outputs": [
    {
     "data": {
      "text/plain": [
       "array([3, 1, 2])"
      ]
     },
     "execution_count": 103,
     "metadata": {},
     "output_type": "execute_result"
    }
   ],
   "source": [
    "df['Pclass'].unique()"
   ]
  },
  {
   "cell_type": "code",
   "execution_count": 119,
   "metadata": {},
   "outputs": [
    {
     "data": {
      "text/plain": [
       "0      False\n",
       "1       True\n",
       "2      False\n",
       "3       True\n",
       "4      False\n",
       "       ...  \n",
       "886    False\n",
       "887     True\n",
       "888    False\n",
       "889    False\n",
       "890    False\n",
       "Length: 891, dtype: bool"
      ]
     },
     "execution_count": 119,
     "metadata": {},
     "output_type": "execute_result"
    }
   ],
   "source": [
    "(df['Pclass']==c) & (df['Sex']=='female')"
   ]
  },
  {
   "cell_type": "code",
   "execution_count": 121,
   "metadata": {
    "colab": {
     "base_uri": "https://localhost:8080/"
    },
    "id": "6Bc1h1WC4KIA",
    "outputId": "98d8fdce-648e-4857-b41f-11fa9f3b016f"
   },
   "outputs": [
    {
     "name": "stdout",
     "output_type": "stream",
     "text": [
      "Age    34.611765\n",
      "dtype: float64\n",
      "Age    28.722973\n",
      "dtype: float64\n",
      "Age    21.75\n",
      "dtype: float64\n"
     ]
    }
   ],
   "source": [
    "for c in [1,2,3]:\n",
    "    print(df.loc[((df['Pclass']==c) & \n",
    "                 (df['Sex']=='female')), ['Age',]].mean())\n",
    "\n",
    "# (df.loc[df['Pclass']==1, 'Sex'] == 'male').mean()"
   ]
  },
  {
   "cell_type": "code",
   "execution_count": 122,
   "metadata": {},
   "outputs": [
    {
     "data": {
      "text/plain": [
       "[28.343689655172415, 30.62617924528302]"
      ]
     },
     "execution_count": 122,
     "metadata": {},
     "output_type": "execute_result"
    }
   ],
   "source": [
    "age = []\n",
    "for s in [1,0]:\n",
    "    age.append(df.loc[df['Survived']==s, 'Age'].mean())\n",
    "age"
   ]
  },
  {
   "cell_type": "code",
   "execution_count": 123,
   "metadata": {
    "colab": {
     "base_uri": "https://localhost:8080/"
    },
    "id": "uuF-GoruquzA",
    "outputId": "4b9170c6-3853-4d93-9ed3-0b6523c64abe"
   },
   "outputs": [
    {
     "name": "stdout",
     "output_type": "stream",
     "text": [
      "[31.618055555555557, 27.276021505376345]\n",
      "[25.046875, 28.84771573604061]\n"
     ]
    }
   ],
   "source": [
    "age_male = []\n",
    "age_female = []\n",
    "for survived in df['Survived'].unique():\n",
    "    for sex in df['Sex'].unique():\n",
    "        if sex == 'male':\n",
    "            age_male.append(df.loc[(df['Survived']==survived)&(df['Sex']==sex), 'Age'].mean())\n",
    "        elif sex == 'female':\n",
    "            age_female.append(df.loc[(df['Survived']==survived)&(df['Sex']==sex), 'Age'].mean())\n",
    "print(age_male)\n",
    "print(age_female)"
   ]
  },
  {
   "cell_type": "code",
   "execution_count": 128,
   "metadata": {
    "colab": {
     "base_uri": "https://localhost:8080/",
     "height": 206
    },
    "id": "rcpzjlVFqu1m",
    "outputId": "3fef80f2-20fe-48aa-d310-2d0f2ac188ad"
   },
   "outputs": [
    {
     "data": {
      "text/plain": [
       "Survived  Sex     Pclass\n",
       "0         female  1         25.666667\n",
       "                  2         36.000000\n",
       "                  3         23.818182\n",
       "          male    1         44.581967\n",
       "                  2         33.369048\n",
       "                  3         27.255814\n",
       "1         female  1         34.939024\n",
       "                  2         28.080882\n",
       "                  3         19.329787\n",
       "          male    1         36.248000\n",
       "                  2         16.022000\n",
       "                  3         22.274211\n",
       "Name: Age, dtype: float64"
      ]
     },
     "execution_count": 128,
     "metadata": {},
     "output_type": "execute_result"
    }
   ],
   "source": [
    "res = df.groupby(['Survived', 'Sex', 'Pclass'])['Age'].mean()\n",
    "res"
   ]
  },
  {
   "cell_type": "code",
   "execution_count": 133,
   "metadata": {
    "colab": {
     "base_uri": "https://localhost:8080/"
    },
    "id": "E3cQzXpiHfEx",
    "outputId": "e2cd9275-84b4-4555-dfcc-fb91be03d09d"
   },
   "outputs": [
    {
     "name": "stdout",
     "output_type": "stream",
     "text": [
      "[  0.  10.  20.  30.  40.  50.  60.  70.  80.  90. 100.]\n"
     ]
    },
    {
     "name": "stderr",
     "output_type": "stream",
     "text": [
      "/var/folders/mf/g71cmf2x25lf58v034wnlxx40000gn/T/ipykernel_47953/3127398102.py:6: FutureWarning: The default value of numeric_only in DataFrameGroupBy.mean is deprecated. In a future version, numeric_only will default to False. Either specify numeric_only or select only columns which should be valid for the function.\n",
      "  df.groupby([pd.cut(df['Age'], cuts)]).mean()\n"
     ]
    },
    {
     "data": {
      "text/html": [
       "<div>\n",
       "<style scoped>\n",
       "    .dataframe tbody tr th:only-of-type {\n",
       "        vertical-align: middle;\n",
       "    }\n",
       "\n",
       "    .dataframe tbody tr th {\n",
       "        vertical-align: top;\n",
       "    }\n",
       "\n",
       "    .dataframe thead th {\n",
       "        text-align: right;\n",
       "    }\n",
       "</style>\n",
       "<table border=\"1\" class=\"dataframe\">\n",
       "  <thead>\n",
       "    <tr style=\"text-align: right;\">\n",
       "      <th></th>\n",
       "      <th>PassengerId</th>\n",
       "      <th>Survived</th>\n",
       "      <th>Pclass</th>\n",
       "      <th>Age</th>\n",
       "      <th>SibSp</th>\n",
       "      <th>Parch</th>\n",
       "      <th>Fare</th>\n",
       "    </tr>\n",
       "    <tr>\n",
       "      <th>Age</th>\n",
       "      <th></th>\n",
       "      <th></th>\n",
       "      <th></th>\n",
       "      <th></th>\n",
       "      <th></th>\n",
       "      <th></th>\n",
       "      <th></th>\n",
       "    </tr>\n",
       "  </thead>\n",
       "  <tbody>\n",
       "    <tr>\n",
       "      <th>(0.0, 10.0]</th>\n",
       "      <td>430.843750</td>\n",
       "      <td>0.593750</td>\n",
       "      <td>2.640625</td>\n",
       "      <td>4.268281</td>\n",
       "      <td>1.843750</td>\n",
       "      <td>1.421875</td>\n",
       "      <td>30.434439</td>\n",
       "    </tr>\n",
       "    <tr>\n",
       "      <th>(10.0, 20.0]</th>\n",
       "      <td>447.660870</td>\n",
       "      <td>0.382609</td>\n",
       "      <td>2.530435</td>\n",
       "      <td>17.317391</td>\n",
       "      <td>0.591304</td>\n",
       "      <td>0.391304</td>\n",
       "      <td>29.529531</td>\n",
       "    </tr>\n",
       "    <tr>\n",
       "      <th>(20.0, 30.0]</th>\n",
       "      <td>428.682609</td>\n",
       "      <td>0.365217</td>\n",
       "      <td>2.386957</td>\n",
       "      <td>25.423913</td>\n",
       "      <td>0.321739</td>\n",
       "      <td>0.239130</td>\n",
       "      <td>28.306719</td>\n",
       "    </tr>\n",
       "    <tr>\n",
       "      <th>(30.0, 40.0]</th>\n",
       "      <td>468.690323</td>\n",
       "      <td>0.445161</td>\n",
       "      <td>2.090323</td>\n",
       "      <td>35.051613</td>\n",
       "      <td>0.374194</td>\n",
       "      <td>0.393548</td>\n",
       "      <td>42.496100</td>\n",
       "    </tr>\n",
       "    <tr>\n",
       "      <th>(40.0, 50.0]</th>\n",
       "      <td>483.500000</td>\n",
       "      <td>0.383721</td>\n",
       "      <td>1.918605</td>\n",
       "      <td>45.372093</td>\n",
       "      <td>0.372093</td>\n",
       "      <td>0.430233</td>\n",
       "      <td>41.163181</td>\n",
       "    </tr>\n",
       "    <tr>\n",
       "      <th>(50.0, 60.0]</th>\n",
       "      <td>449.809524</td>\n",
       "      <td>0.404762</td>\n",
       "      <td>1.523810</td>\n",
       "      <td>54.892857</td>\n",
       "      <td>0.309524</td>\n",
       "      <td>0.309524</td>\n",
       "      <td>44.774802</td>\n",
       "    </tr>\n",
       "    <tr>\n",
       "      <th>(60.0, 70.0]</th>\n",
       "      <td>430.882353</td>\n",
       "      <td>0.235294</td>\n",
       "      <td>1.529412</td>\n",
       "      <td>63.882353</td>\n",
       "      <td>0.176471</td>\n",
       "      <td>0.352941</td>\n",
       "      <td>45.910782</td>\n",
       "    </tr>\n",
       "    <tr>\n",
       "      <th>(70.0, 80.0]</th>\n",
       "      <td>438.200000</td>\n",
       "      <td>0.200000</td>\n",
       "      <td>1.800000</td>\n",
       "      <td>73.300000</td>\n",
       "      <td>0.000000</td>\n",
       "      <td>0.000000</td>\n",
       "      <td>25.936680</td>\n",
       "    </tr>\n",
       "    <tr>\n",
       "      <th>(80.0, 90.0]</th>\n",
       "      <td>NaN</td>\n",
       "      <td>NaN</td>\n",
       "      <td>NaN</td>\n",
       "      <td>NaN</td>\n",
       "      <td>NaN</td>\n",
       "      <td>NaN</td>\n",
       "      <td>NaN</td>\n",
       "    </tr>\n",
       "    <tr>\n",
       "      <th>(90.0, 100.0]</th>\n",
       "      <td>NaN</td>\n",
       "      <td>NaN</td>\n",
       "      <td>NaN</td>\n",
       "      <td>NaN</td>\n",
       "      <td>NaN</td>\n",
       "      <td>NaN</td>\n",
       "      <td>NaN</td>\n",
       "    </tr>\n",
       "  </tbody>\n",
       "</table>\n",
       "</div>"
      ],
      "text/plain": [
       "               PassengerId  Survived    Pclass        Age     SibSp     Parch  \\\n",
       "Age                                                                             \n",
       "(0.0, 10.0]     430.843750  0.593750  2.640625   4.268281  1.843750  1.421875   \n",
       "(10.0, 20.0]    447.660870  0.382609  2.530435  17.317391  0.591304  0.391304   \n",
       "(20.0, 30.0]    428.682609  0.365217  2.386957  25.423913  0.321739  0.239130   \n",
       "(30.0, 40.0]    468.690323  0.445161  2.090323  35.051613  0.374194  0.393548   \n",
       "(40.0, 50.0]    483.500000  0.383721  1.918605  45.372093  0.372093  0.430233   \n",
       "(50.0, 60.0]    449.809524  0.404762  1.523810  54.892857  0.309524  0.309524   \n",
       "(60.0, 70.0]    430.882353  0.235294  1.529412  63.882353  0.176471  0.352941   \n",
       "(70.0, 80.0]    438.200000  0.200000  1.800000  73.300000  0.000000  0.000000   \n",
       "(80.0, 90.0]           NaN       NaN       NaN        NaN       NaN       NaN   \n",
       "(90.0, 100.0]          NaN       NaN       NaN        NaN       NaN       NaN   \n",
       "\n",
       "                    Fare  \n",
       "Age                       \n",
       "(0.0, 10.0]    30.434439  \n",
       "(10.0, 20.0]   29.529531  \n",
       "(20.0, 30.0]   28.306719  \n",
       "(30.0, 40.0]   42.496100  \n",
       "(40.0, 50.0]   41.163181  \n",
       "(50.0, 60.0]   44.774802  \n",
       "(60.0, 70.0]   45.910782  \n",
       "(70.0, 80.0]   25.936680  \n",
       "(80.0, 90.0]         NaN  \n",
       "(90.0, 100.0]        NaN  "
      ]
     },
     "execution_count": 133,
     "metadata": {},
     "output_type": "execute_result"
    }
   ],
   "source": [
    "cuts = np.linspace(0, 100, 11)\n",
    "print(cuts)\n",
    "\n",
    "# pd.cut(df.Age, cuts)\n",
    "\n",
    "df.groupby([pd.cut(df['Age'], cuts)]).mean()"
   ]
  },
  {
   "cell_type": "code",
   "execution_count": 131,
   "metadata": {
    "colab": {
     "base_uri": "https://localhost:8080/",
     "height": 855
    },
    "id": "HcEHWH4squ4P",
    "outputId": "f01091e9-dcdf-4e3c-cbf4-060e8a576bc1"
   },
   "outputs": [
    {
     "name": "stderr",
     "output_type": "stream",
     "text": [
      "/var/folders/mf/g71cmf2x25lf58v034wnlxx40000gn/T/ipykernel_47953/1802290369.py:2: FutureWarning: The default value of numeric_only in DataFrameGroupBy.mean is deprecated. In a future version, numeric_only will default to False. Either specify numeric_only or select only columns which should be valid for the function.\n",
      "  k = df.groupby([pd.cut(df.Age, bins)]).mean()\n"
     ]
    },
    {
     "data": {
      "image/png": "[encoded data removed]",
      "text/plain": [
       "<Figure size 640x480 with 1 Axes>"
      ]
     },
     "metadata": {},
     "output_type": "display_data"
    }
   ],
   "source": [
    "def plot_age_by_survived(df, bins, label=None):\n",
    "    k = df.groupby([pd.cut(df.Age, bins)]).mean()\n",
    "    plt.errorbar(k.Age, k.Survived*100, fmt='-o', label=label)\n",
    "    if label is not None:\n",
    "        plt.legend()\n",
    "    plt.xlabel('Age (years)')\n",
    "    plt.ylabel('Survived (%)')\n",
    "\n",
    "plot_age_by_survived(df, cuts)"
   ]
  },
  {
   "cell_type": "code",
   "execution_count": 134,
   "metadata": {},
   "outputs": [
    {
     "name": "stderr",
     "output_type": "stream",
     "text": [
      "/var/folders/mf/g71cmf2x25lf58v034wnlxx40000gn/T/ipykernel_47953/1802290369.py:2: FutureWarning: The default value of numeric_only in DataFrameGroupBy.mean is deprecated. In a future version, numeric_only will default to False. Either specify numeric_only or select only columns which should be valid for the function.\n",
      "  k = df.groupby([pd.cut(df.Age, bins)]).mean()\n",
      "/var/folders/mf/g71cmf2x25lf58v034wnlxx40000gn/T/ipykernel_47953/1802290369.py:2: FutureWarning: The default value of numeric_only in DataFrameGroupBy.mean is deprecated. In a future version, numeric_only will default to False. Either specify numeric_only or select only columns which should be valid for the function.\n",
      "  k = df.groupby([pd.cut(df.Age, bins)]).mean()\n"
     ]
    },
    {
     "data": {
      "image/png": "[encoded data removed]",
      "text/plain": [
       "<Figure size 640x480 with 1 Axes>"
      ]
     },
     "metadata": {},
     "output_type": "display_data"
    }
   ],
   "source": [
    "for sex in ['female', 'male']:\n",
    "    plot_age_by_survived(df.loc[df['Sex']==sex,:], bins=cuts, label=sex)"
   ]
  },
  {
   "cell_type": "code",
   "execution_count": null,
   "metadata": {},
   "outputs": [],
   "source": []
  }
 ],
 "metadata": {
  "colab": {
   "provenance": []
  },
  "kernelspec": {
   "display_name": "Python 3 (ipykernel)",
   "language": "python",
   "name": "python3"
  },
  "language_info": {
   "codemirror_mode": {
    "name": "ipython",
    "version": 3
   },
   "file_extension": ".py",
   "mimetype": "text/x-python",
   "name": "python",
   "nbconvert_exporter": "python",
   "pygments_lexer": "ipython3",
   "version": "3.10.8"
  }
 },
 "nbformat": 4,
 "nbformat_minor": 1
}
