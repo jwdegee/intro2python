{
 "cells": [
  {
   "cell_type": "markdown",
   "metadata": {
    "id": "_wxCZIm6q3FM"
   },
   "source": [
    "# Numpy"
   ]
  },
  {
   "cell_type": "code",
   "execution_count": null,
   "metadata": {
    "id": "CgpVJFpn-Pwa"
   },
   "outputs": [],
   "source": [
    "import numpy as np\n",
    "import scipy as sp\n",
    "import matplotlib.pyplot as plt"
   ]
  },
  {
   "cell_type": "markdown",
   "metadata": {
    "id": "ktJOAlcnrCBQ"
   },
   "source": [
    "## Creating numpy arrays"
   ]
  },
  {
   "cell_type": "code",
   "execution_count": null,
   "metadata": {
    "colab": {
     "base_uri": "https://localhost:8080/"
    },
    "id": "tOw1VXlorQND",
    "outputId": "449a891c-fa0e-4d6c-a4d1-1c87a0e1011c"
   },
   "outputs": [],
   "source": [
    "v = np.array([1,2,3,4])  # a vector\n",
    "v"
   ]
  },
  {
   "cell_type": "code",
   "execution_count": null,
   "metadata": {
    "colab": {
     "base_uri": "https://localhost:8080/"
    },
    "id": "5PYwwP0vrQPa",
    "outputId": "c4df6529-b85f-469d-efa8-3ee86a9b4361"
   },
   "outputs": [],
   "source": [
    "M = np.array([ [1,2],[3,4] ]) # a matrix\n",
    "M"
   ]
  },
  {
   "cell_type": "code",
   "execution_count": null,
   "metadata": {
    "colab": {
     "base_uri": "https://localhost:8080/"
    },
    "id": "me6K_QakrQRr",
    "outputId": "d2c09761-d10c-4d1c-d560-7fd423a5f561"
   },
   "outputs": [],
   "source": [
    "print(type(v))\n",
    "print(type(M))"
   ]
  },
  {
   "cell_type": "code",
   "execution_count": null,
   "metadata": {
    "colab": {
     "base_uri": "https://localhost:8080/"
    },
    "id": "OqOHnJm0rQT1",
    "outputId": "5bd52616-4efb-4fc5-eb3f-16c71937c08f"
   },
   "outputs": [],
   "source": [
    "print(v.shape)\n",
    "print(M.shape) # the shape is different"
   ]
  },
  {
   "cell_type": "code",
   "execution_count": null,
   "metadata": {
    "colab": {
     "base_uri": "https://localhost:8080/"
    },
    "id": "NJjyL3sMrQWN",
    "outputId": "5397776f-b53f-4d1c-d30c-9a674132e5be"
   },
   "outputs": [],
   "source": [
    "print(v.size)\n",
    "print(M.size) # same number of elements"
   ]
  },
  {
   "cell_type": "code",
   "execution_count": null,
   "metadata": {
    "colab": {
     "base_uri": "https://localhost:8080/",
     "height": 200
    },
    "id": "hGHm1rrhrQYV",
    "outputId": "47476255-5bd8-4345-ab97-d8c0a32e1bbe"
   },
   "outputs": [],
   "source": [
    "print(v.dtype) # data type\n",
    "v[0] = \"hello\" # therefore, does not work"
   ]
  },
  {
   "cell_type": "code",
   "execution_count": null,
   "metadata": {
    "colab": {
     "base_uri": "https://localhost:8080/"
    },
    "id": "LtzWU5dBrQaq",
    "outputId": "1ae982d9-2051-4269-973b-9caeb7f7084e"
   },
   "outputs": [],
   "source": [
    "z = np.array(['1', '2', '3']) # does work\n",
    "z"
   ]
  },
  {
   "cell_type": "code",
   "execution_count": null,
   "metadata": {
    "colab": {
     "base_uri": "https://localhost:8080/"
    },
    "id": "zcwJJwjwrQdW",
    "outputId": "ff43d359-7fe6-4c63-d217-0ec557ad7b42"
   },
   "outputs": [],
   "source": [
    "v = np.array([1,2,3], dtype='str') # also works (common type are: int, float, complex, bool, object)\n",
    "v = v.astype(int)\n",
    "v"
   ]
  },
  {
   "cell_type": "markdown",
   "metadata": {
    "id": "71OaUOThriB3"
   },
   "source": [
    "## Array generating functions"
   ]
  },
  {
   "cell_type": "code",
   "execution_count": null,
   "metadata": {
    "colab": {
     "base_uri": "https://localhost:8080/"
    },
    "id": "hqqICRrlrnBe",
    "outputId": "035a5bf0-29a7-40a8-f02c-5f4a0c63cb76"
   },
   "outputs": [],
   "source": [
    "np.arange(0, 10, 1) # creates a range. arguments: start, stop (stop - step), step"
   ]
  },
  {
   "cell_type": "code",
   "execution_count": null,
   "metadata": {
    "colab": {
     "base_uri": "https://localhost:8080/"
    },
    "id": "duamdfSCrnEA",
    "outputId": "c1fcd917-6abb-4b80-9a15-819f12d5e200"
   },
   "outputs": [],
   "source": [
    "np.linspace(0, 10, 26) # creates a range. arguments: start, stop, num"
   ]
  },
  {
   "cell_type": "code",
   "execution_count": null,
   "metadata": {
    "colab": {
     "base_uri": "https://localhost:8080/"
    },
    "id": "cxtU00y2rnGZ",
    "outputId": "c7cc214d-abf9-4f89-cf63-3de3c327a4ae"
   },
   "outputs": [],
   "source": [
    "np.logspace(0, 10, 10, base=np.e) # creates a range in log-space. arguments: start, stop, num"
   ]
  },
  {
   "cell_type": "code",
   "execution_count": null,
   "metadata": {
    "colab": {
     "base_uri": "https://localhost:8080/"
    },
    "id": "426iUBVgrnI2",
    "outputId": "129d0dcb-b12a-4efc-8dce-307d3bf7c8d9"
   },
   "outputs": [],
   "source": [
    "np.random.rand(5,5) # uniform random numbers in [0,1]. arguments: shape"
   ]
  },
  {
   "cell_type": "code",
   "execution_count": null,
   "metadata": {
    "colab": {
     "base_uri": "https://localhost:8080/"
    },
    "id": "d7WuYXhornLH",
    "outputId": "5c6321d0-b193-4f94-b419-1f8852bc7448"
   },
   "outputs": [],
   "source": [
    "np.random.randn(5,5) # standard normal distributed random numbers. arguments: shape"
   ]
  },
  {
   "cell_type": "code",
   "execution_count": null,
   "metadata": {
    "colab": {
     "base_uri": "https://localhost:8080/"
    },
    "id": "JQ_wZBxcrnNc",
    "outputId": "52719f59-272f-4e58-ed45-10ebe01da5d8"
   },
   "outputs": [],
   "source": [
    "np.diag([1,2,3]) # a diagonal matrix. arguments: array (if 2D, the diag is returned)"
   ]
  },
  {
   "cell_type": "code",
   "execution_count": null,
   "metadata": {
    "colab": {
     "base_uri": "https://localhost:8080/"
    },
    "id": "u6rfAYJxrnPx",
    "outputId": "05e684e2-aaee-46d0-c25f-995194bf7eca"
   },
   "outputs": [],
   "source": [
    "np.diag([1,2,3], k=1) # diagonal with offset from the main diagonal. arguments: array, offset"
   ]
  },
  {
   "cell_type": "code",
   "execution_count": null,
   "metadata": {
    "colab": {
     "base_uri": "https://localhost:8080/"
    },
    "id": "96QdwdAirnSp",
    "outputId": "8f79dd1d-ab83-404a-acb2-2968c640df48"
   },
   "outputs": [],
   "source": [
    "np.zeros((3,3)) # zeros"
   ]
  },
  {
   "cell_type": "code",
   "execution_count": null,
   "metadata": {
    "colab": {
     "base_uri": "https://localhost:8080/"
    },
    "id": "Snm9CGF8rwwI",
    "outputId": "40464a6b-a910-4a18-9911-faaf8046a7ed"
   },
   "outputs": [],
   "source": [
    "np.ones((3,3)) # ones"
   ]
  },
  {
   "cell_type": "code",
   "execution_count": null,
   "metadata": {
    "colab": {
     "base_uri": "https://localhost:8080/"
    },
    "id": "qHqm3vv7rwyg",
    "outputId": "ffc4a467-9b4a-4610-a166-30a866b86315"
   },
   "outputs": [],
   "source": [
    "np.zeros((3,3), dtype=bool) # boolean data type"
   ]
  },
  {
   "cell_type": "markdown",
   "metadata": {
    "id": "SBOLoeLxr2Zk"
   },
   "source": [
    "## Manipulating arrays - Indexing"
   ]
  },
  {
   "cell_type": "code",
   "execution_count": null,
   "metadata": {
    "colab": {
     "base_uri": "https://localhost:8080/"
    },
    "id": "RoerdaNyr5Yt",
    "outputId": "a6258877-b830-40c0-9c97-bffea5a3e3c3"
   },
   "outputs": [],
   "source": [
    "v = np.array([1,2,3,4])\n",
    "M = np.array([[1,2],[3,4]])\n",
    "print(v)\n",
    "print()\n",
    "print(M)"
   ]
  },
  {
   "cell_type": "code",
   "execution_count": null,
   "metadata": {
    "colab": {
     "base_uri": "https://localhost:8080/"
    },
    "id": "tqXMH0pmr5bF",
    "outputId": "2998a1d1-180d-40f8-d390-8fb22a22d807"
   },
   "outputs": [],
   "source": [
    "v[0] # v is a vector, and has only one dimension, taking one index"
   ]
  },
  {
   "cell_type": "code",
   "execution_count": null,
   "metadata": {
    "colab": {
     "base_uri": "https://localhost:8080/"
    },
    "id": "XyBGjpD4sPtX",
    "outputId": "92ab7298-ab2f-42c2-dc88-ade3edf984eb"
   },
   "outputs": [],
   "source": [
    "M[1,1] # M is a matrix, or a 2 dimensional array, taking two indices "
   ]
  },
  {
   "cell_type": "code",
   "execution_count": null,
   "metadata": {
    "colab": {
     "base_uri": "https://localhost:8080/"
    },
    "id": "29R9fMClr5da",
    "outputId": "f52d4a5d-d598-464f-cec4-01891b2feebe"
   },
   "outputs": [],
   "source": [
    "M[1,:] # row 1"
   ]
  },
  {
   "cell_type": "code",
   "execution_count": null,
   "metadata": {
    "colab": {
     "base_uri": "https://localhost:8080/"
    },
    "id": "pQe4TpC5sNoi",
    "outputId": "f4c4af90-480e-4f3c-d0f7-338e82e3afba"
   },
   "outputs": [],
   "source": [
    "M[:,1] # column 1"
   ]
  },
  {
   "cell_type": "code",
   "execution_count": null,
   "metadata": {
    "colab": {
     "base_uri": "https://localhost:8080/"
    },
    "id": "z7i46FCer5fq",
    "outputId": "e1ca8563-ecee-4e24-d680-80b1c219f1a7"
   },
   "outputs": [],
   "source": [
    "M[0,0] = 10 # assign new values to elements in an array using indexing\n",
    "M"
   ]
  },
  {
   "cell_type": "code",
   "execution_count": null,
   "metadata": {
    "colab": {
     "base_uri": "https://localhost:8080/"
    },
    "id": "ewV_ZAiAr5h2",
    "outputId": "2aea7979-19f6-4541-bcdd-12f9641aca1a"
   },
   "outputs": [],
   "source": [
    "M[1,:] = 0 # also works for rows\n",
    "M"
   ]
  },
  {
   "cell_type": "code",
   "execution_count": null,
   "metadata": {
    "colab": {
     "base_uri": "https://localhost:8080/"
    },
    "id": "x4v1RhcTr5kK",
    "outputId": "0c23c2d4-6a8d-4300-d02f-d9be7dd0972a"
   },
   "outputs": [],
   "source": [
    "M[:,1] = -1 # and columns\n",
    "M"
   ]
  },
  {
   "cell_type": "markdown",
   "metadata": {
    "id": "G4Dfyb6usiDN"
   },
   "source": [
    "## Manipulating arrays - Slicing"
   ]
  },
  {
   "cell_type": "code",
   "execution_count": null,
   "metadata": {
    "colab": {
     "base_uri": "https://localhost:8080/"
    },
    "id": "x1KUOZtZs39y",
    "outputId": "be6b9792-5667-476c-920e-2b8219a86c5e"
   },
   "outputs": [],
   "source": [
    "v = np.arange(8)\n",
    "v"
   ]
  },
  {
   "cell_type": "code",
   "execution_count": null,
   "metadata": {
    "colab": {
     "base_uri": "https://localhost:8080/"
    },
    "id": "9sALzLPVs4AB",
    "outputId": "2f013d5d-5b78-4719-c9a9-864816e316be"
   },
   "outputs": [],
   "source": [
    "v[1:3] # lower:upper:step"
   ]
  },
  {
   "cell_type": "code",
   "execution_count": null,
   "metadata": {
    "colab": {
     "base_uri": "https://localhost:8080/"
    },
    "id": "VU80Ouvbs4CT",
    "outputId": "0b2018b0-4876-4c0f-ba00-3661ddb9d890"
   },
   "outputs": [],
   "source": [
    "v[1:3] = [-2,-3] # assign new values to elements in an array using slicing\n",
    "v"
   ]
  },
  {
   "cell_type": "code",
   "execution_count": null,
   "metadata": {
    "colab": {
     "base_uri": "https://localhost:8080/"
    },
    "id": "GEnwwjLes4Eb",
    "outputId": "839791c3-ed25-439f-8424-8aa0c7e905ba"
   },
   "outputs": [],
   "source": [
    "v[::] # lower, upper, step all take the default values"
   ]
  },
  {
   "cell_type": "code",
   "execution_count": null,
   "metadata": {
    "colab": {
     "base_uri": "https://localhost:8080/"
    },
    "id": "ZJYBhwpQs4Gg",
    "outputId": "f1f8a3b4-c81e-4dfb-cc35-35f771854c86"
   },
   "outputs": [],
   "source": [
    "v[::2] # step is 2, lower and upper defaults to the beginning and end of the array"
   ]
  },
  {
   "cell_type": "code",
   "execution_count": null,
   "metadata": {
    "colab": {
     "base_uri": "https://localhost:8080/"
    },
    "id": "u86D8fj5s4JF",
    "outputId": "5ddb3f1e-1ab2-45dd-e075-78f9d7608e06"
   },
   "outputs": [],
   "source": [
    "v[:3] # first three elements"
   ]
  },
  {
   "cell_type": "code",
   "execution_count": null,
   "metadata": {
    "colab": {
     "base_uri": "https://localhost:8080/"
    },
    "id": "JxJh-Fsss4LU",
    "outputId": "013ef65f-d72a-4b59-bfb0-ba8886faf6a3"
   },
   "outputs": [],
   "source": [
    "v[3:] # elements from index 3"
   ]
  },
  {
   "cell_type": "code",
   "execution_count": null,
   "metadata": {
    "colab": {
     "base_uri": "https://localhost:8080/"
    },
    "id": "CbOpx9TMtPzY",
    "outputId": "19312bb7-3bf4-4e34-a117-23c578d53646"
   },
   "outputs": [],
   "source": [
    "v[-1] # the last element in the array"
   ]
  },
  {
   "cell_type": "code",
   "execution_count": null,
   "metadata": {
    "colab": {
     "base_uri": "https://localhost:8080/"
    },
    "id": "u1Im8GFUtP1t",
    "outputId": "2e7d43cf-0a1e-45a1-8efa-2bdc96a90bff"
   },
   "outputs": [],
   "source": [
    "v[-3:] # the last three elements"
   ]
  },
  {
   "cell_type": "code",
   "execution_count": null,
   "metadata": {
    "colab": {
     "base_uri": "https://localhost:8080/"
    },
    "id": "dwCmyh8BtP4N",
    "outputId": "8ff416dd-f9fb-400e-8896-b464608664fe"
   },
   "outputs": [],
   "source": [
    "M = np.array([[1,2,3,4],[5,6,7,8],[9,10,11,12],[13,14,15,16]])\n",
    "M"
   ]
  },
  {
   "cell_type": "code",
   "execution_count": null,
   "metadata": {
    "colab": {
     "base_uri": "https://localhost:8080/"
    },
    "id": "2w0isD4YtP6f",
    "outputId": "ebe7ea68-2794-4408-8c4b-ba98055ea5ce"
   },
   "outputs": [],
   "source": [
    "M[1:3, 1:3] # a block from the original array"
   ]
  },
  {
   "cell_type": "code",
   "execution_count": null,
   "metadata": {
    "colab": {
     "base_uri": "https://localhost:8080/"
    },
    "id": "9fTBh5Rdtknk",
    "outputId": "cf13ca8b-2d96-47b5-ab5e-4498e54995ef"
   },
   "outputs": [],
   "source": [
    "M[::2, ::2] # strides"
   ]
  },
  {
   "cell_type": "markdown",
   "metadata": {
    "id": "PzCnRdD1uPrX"
   },
   "source": [
    "## Fancy indexing (makes a copy)"
   ]
  },
  {
   "cell_type": "code",
   "execution_count": null,
   "metadata": {
    "colab": {
     "base_uri": "https://localhost:8080/"
    },
    "id": "e3dH9VRVulVR",
    "outputId": "35360fb5-bf11-4b68-a35b-fc77e7334e76"
   },
   "outputs": [],
   "source": [
    "row_indices = [1, 2, 3] # fancy indexing is the name for when an array or list is used in-place of an index:\n",
    "M[row_indices,:]"
   ]
  },
  {
   "cell_type": "code",
   "execution_count": null,
   "metadata": {
    "colab": {
     "base_uri": "https://localhost:8080/"
    },
    "id": "wz9V_HIwulXj",
    "outputId": "dd008e0f-7469-44fb-b856-5240039b3303"
   },
   "outputs": [],
   "source": [
    "col_indices = [1, 2, -1] # remember, index -1 means the last element\n",
    "M[row_indices, col_indices]"
   ]
  },
  {
   "cell_type": "code",
   "execution_count": null,
   "metadata": {
    "colab": {
     "base_uri": "https://localhost:8080/"
    },
    "id": "bhFytx71ulZ7",
    "outputId": "ca13172c-45a6-47ff-ca6f-426551df872b"
   },
   "outputs": [],
   "source": [
    "# We can also use index masks: If the index mask is an Numpy array of data type bool, \n",
    "# then an element is selected (True) or not (False) depending on the value of the \n",
    "# index mask at the position of each element:\n",
    "\n",
    "mask = np.array([1,0,1,0,0,1,1,0], dtype=bool) \n",
    "print(v)\n",
    "print(mask)\n",
    "print(v[mask])"
   ]
  },
  {
   "cell_type": "code",
   "execution_count": null,
   "metadata": {
    "colab": {
     "base_uri": "https://localhost:8080/"
    },
    "id": "_U9MJWe3ulco",
    "outputId": "6326519c-b6f2-4469-829e-8395f58e603b"
   },
   "outputs": [],
   "source": [
    "mask = (M>2) & (M < 13) # conditionally select elements from an array, using for example comparison operators (need the parentheses)\n",
    "print(mask)\n",
    "print(M[mask])"
   ]
  },
  {
   "cell_type": "code",
   "execution_count": null,
   "metadata": {
    "colab": {
     "base_uri": "https://localhost:8080/"
    },
    "id": "uQBX1FI_vOzD",
    "outputId": "77b2d4e9-c0df-48d5-c25d-0296c6fc0b77"
   },
   "outputs": [],
   "source": [
    "indices = np.where(mask) # the index mask can be converted to position index using the where function\n",
    "print(indices)\n",
    "print(M[indices])"
   ]
  },
  {
   "cell_type": "markdown",
   "metadata": {
    "id": "x56Bj6s9vYLr"
   },
   "source": [
    "## Element-wise array-array operations"
   ]
  },
  {
   "cell_type": "code",
   "execution_count": null,
   "metadata": {
    "colab": {
     "base_uri": "https://localhost:8080/"
    },
    "id": "lEOo8DoBvdYM",
    "outputId": "f7aad005-5427-47bf-ec9a-ae67dbbf9020"
   },
   "outputs": [],
   "source": [
    "# Default in Python; in Matlab one needs . for element-wise operations\n",
    "\n",
    "v = np.arange(4)\n",
    "M = np.array([[1,2,3,4],[5,6,7,8],[9,10,11,12],[13,14,15,16]])\n",
    "\n",
    "print(v)\n",
    "print()\n",
    "print(M)"
   ]
  },
  {
   "cell_type": "code",
   "execution_count": null,
   "metadata": {
    "colab": {
     "base_uri": "https://localhost:8080/"
    },
    "id": "vyLt8dunvdiV",
    "outputId": "15b7455a-bfbd-4707-edde-8c6109025d77"
   },
   "outputs": [],
   "source": [
    "M * 2 # use the usual arithmetic operators to multiply, add, subtract, and divide arrays with scalar numbers"
   ]
  },
  {
   "cell_type": "code",
   "execution_count": null,
   "metadata": {
    "colab": {
     "base_uri": "https://localhost:8080/"
    },
    "id": "KA0SqXrdvdlB",
    "outputId": "1a65f18b-6d69-4630-b396-ae48dd3c36f4"
   },
   "outputs": [],
   "source": [
    "M + 2"
   ]
  },
  {
   "cell_type": "code",
   "execution_count": null,
   "metadata": {
    "colab": {
     "base_uri": "https://localhost:8080/"
    },
    "id": "egJuiDjjvdoQ",
    "outputId": "39d5787c-2dd2-454c-e7f6-b27d4fded27d"
   },
   "outputs": [],
   "source": [
    "M * M # when adding, subtracting, multiplying and dividing arrays with each other, the default behaviour is element-wise operations"
   ]
  },
  {
   "cell_type": "code",
   "execution_count": null,
   "metadata": {
    "colab": {
     "base_uri": "https://localhost:8080/"
    },
    "id": "32FfIzdBvtFT",
    "outputId": "5ec68806-b1eb-42bb-e633-eb9ae286c23f"
   },
   "outputs": [],
   "source": [
    "M + M"
   ]
  },
  {
   "cell_type": "code",
   "execution_count": null,
   "metadata": {
    "colab": {
     "base_uri": "https://localhost:8080/"
    },
    "id": "X0DZJZ6pvtHo",
    "outputId": "5b4fddc8-8215-4392-91e8-b86b15236c15"
   },
   "outputs": [],
   "source": [
    "M * v # why does this work?"
   ]
  },
  {
   "cell_type": "code",
   "execution_count": null,
   "metadata": {
    "colab": {
     "base_uri": "https://localhost:8080/"
    },
    "id": "G55BrT8avtKV",
    "outputId": "7e9ad325-3c7d-445e-f9f4-195498a83caa"
   },
   "outputs": [],
   "source": [
    "M + v"
   ]
  },
  {
   "cell_type": "markdown",
   "metadata": {
    "id": "Eh07ddjGv0Ni"
   },
   "source": [
    "## Broadcasting rules\n",
    "\n",
    "Broadcasting refers to the method that Numpy uses to allow array arithmetic between arrays with a different shape or size."
   ]
  },
  {
   "cell_type": "code",
   "execution_count": null,
   "metadata": {
    "colab": {
     "base_uri": "https://localhost:8080/"
    },
    "id": "lbg-tjA9v9jC",
    "outputId": "4fb5596a-b3d0-48c0-a89a-14780d9ace24"
   },
   "outputs": [],
   "source": [
    "# scalar and one-dimensional\n",
    "a = np.array([1, 2, 3])\n",
    "b = 2\n",
    "print('a = ')\n",
    "print(a)\n",
    "print()\n",
    "print('b = ')\n",
    "print(b)\n",
    "print()\n",
    "print('a + b = ')\n",
    "print(a+b)"
   ]
  },
  {
   "cell_type": "code",
   "execution_count": null,
   "metadata": {
    "colab": {
     "base_uri": "https://localhost:8080/"
    },
    "id": "RoX5HcrOv9lX",
    "outputId": "c787bcd1-c720-4c12-c962-ec57034c83aa"
   },
   "outputs": [],
   "source": [
    "# scalar and two-dimensional\n",
    "a = np.array([[1, 2, 3], [1, 2, 3]])\n",
    "b = 2\n",
    "print('a = ')\n",
    "print(a)\n",
    "print()\n",
    "print('b = ')\n",
    "print(b)\n",
    "print()\n",
    "print('a + b = ')\n",
    "print(a+b)"
   ]
  },
  {
   "cell_type": "code",
   "execution_count": null,
   "metadata": {
    "colab": {
     "base_uri": "https://localhost:8080/"
    },
    "id": "HArEx2b1v9oA",
    "outputId": "04665d1b-0367-47df-e721-1d392bc4135a"
   },
   "outputs": [],
   "source": [
    "# one-dimensional and two-dimensional\n",
    "a = np.array([[1, 2, 3], [1, 2, 3]])\n",
    "b = np.array([1, 2, 3])\n",
    "print('a = ')\n",
    "print(a)\n",
    "print()\n",
    "print('b = ')\n",
    "print(b)\n",
    "print()\n",
    "print('a + b = ')\n",
    "print(a+b)"
   ]
  },
  {
   "cell_type": "code",
   "execution_count": null,
   "metadata": {
    "colab": {
     "base_uri": "https://localhost:8080/",
     "height": 357
    },
    "id": "ul_Z04CTv9xK",
    "outputId": "0acae5ca-b646-4586-f5d1-d85e16c0c713"
   },
   "outputs": [],
   "source": [
    "# mismatch:\n",
    "a = np.ones((3, 2))\n",
    "b = np.arange(3)\n",
    "print('a = ')\n",
    "print(a)\n",
    "print()\n",
    "print('b = ')\n",
    "print(b)\n",
    "print()\n",
    "print('a + b = ')\n",
    "print(a+b)"
   ]
  },
  {
   "cell_type": "markdown",
   "metadata": {
    "id": "9QoxyH45w5Z2"
   },
   "source": [
    "## Linear algebra"
   ]
  },
  {
   "cell_type": "code",
   "execution_count": null,
   "metadata": {
    "colab": {
     "base_uri": "https://localhost:8080/"
    },
    "id": "E9WabU2xxLVv",
    "outputId": "cb866c10-578b-467d-8568-52c9f15f259f"
   },
   "outputs": [],
   "source": [
    "v = np.arange(4)\n",
    "M = np.array([[1,2,3,4],[5,6,7,8],[9,10,11,12],[13,14,15,16]])\n",
    "print(v)\n",
    "print()\n",
    "print(M)"
   ]
  },
  {
   "cell_type": "code",
   "execution_count": null,
   "metadata": {
    "colab": {
     "base_uri": "https://localhost:8080/"
    },
    "id": "VE-KSZsvxLYU",
    "outputId": "0bacee0c-5121-4abf-e0db-3681384d2dda"
   },
   "outputs": [],
   "source": [
    "np.dot(M, M) # matrix-matrix multiplication"
   ]
  },
  {
   "cell_type": "code",
   "execution_count": null,
   "metadata": {
    "colab": {
     "base_uri": "https://localhost:8080/"
    },
    "id": "hv6GWRzYxLas",
    "outputId": "2d4f33b5-ef6a-4ce4-e403-7c83e85080ef"
   },
   "outputs": [],
   "source": [
    "a = np.dot(M, v) # matrix-vector multiplication\n",
    "print(type(a))\n",
    "print(a)"
   ]
  },
  {
   "cell_type": "code",
   "execution_count": null,
   "metadata": {
    "colab": {
     "base_uri": "https://localhost:8080/"
    },
    "id": "L1Kc4RK_xLcU",
    "outputId": "723dfc96-6bec-404e-acae-50029a0805d0"
   },
   "outputs": [],
   "source": [
    "np.dot(v, v) # inner vector multiplication"
   ]
  },
  {
   "cell_type": "code",
   "execution_count": null,
   "metadata": {
    "colab": {
     "base_uri": "https://localhost:8080/"
    },
    "id": "AOkQL9daxLeu",
    "outputId": "20a2848a-61cc-4919-dfea-deb8cd0518dc"
   },
   "outputs": [],
   "source": [
    "M = np.matrix(M) # cast to matrix\n",
    "M"
   ]
  },
  {
   "cell_type": "code",
   "execution_count": null,
   "metadata": {
    "colab": {
     "base_uri": "https://localhost:8080/"
    },
    "id": "6FP_CEKKxLg7",
    "outputId": "fa50df60-bbde-4931-c821-91104d6d21bf"
   },
   "outputs": [],
   "source": [
    "v = np.matrix(v).T # cast to matrix; make it a column vector via transpose\n",
    "v"
   ]
  },
  {
   "cell_type": "code",
   "execution_count": null,
   "metadata": {
    "colab": {
     "base_uri": "https://localhost:8080/"
    },
    "id": "uJtFsfDzxLjW",
    "outputId": "f722cc73-6737-4806-91c1-d73cbce426f8"
   },
   "outputs": [],
   "source": [
    "M * M # matrix-matrix multiplication"
   ]
  },
  {
   "cell_type": "code",
   "execution_count": null,
   "metadata": {
    "colab": {
     "base_uri": "https://localhost:8080/"
    },
    "id": "6VvdUjQtxLoK",
    "outputId": "584016cf-a58c-4ae0-f88f-6571af821c39"
   },
   "outputs": [],
   "source": [
    "M * v # matrix-vector multiplication"
   ]
  },
  {
   "cell_type": "code",
   "execution_count": null,
   "metadata": {
    "colab": {
     "base_uri": "https://localhost:8080/"
    },
    "id": "6GkEBfb0xopA",
    "outputId": "cbe1d898-7840-444f-fd5d-e605945d4268"
   },
   "outputs": [],
   "source": [
    "v.T * v # inner vector multiplication"
   ]
  },
  {
   "cell_type": "code",
   "execution_count": null,
   "metadata": {
    "colab": {
     "base_uri": "https://localhost:8080/",
     "height": 322
    },
    "id": "i_5pH1u_xorM",
    "outputId": "1316bf1a-67a1-4d22-dbef-86efdaaee771"
   },
   "outputs": [],
   "source": [
    "v * M # if we try to add, subtract or multiply objects with incomplatible shapes we get an error"
   ]
  },
  {
   "cell_type": "code",
   "execution_count": null,
   "metadata": {
    "colab": {
     "base_uri": "https://localhost:8080/"
    },
    "id": "FztUF0z2xotu",
    "outputId": "bdcc7283-9509-49fd-fb2e-83cecb508261"
   },
   "outputs": [],
   "source": [
    "np.linalg.det(M) # determinant"
   ]
  },
  {
   "cell_type": "code",
   "execution_count": null,
   "metadata": {
    "colab": {
     "base_uri": "https://localhost:8080/",
     "height": 346
    },
    "id": "td3XapiCyBnq",
    "outputId": "cfa79068-4819-4b24-d0bc-e866d0d590f1"
   },
   "outputs": [],
   "source": [
    "np.linalg.inv(M) # inverse"
   ]
  },
  {
   "cell_type": "markdown",
   "metadata": {
    "id": "xCmQ02WMyK-x"
   },
   "source": [
    "## Data processing"
   ]
  },
  {
   "cell_type": "code",
   "execution_count": null,
   "metadata": {
    "colab": {
     "base_uri": "https://localhost:8080/"
    },
    "id": "4q_2j5omxwpG",
    "outputId": "e59fbef6-929d-4a77-d8d3-716e217cdfef"
   },
   "outputs": [],
   "source": [
    "M = np.arange(16).reshape((8,2))\n",
    "M"
   ]
  },
  {
   "cell_type": "code",
   "execution_count": null,
   "metadata": {
    "colab": {
     "base_uri": "https://localhost:8080/"
    },
    "id": "wXqptCl5qusT",
    "outputId": "4d5266ec-8e58-4617-dd80-f5f9e06b8599"
   },
   "outputs": [],
   "source": [
    "print(np.mean(M))\n",
    "\n",
    "print(M.mean())\n",
    "\n",
    "print(np.mean(M, axis=0)) # can specify several axes\n",
    "\n",
    "print(M.mean(axis=0))\n",
    "\n",
    "print(M.mean(axis=1))"
   ]
  },
  {
   "cell_type": "code",
   "execution_count": null,
   "metadata": {
    "colab": {
     "base_uri": "https://localhost:8080/"
    },
    "id": "mq00EeaV_1Ec",
    "outputId": "edfff419-d7d8-4f02-b2b3-7b06fe0d552a"
   },
   "outputs": [],
   "source": [
    "print(M)\n",
    "\n",
    "print(np.median(M))\n",
    "\n",
    "print(np.std(M))\n",
    "\n",
    "print(np.var(M))\n",
    "\n",
    "print(np.min(M))\n",
    "\n",
    "print(np.max(M))\n",
    "\n",
    "print(np.sum(M)) # sum up all elements\n",
    "\n",
    "print(np.cumsum(M)) # cummulative sum\n",
    "\n",
    "print(np.prod(M + 1)) # product of all elements"
   ]
  },
  {
   "cell_type": "markdown",
   "metadata": {
    "id": "BjAoHjVUyYlc"
   },
   "source": [
    "## Reshaping, resizing and stacking arrays"
   ]
  },
  {
   "cell_type": "code",
   "execution_count": null,
   "metadata": {
    "colab": {
     "base_uri": "https://localhost:8080/"
    },
    "id": "ljL2h5yryW1V",
    "outputId": "7c22803b-abed-461b-af1f-a9e4420227c8"
   },
   "outputs": [],
   "source": [
    "v = np.array([[1, 2, 3, 4]])\n",
    "v2 = np.array([[11, 12, 13, 14]])\n",
    "M = np.array([[1,2,3,4],[5,6,7,8],[9,10,11,12],[13,14,15,16]])\n",
    "\n",
    "print(v)\n",
    "print()\n",
    "print(v2)\n",
    "print()\n",
    "print(M)"
   ]
  },
  {
   "cell_type": "code",
   "execution_count": null,
   "metadata": {
    "colab": {
     "base_uri": "https://localhost:8080/"
    },
    "id": "vtVXVpd_AhHl",
    "outputId": "72861e7c-ea6c-43a8-e210-c7f3b578da96"
   },
   "outputs": [],
   "source": [
    "n, m = M.shape # make into vector:\n",
    "M.reshape((1,n*m))"
   ]
  },
  {
   "cell_type": "code",
   "execution_count": null,
   "metadata": {
    "id": "A4oo06k7AnUJ"
   },
   "outputs": [],
   "source": [
    "M = np.arange(1,17).reshape(4,4)\n",
    "M"
   ]
  },
  {
   "cell_type": "code",
   "execution_count": null,
   "metadata": {
    "id": "8ei6CXALv8OI"
   },
   "outputs": [],
   "source": [
    "M.flatten() # make into vector (again returns a copy)\n",
    "M.ravel() # make into vector (does not return a copy)\n",
    "M"
   ]
  },
  {
   "cell_type": "code",
   "execution_count": null,
   "metadata": {
    "id": "lWrqubpZv8RP"
   },
   "outputs": [],
   "source": [
    "M.reshape((2,8)) # reshape into 2 rows, 8 columns"
   ]
  },
  {
   "cell_type": "code",
   "execution_count": null,
   "metadata": {
    "colab": {
     "base_uri": "https://localhost:8080/"
    },
    "id": "bLzNx7FYv8VJ",
    "outputId": "54bbb4cf-53d1-4451-8851-84436dc54736"
   },
   "outputs": [],
   "source": [
    "print(np.repeat(v, 3)) # repeat each element 3 times\n",
    "\n",
    "print(np.tile(v, 3)) # tile the matrix 3 times"
   ]
  },
  {
   "cell_type": "code",
   "execution_count": null,
   "metadata": {
    "colab": {
     "base_uri": "https://localhost:8080/"
    },
    "id": "GwXNsjJYBYw5",
    "outputId": "54abf0f0-59e9-4053-924e-ce50ccd3b043"
   },
   "outputs": [],
   "source": [
    "print(np.concatenate((v, v2))) # concatenate 2 vectors (default across first dimension)\n",
    "print()\n",
    "print(np.concatenate((v, v2), axis=1)) # concatenate 2 vectors across second dimension"
   ]
  },
  {
   "cell_type": "code",
   "execution_count": null,
   "metadata": {
    "colab": {
     "base_uri": "https://localhost:8080/"
    },
    "id": "mTXUcfuerN65",
    "outputId": "7cf83911-48d0-4afc-cbe5-239ad7e97f56"
   },
   "outputs": [],
   "source": [
    "np.vstack((M,v)) # stack vertically"
   ]
  },
  {
   "cell_type": "code",
   "execution_count": null,
   "metadata": {
    "colab": {
     "base_uri": "https://localhost:8080/",
     "height": 374
    },
    "id": "cwsz25ysrOIw",
    "outputId": "6e681103-e6ab-4308-bea6-d36ba5e3e74e"
   },
   "outputs": [],
   "source": [
    "np.hstack((M,v)) # stack horizontally --> dimension mismatch"
   ]
  },
  {
   "cell_type": "code",
   "execution_count": null,
   "metadata": {
    "colab": {
     "base_uri": "https://localhost:8080/"
    },
    "id": "ooUYwkXvrOLT",
    "outputId": "9dc94ec0-a72a-49be-d418-35f089d4f203"
   },
   "outputs": [],
   "source": [
    "np.hstack((M,v.T)) # stack horizontally "
   ]
  },
  {
   "cell_type": "markdown",
   "metadata": {
    "id": "SNnJhsy_Cven"
   },
   "source": [
    "# Scipy + Matplotlib"
   ]
  },
  {
   "cell_type": "markdown",
   "metadata": {
    "id": "KwP8URUVCzXW"
   },
   "source": [
    "## Curve fitting"
   ]
  },
  {
   "cell_type": "code",
   "execution_count": null,
   "metadata": {
    "colab": {
     "base_uri": "https://localhost:8080/",
     "height": 401
    },
    "id": "UR77U6PprOQU",
    "outputId": "5b84893f-afbb-426c-dc61-75c1bbf55301"
   },
   "outputs": [],
   "source": [
    "from scipy.optimize import curve_fit\n",
    "\n",
    "def fitFunc(t, a, b, c):\n",
    "    return a*np.exp(-b*t) + c\n",
    "    \n",
    "t = np.linspace(0,4,50)\n",
    "temp = fitFunc(t, 5.0, 1.5, 0.5)\n",
    "noisy = temp + 0.25*np.random.normal(size=len(temp))\n",
    "\n",
    "plt.figure()\n",
    "plt.errorbar(t, noisy, fmt='ro', yerr=0.2) # plot the data as red circles with vertical errorbars\n",
    "plt.ylabel('Temperature (C)')\n",
    "plt.xlabel('time (s)')\n",
    "plt.xlim(0,4.1)\n",
    "\n",
    "fitParams, fitCovariances = curve_fit(fitFunc, t, noisy)\n",
    "print(' fit coefficients:\\n', fitParams)\n",
    "print(' Covariance matrix:\\n', fitCovariances)\n",
    "plt.plot(t, fitFunc(t, *fitParams)) # now plot the best fit curve"
   ]
  },
  {
   "cell_type": "markdown",
   "metadata": {
    "id": "y_VeY4c0Cd5J"
   },
   "source": [
    "## Interpolation"
   ]
  },
  {
   "cell_type": "code",
   "execution_count": null,
   "metadata": {
    "colab": {
     "base_uri": "https://localhost:8080/",
     "height": 337
    },
    "id": "wLsINjhirOVB",
    "outputId": "10a5d5e4-6352-48d3-d01a-1c32295bb1a4"
   },
   "outputs": [],
   "source": [
    "from scipy.interpolate import interp1d\n",
    "\n",
    "def f(x):\n",
    "    return np.sin(x)\n",
    "    \n",
    "n = np.arange(0, 10)  \n",
    "x = np.linspace(0, 9, 100)\n",
    "\n",
    "y_meas = f(n) + 0.1 * sp.randn(len(n)) # simulate measurement with noise\n",
    "y_real = f(x)\n",
    "\n",
    "linear_interpolation = interp1d(n, y_meas)\n",
    "y_interp1 = linear_interpolation(x)\n",
    "\n",
    "cubic_interpolation = interp1d(n, y_meas, kind='cubic')\n",
    "y_interp2 = cubic_interpolation(x)\n",
    "\n",
    "plt.figure()\n",
    "plt.plot(n, y_meas, 'bs', label='noisy data')\n",
    "plt.plot(x, y_real, 'k', lw=2, label='true function')\n",
    "plt.plot(x, y_interp1, 'r', label='linear interp')\n",
    "plt.plot(x, y_interp2, 'g', label='cubic interp')\n",
    "plt.legend(loc=3)"
   ]
  },
  {
   "cell_type": "markdown",
   "metadata": {
    "id": "ONfbu1JkC46a"
   },
   "source": [
    "## Fourier transform"
   ]
  },
  {
   "cell_type": "code",
   "execution_count": null,
   "metadata": {
    "colab": {
     "base_uri": "https://localhost:8080/",
     "height": 590
    },
    "id": "fjkRG8syrOXp",
    "outputId": "619d40a0-3869-4ec5-97a6-8bcf831a7b88"
   },
   "outputs": [],
   "source": [
    "from scipy.fftpack import fft\n",
    "\n",
    "N = 300 # number of samplepoints\n",
    "T = 1 / 1000.0 # sample spacing\n",
    "x = np.linspace(0.0, N*T, N)\n",
    "y = np.sin(50.0 * 2.0*np.pi*x) + 0.5*np.sin(80.0 * 2.0*np.pi*x)\n",
    "\n",
    "plt.figure()\n",
    "plt.plot(x,y)\n",
    "plt.title('Signal')\n",
    "plt.xlabel('Time (s)')\n",
    "plt.ylabel('Amplitude (a.u.)')\n",
    "\n",
    "yf = fft(y)\n",
    "xf = np.linspace(0.0, 1.0/(2.0*T), int(N/2))\n",
    "\n",
    "plt.figure()\n",
    "plt.plot(xf, 2.0/N * np.abs(yf[:N//2]))\n",
    "plt.title('Fourier transform')\n",
    "plt.xlabel('Frequency (s)')\n",
    "plt.ylabel('Amplitude (Hz)')"
   ]
  },
  {
   "cell_type": "markdown",
   "metadata": {
    "id": "TnMb7_V5EBK4"
   },
   "source": [
    "## Statistics"
   ]
  },
  {
   "cell_type": "code",
   "execution_count": null,
   "metadata": {
    "colab": {
     "base_uri": "https://localhost:8080/",
     "height": 404
    },
    "id": "8taCp0MJrOac",
    "outputId": "55f1837e-5a8c-4c4d-8170-48d3a0ec6ccb"
   },
   "outputs": [],
   "source": [
    "from scipy import stats\n",
    "\n",
    "# T-TEST:\n",
    "\n",
    "x1 = np.random.normal(loc=0, scale=1, size=50)\n",
    "x2 = np.random.normal(loc=.5, scale=1, size=50)\n",
    "\n",
    "plt.figure()\n",
    "plt.hist(x1, bins=10, alpha=0.5, label='x1')\n",
    "plt.hist(x2, bins=10, alpha=0.5, label='x2')\n",
    "plt.legend()\n",
    "\n",
    "t, p = sp.stats.ttest_ind(x1, x2)\n",
    "print('x1 vs x2\\nind. t-test: t = {}; p = {}'.format(round(t,4), round(p,4)))\n",
    "\n",
    "t, p = sp.stats.ttest_rel(x1, x2)\n",
    "print('x1 vs x2\\npaired t-test: t = {}; p = {}'.format(round(t,4), round(p,4)))\n",
    "\n",
    "t, p = sp.stats.ttest_1samp(x1, 0)\n",
    "print('x1 vs 0\\n1 sample t-test: t = {}; p = {}'.format(round(t,4), round(p,4)))\n",
    "\n",
    "t, p = sp.stats.ttest_1samp(x2, 0)\n",
    "print('x2 vs 0\\n1 sample t-test: t = {}; p = {}'.format(round(t,4), round(p,4)))"
   ]
  },
  {
   "cell_type": "code",
   "execution_count": null,
   "metadata": {
    "colab": {
     "base_uri": "https://localhost:8080/",
     "height": 366
    },
    "id": "4cQjG7ogquuX",
    "outputId": "25ee6a15-f888-437e-9888-29b17f064e53"
   },
   "outputs": [],
   "source": [
    "# REGRESSION:\n",
    "\n",
    "x = np.random.normal(loc=0, scale=1, size=50)\n",
    "y = x + np.random.normal(loc=0, scale=2, size=50)\n",
    "\n",
    "r, p = sp.stats.pearsonr(x, y)\n",
    "print('correlation x and y\\npearson r = {}; p = {}'.format(round(r,4), round(p,4)))\n",
    "\n",
    "r, p = sp.stats.spearmanr(x, y)\n",
    "print('correlation x and y\\nspearman r = {}; p = {}'.format(round(r,4), round(p,4)))\n",
    "\n",
    "plt.figure()\n",
    "plt.plot(x,y,'o')\n",
    "plt.xlabel('x (a.u.)')\n",
    "plt.ylabel('y (a.u.)')\n",
    "\n",
    "# calc the trendline\n",
    "coefs = np.polyfit(x, y, 1)\n",
    "poly = np.poly1d(coefs)\n",
    "plt.plot(x, poly(x), \"r\")"
   ]
  },
  {
   "cell_type": "code",
   "execution_count": null,
   "metadata": {
    "colab": {
     "base_uri": "https://localhost:8080/",
     "height": 320
    },
    "id": "1po-bPtUquwq",
    "outputId": "9a7eddfd-2f7a-4a32-d716-627a61876327"
   },
   "outputs": [],
   "source": [
    "import pandas as pd\n",
    "\n",
    "df = pd.read_csv('https://raw.githubusercontent.com/datasciencedojo/datasets/master/titanic.csv') # Get this from kaggle: https://www.kaggle.com/c/titanic\n",
    "\n",
    "df.head()"
   ]
  },
  {
   "cell_type": "code",
   "execution_count": null,
   "metadata": {
    "colab": {
     "base_uri": "https://localhost:8080/"
    },
    "id": "LFWbv9rl4f-T",
    "outputId": "b1bbdf91-2487-428d-db2e-5b4d027d8748"
   },
   "outputs": [],
   "source": [
    "df['Pclass']"
   ]
  },
  {
   "cell_type": "code",
   "execution_count": null,
   "metadata": {},
   "outputs": [],
   "source": [
    "df['Pclass'].unique()"
   ]
  },
  {
   "cell_type": "code",
   "execution_count": null,
   "metadata": {
    "colab": {
     "base_uri": "https://localhost:8080/"
    },
    "id": "6Bc1h1WC4KIA",
    "outputId": "98d8fdce-648e-4857-b41f-11fa9f3b016f"
   },
   "outputs": [],
   "source": [
    "(df.loc[df['Pclass']==1, 'Sex'] == 'male').mean()"
   ]
  },
  {
   "cell_type": "code",
   "execution_count": null,
   "metadata": {},
   "outputs": [],
   "source": [
    "age = []\n",
    "for s in [1,0]:\n",
    "    age.append(df.loc[df['Survived']==s, 'Age'].mean())\n",
    "age"
   ]
  },
  {
   "cell_type": "code",
   "execution_count": null,
   "metadata": {
    "colab": {
     "base_uri": "https://localhost:8080/"
    },
    "id": "uuF-GoruquzA",
    "outputId": "4b9170c6-3853-4d93-9ed3-0b6523c64abe"
   },
   "outputs": [],
   "source": [
    "age_male = []\n",
    "age_female = []\n",
    "for survived in df['Survived'].unique():\n",
    "    for sex in df['Sex'].unique():\n",
    "        if sex == 'male':\n",
    "            age_male.append(df.loc[(df['Survived']==survived)&(df['Sex']==sex), 'Age'].mean())\n",
    "        elif sex == 'female':\n",
    "            age_female.append(df.loc[(df['Survived']==survived)&(df['Sex']==sex), 'Age'].mean())\n",
    "print(age_male)\n",
    "print(age_female)"
   ]
  },
  {
   "cell_type": "code",
   "execution_count": null,
   "metadata": {
    "colab": {
     "base_uri": "https://localhost:8080/",
     "height": 206
    },
    "id": "rcpzjlVFqu1m",
    "outputId": "3fef80f2-20fe-48aa-d310-2d0f2ac188ad"
   },
   "outputs": [],
   "source": [
    "df.groupby(['Survived', 'Sex']).mean()"
   ]
  },
  {
   "cell_type": "code",
   "execution_count": null,
   "metadata": {
    "colab": {
     "base_uri": "https://localhost:8080/"
    },
    "id": "E3cQzXpiHfEx",
    "outputId": "e2cd9275-84b4-4555-dfcc-fb91be03d09d"
   },
   "outputs": [],
   "source": [
    "cuts = np.linspace(0, 100, 11)\n",
    "print(cuts)\n",
    "\n",
    "pd.cut(df.Age, cuts)"
   ]
  },
  {
   "cell_type": "code",
   "execution_count": null,
   "metadata": {
    "colab": {
     "base_uri": "https://localhost:8080/",
     "height": 855
    },
    "id": "HcEHWH4squ4P",
    "outputId": "f01091e9-dcdf-4e3c-cbf4-060e8a576bc1"
   },
   "outputs": [],
   "source": [
    "def plot_age_by_survived(df, bins, label=None):\n",
    "    k = df.groupby([pd.cut(df.Age, bins)]).mean()\n",
    "    plt.errorbar(k.Age, k.Survived*100, fmt='-o', label=label)\n",
    "    if label is not None:\n",
    "        plt.legend()\n",
    "    plt.xlabel('Age (years)')\n",
    "    plt.ylabel('Survived (%)')\n",
    "\n",
    "plot_age_by_survived(df, cuts)"
   ]
  },
  {
   "cell_type": "code",
   "execution_count": null,
   "metadata": {},
   "outputs": [],
   "source": [
    "for sex in ['female', 'male']:\n",
    "    plot_age_by_survived(df.loc[df['Sex']==sex,:], bins=cuts, label=sex)"
   ]
  },
  {
   "cell_type": "code",
   "execution_count": null,
   "metadata": {},
   "outputs": [],
   "source": []
  }
 ],
 "metadata": {
  "colab": {
   "provenance": []
  },
  "kernelspec": {
   "display_name": "Python 3 (ipykernel)",
   "language": "python",
   "name": "python3"
  },
  "language_info": {
   "codemirror_mode": {
    "name": "ipython",
    "version": 3
   },
   "file_extension": ".py",
   "mimetype": "text/x-python",
   "name": "python",
   "nbconvert_exporter": "python",
   "pygments_lexer": "ipython3",
   "version": "3.10.8"
  }
 },
 "nbformat": 4,
 "nbformat_minor": 1
}
